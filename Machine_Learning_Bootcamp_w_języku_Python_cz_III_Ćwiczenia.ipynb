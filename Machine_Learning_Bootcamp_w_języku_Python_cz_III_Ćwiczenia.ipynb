{
  "nbformat": 4,
  "nbformat_minor": 0,
  "metadata": {
    "colab": {
      "name": " Machine Learning Bootcamp w języku Python cz.III - Ćwiczenia.ipynb",
      "provenance": [],
      "collapsed_sections": [
        "-sBBI0dopgNV",
        "oBHVUtuLvr3f",
        "Jc4npSocxabS",
        "NJIXUPNU9893",
        "KGxgw9pHQZyv",
        "Ed0YlXt1Rgk4",
        "mmXuejhksM8O",
        "ZCzCm8BfyjIg",
        "hA1IFMf30pCI",
        "SkoW44wpGLDe",
        "a22cPOMJfl9y",
        "kjk0CBMKg4Of"
      ],
      "toc_visible": true
    },
    "kernelspec": {
      "name": "python3",
      "display_name": "Python 3"
    },
    "language_info": {
      "name": "python"
    }
  },
  "cells": [
    {
      "cell_type": "markdown",
      "metadata": {
        "id": "A7XqLT1ug91g"
      },
      "source": [
        "# Wersja sklearn"
      ]
    },
    {
      "cell_type": "markdown",
      "metadata": {
        "id": "Hz3aKagJDSu1"
      },
      "source": [
        "## 0 instalacja, update, wersja sklearn"
      ]
    },
    {
      "cell_type": "code",
      "metadata": {
        "colab": {
          "base_uri": "https://localhost:8080/"
        },
        "id": "LePdiYWwDxG4",
        "outputId": "df867394-e3d2-4bd8-a389-4fa6e888b780"
      },
      "source": [
        "pip install -U scikit-learn # instalacja najnowszej wersji scikit-learn"
      ],
      "execution_count": null,
      "outputs": [
        {
          "output_type": "stream",
          "text": [
            "Requirement already satisfied: scikit-learn in /usr/local/lib/python3.7/dist-packages (0.24.2)\n",
            "Requirement already satisfied: joblib>=0.11 in /usr/local/lib/python3.7/dist-packages (from scikit-learn) (1.0.1)\n",
            "Requirement already satisfied: threadpoolctl>=2.0.0 in /usr/local/lib/python3.7/dist-packages (from scikit-learn) (2.2.0)\n",
            "Requirement already satisfied: scipy>=0.19.1 in /usr/local/lib/python3.7/dist-packages (from scikit-learn) (1.4.1)\n",
            "Requirement already satisfied: numpy>=1.13.3 in /usr/local/lib/python3.7/dist-packages (from scikit-learn) (1.19.5)\n"
          ],
          "name": "stdout"
        }
      ]
    },
    {
      "cell_type": "code",
      "metadata": {
        "colab": {
          "base_uri": "https://localhost:8080/",
          "height": 35
        },
        "id": "LefsYWOMCnim",
        "outputId": "1ed0ef03-be1d-4a66-aed0-e525c114f32b"
      },
      "source": [
        "import sklearn\n",
        "\n",
        "sklearn.__version__"
      ],
      "execution_count": null,
      "outputs": [
        {
          "output_type": "execute_result",
          "data": {
            "application/vnd.google.colaboratory.intrinsic+json": {
              "type": "string"
            },
            "text/plain": [
              "'0.24.2'"
            ]
          },
          "metadata": {
            "tags": []
          },
          "execution_count": 4
        }
      ]
    },
    {
      "cell_type": "code",
      "metadata": {
        "colab": {
          "base_uri": "https://localhost:8080/"
        },
        "id": "qWcRW4TjD-CB",
        "outputId": "a820c1bc-cf7a-401b-e82f-84b744c3e3b6"
      },
      "source": [
        "pip show scikit-learn # pokazanie wersji sklearn przez pip"
      ],
      "execution_count": null,
      "outputs": [
        {
          "output_type": "stream",
          "text": [
            "Name: scikit-learn\n",
            "Version: 0.24.2\n",
            "Summary: A set of python modules for machine learning and data mining\n",
            "Home-page: http://scikit-learn.org\n",
            "Author: None\n",
            "Author-email: None\n",
            "License: new BSD\n",
            "Location: /usr/local/lib/python3.7/dist-packages\n",
            "Requires: threadpoolctl, numpy, joblib, scipy\n",
            "Required-by: yellowbrick, sklearn, sklearn-pandas, mlxtend, lightgbm, librosa, imbalanced-learn\n"
          ],
          "name": "stdout"
        }
      ]
    },
    {
      "cell_type": "markdown",
      "metadata": {
        "id": "WUHyEPYqQ3_b"
      },
      "source": [
        "# Modele - wszystkie biblioteki"
      ]
    },
    {
      "cell_type": "markdown",
      "metadata": {
        "id": "E1qE8ltbK8Y9"
      },
      "source": [
        "## Przygotowanie modelu"
      ]
    },
    {
      "cell_type": "markdown",
      "metadata": {
        "id": "bKxLBvQ_K_Ci"
      },
      "source": [
        "### 37 - ekstrakcja cech wielomianowych 2 stopnia"
      ]
    },
    {
      "cell_type": "code",
      "metadata": {
        "id": "Q65pLGITLHWS"
      },
      "source": [
        "import numpy as np\n",
        "import pandas as pd\n",
        "from sklearn.preprocessing import PolynomialFeatures\n",
        " \n",
        " \n",
        "np.set_printoptions(suppress=True, precision=3)\n",
        "df = pd.read_csv('data.csv')\n",
        " \n",
        "poly = PolynomialFeatures(degree=2)\n",
        " \n",
        "df_poly = poly.fit_transform(df)\n",
        "print(df_poly)"
      ],
      "execution_count": null,
      "outputs": []
    },
    {
      "cell_type": "markdown",
      "metadata": {
        "id": "mYsoAVs1LDtz"
      },
      "source": [
        "### 38 - ekstrakcja cech wielomianowych 3 stopnia"
      ]
    },
    {
      "cell_type": "code",
      "metadata": {
        "id": "jGi84cGkLHqV"
      },
      "source": [
        "# data.csv jest na udemy\n",
        "\n",
        "import numpy as np\n",
        "import pandas as pd\n",
        "from sklearn.preprocessing import PolynomialFeatures\n",
        "\n",
        "\n",
        "np.set_printoptions(suppress=True, precision=3, linewidth=150)\n",
        "\n",
        "df = pd.read_csv('data.csv')\n",
        "\n",
        "pf = PolynomialFeatures(degree = 3)\n",
        "\n",
        "ndf = pf.fit_transform(df)\n",
        "\n",
        "print(ndf)"
      ],
      "execution_count": null,
      "outputs": []
    },
    {
      "cell_type": "markdown",
      "metadata": {
        "id": "tu_6mzvOQ6cY"
      },
      "source": [
        "## Regresja liniowa"
      ]
    },
    {
      "cell_type": "markdown",
      "metadata": {
        "id": "meZH8Nryfpgl"
      },
      "source": [
        "### 34 scikit - równanie normalne, wyznaczenie równania prostej"
      ]
    },
    {
      "cell_type": "code",
      "metadata": {
        "colab": {
          "base_uri": "https://localhost:8080/",
          "height": 235
        },
        "id": "Wzuyj1a7ftXg",
        "outputId": "4c3ae1a6-2635-4302-95df-1edd5259f0a4"
      },
      "source": [
        "import numpy as np\n",
        "import pandas as pd\n",
        "\n",
        "\n",
        "df = pd.DataFrame({'years': [1, 2, 3, 4, 5, 6],\n",
        "                   'salary': [4000, 4250, 4500, 4750, 5000, 5250]})\n",
        "df"
      ],
      "execution_count": null,
      "outputs": [
        {
          "output_type": "execute_result",
          "data": {
            "text/html": [
              "<div>\n",
              "<style scoped>\n",
              "    .dataframe tbody tr th:only-of-type {\n",
              "        vertical-align: middle;\n",
              "    }\n",
              "\n",
              "    .dataframe tbody tr th {\n",
              "        vertical-align: top;\n",
              "    }\n",
              "\n",
              "    .dataframe thead th {\n",
              "        text-align: right;\n",
              "    }\n",
              "</style>\n",
              "<table border=\"1\" class=\"dataframe\">\n",
              "  <thead>\n",
              "    <tr style=\"text-align: right;\">\n",
              "      <th></th>\n",
              "      <th>years</th>\n",
              "      <th>salary</th>\n",
              "    </tr>\n",
              "  </thead>\n",
              "  <tbody>\n",
              "    <tr>\n",
              "      <th>0</th>\n",
              "      <td>1</td>\n",
              "      <td>4000</td>\n",
              "    </tr>\n",
              "    <tr>\n",
              "      <th>1</th>\n",
              "      <td>2</td>\n",
              "      <td>4250</td>\n",
              "    </tr>\n",
              "    <tr>\n",
              "      <th>2</th>\n",
              "      <td>3</td>\n",
              "      <td>4500</td>\n",
              "    </tr>\n",
              "    <tr>\n",
              "      <th>3</th>\n",
              "      <td>4</td>\n",
              "      <td>4750</td>\n",
              "    </tr>\n",
              "    <tr>\n",
              "      <th>4</th>\n",
              "      <td>5</td>\n",
              "      <td>5000</td>\n",
              "    </tr>\n",
              "    <tr>\n",
              "      <th>5</th>\n",
              "      <td>6</td>\n",
              "      <td>5250</td>\n",
              "    </tr>\n",
              "  </tbody>\n",
              "</table>\n",
              "</div>"
            ],
            "text/plain": [
              "   years  salary\n",
              "0      1    4000\n",
              "1      2    4250\n",
              "2      3    4500\n",
              "3      4    4750\n",
              "4      5    5000\n",
              "5      6    5250"
            ]
          },
          "metadata": {
            "tags": []
          },
          "execution_count": 1
        }
      ]
    },
    {
      "cell_type": "code",
      "metadata": {
        "colab": {
          "base_uri": "https://localhost:8080/"
        },
        "id": "Swr8XeKogTl0",
        "outputId": "2aba0af7-9e60-4194-c652-477e1a5576d3"
      },
      "source": [
        "X = np.array(df['years']).reshape(len(df['years']),1)\n",
        "X"
      ],
      "execution_count": null,
      "outputs": [
        {
          "output_type": "execute_result",
          "data": {
            "text/plain": [
              "array([[1],\n",
              "       [2],\n",
              "       [3],\n",
              "       [4],\n",
              "       [5],\n",
              "       [6]])"
            ]
          },
          "metadata": {
            "tags": []
          },
          "execution_count": 25
        }
      ]
    },
    {
      "cell_type": "code",
      "metadata": {
        "colab": {
          "base_uri": "https://localhost:8080/"
        },
        "id": "f_j_d6aTgxRP",
        "outputId": "7e2a6056-b441-491d-ae0b-4a4594661a47"
      },
      "source": [
        "Y = np.array(df['salary'])\n",
        "Y"
      ],
      "execution_count": null,
      "outputs": [
        {
          "output_type": "execute_result",
          "data": {
            "text/plain": [
              "array([4000, 4250, 4500, 4750, 5000, 5250])"
            ]
          },
          "metadata": {
            "tags": []
          },
          "execution_count": 26
        }
      ]
    },
    {
      "cell_type": "code",
      "metadata": {
        "colab": {
          "base_uri": "https://localhost:8080/"
        },
        "id": "GXldTfA1g1cS",
        "outputId": "5f33586a-34ba-4cf5-af4d-fc52a75cc67c"
      },
      "source": [
        "from sklearn.linear_model import LinearRegression\n",
        "\n",
        "lr = LinearRegression()\n",
        "\n",
        "lr.fit(X, Y)\n",
        "\n",
        "print('Linear regression: {} + {}x'.format(round(lr.intercept_,2),round(lr.coef_[0],2)))"
      ],
      "execution_count": null,
      "outputs": [
        {
          "output_type": "stream",
          "text": [
            "Linear regression: 3750.0 + 250.0x\n"
          ],
          "name": "stdout"
        }
      ]
    },
    {
      "cell_type": "markdown",
      "metadata": {
        "id": "_pL8VbweotQ3"
      },
      "source": [
        "### 35 implementacja - równanie normalne, rownanie prostej"
      ]
    },
    {
      "cell_type": "code",
      "metadata": {
        "colab": {
          "base_uri": "https://localhost:8080/",
          "height": 235
        },
        "id": "VFMZ_PqBoxUh",
        "outputId": "75c09714-5439-4344-9af5-3475591ddff4"
      },
      "source": [
        "import numpy as np\n",
        "import pandas as pd\n",
        "from sklearn.linear_model import LinearRegression\n",
        "\n",
        "\n",
        "df = pd.DataFrame({'years': [1, 2, 3, 4, 5, 6],\n",
        "                   'salary': [4000, 4250, 4500, 4750, 5000, 5250]})\n",
        "\n",
        "df"
      ],
      "execution_count": null,
      "outputs": [
        {
          "output_type": "execute_result",
          "data": {
            "text/html": [
              "<div>\n",
              "<style scoped>\n",
              "    .dataframe tbody tr th:only-of-type {\n",
              "        vertical-align: middle;\n",
              "    }\n",
              "\n",
              "    .dataframe tbody tr th {\n",
              "        vertical-align: top;\n",
              "    }\n",
              "\n",
              "    .dataframe thead th {\n",
              "        text-align: right;\n",
              "    }\n",
              "</style>\n",
              "<table border=\"1\" class=\"dataframe\">\n",
              "  <thead>\n",
              "    <tr style=\"text-align: right;\">\n",
              "      <th></th>\n",
              "      <th>years</th>\n",
              "      <th>salary</th>\n",
              "    </tr>\n",
              "  </thead>\n",
              "  <tbody>\n",
              "    <tr>\n",
              "      <th>0</th>\n",
              "      <td>1</td>\n",
              "      <td>4000</td>\n",
              "    </tr>\n",
              "    <tr>\n",
              "      <th>1</th>\n",
              "      <td>2</td>\n",
              "      <td>4250</td>\n",
              "    </tr>\n",
              "    <tr>\n",
              "      <th>2</th>\n",
              "      <td>3</td>\n",
              "      <td>4500</td>\n",
              "    </tr>\n",
              "    <tr>\n",
              "      <th>3</th>\n",
              "      <td>4</td>\n",
              "      <td>4750</td>\n",
              "    </tr>\n",
              "    <tr>\n",
              "      <th>4</th>\n",
              "      <td>5</td>\n",
              "      <td>5000</td>\n",
              "    </tr>\n",
              "    <tr>\n",
              "      <th>5</th>\n",
              "      <td>6</td>\n",
              "      <td>5250</td>\n",
              "    </tr>\n",
              "  </tbody>\n",
              "</table>\n",
              "</div>"
            ],
            "text/plain": [
              "   years  salary\n",
              "0      1    4000\n",
              "1      2    4250\n",
              "2      3    4500\n",
              "3      4    4750\n",
              "4      5    5000\n",
              "5      6    5250"
            ]
          },
          "metadata": {
            "tags": []
          },
          "execution_count": 30
        }
      ]
    },
    {
      "cell_type": "code",
      "metadata": {
        "id": "O-Xb2foPrGR5"
      },
      "source": [
        ""
      ],
      "execution_count": null,
      "outputs": []
    },
    {
      "cell_type": "code",
      "metadata": {
        "colab": {
          "base_uri": "https://localhost:8080/"
        },
        "id": "FONSNaWlo1Ep",
        "outputId": "221148c1-3b47-49b1-da80-a1058d43bd3c"
      },
      "source": [
        "X = np.array(df[['years']]).reshape(len(df['years']),1)\n",
        "print(X)\n",
        "bias = np.ones((len(X),1))\n",
        "print(bias)\n",
        "X = np.append(bias, X, axis = 1)\n",
        "X"
      ],
      "execution_count": null,
      "outputs": [
        {
          "output_type": "stream",
          "text": [
            "[[1]\n",
            " [2]\n",
            " [3]\n",
            " [4]\n",
            " [5]\n",
            " [6]]\n",
            "[[1.]\n",
            " [1.]\n",
            " [1.]\n",
            " [1.]\n",
            " [1.]\n",
            " [1.]]\n"
          ],
          "name": "stdout"
        },
        {
          "output_type": "execute_result",
          "data": {
            "text/plain": [
              "array([[1., 1.],\n",
              "       [1., 2.],\n",
              "       [1., 3.],\n",
              "       [1., 4.],\n",
              "       [1., 5.],\n",
              "       [1., 6.]])"
            ]
          },
          "metadata": {
            "tags": []
          },
          "execution_count": 51
        }
      ]
    },
    {
      "cell_type": "code",
      "metadata": {
        "colab": {
          "base_uri": "https://localhost:8080/"
        },
        "id": "iGybz8ObpIKm",
        "outputId": "92090dd9-42e1-4536-f895-2255d1befceb"
      },
      "source": [
        "Y = np.array(df[['salary']])\n",
        "Y"
      ],
      "execution_count": null,
      "outputs": [
        {
          "output_type": "execute_result",
          "data": {
            "text/plain": [
              "array([[4000],\n",
              "       [4250],\n",
              "       [4500],\n",
              "       [4750],\n",
              "       [5000],\n",
              "       [5250]])"
            ]
          },
          "metadata": {
            "tags": []
          },
          "execution_count": 44
        }
      ]
    },
    {
      "cell_type": "code",
      "metadata": {
        "colab": {
          "base_uri": "https://localhost:8080/"
        },
        "id": "-UzrOzvjpVtw",
        "outputId": "cc987a29-4168-48a8-8d84-ce799b7c2fcc"
      },
      "source": [
        "L = np.linalg.inv(np.dot(X.T,X))\n",
        "L"
      ],
      "execution_count": null,
      "outputs": [
        {
          "output_type": "execute_result",
          "data": {
            "text/plain": [
              "array([[ 0.86666667, -0.2       ],\n",
              "       [-0.2       ,  0.05714286]])"
            ]
          },
          "metadata": {
            "tags": []
          },
          "execution_count": 52
        }
      ]
    },
    {
      "cell_type": "code",
      "metadata": {
        "colab": {
          "base_uri": "https://localhost:8080/"
        },
        "id": "cw0YBxK5qloT",
        "outputId": "5b3b39d5-e533-4a4d-ee93-00fadcdd120b"
      },
      "source": [
        "R = np.dot(X.T,Y)\n",
        "R"
      ],
      "execution_count": null,
      "outputs": [
        {
          "output_type": "execute_result",
          "data": {
            "text/plain": [
              "array([[ 27750.],\n",
              "       [101500.]])"
            ]
          },
          "metadata": {
            "tags": []
          },
          "execution_count": 53
        }
      ]
    },
    {
      "cell_type": "code",
      "metadata": {
        "colab": {
          "base_uri": "https://localhost:8080/"
        },
        "id": "KUYVBNgor6QX",
        "outputId": "2b7b8267-f39e-4baa-c60a-85e68813bf9e"
      },
      "source": [
        "W = np.dot(L,R)\n",
        "W"
      ],
      "execution_count": null,
      "outputs": [
        {
          "output_type": "execute_result",
          "data": {
            "text/plain": [
              "array([[3750.],\n",
              "       [ 250.]])"
            ]
          },
          "metadata": {
            "tags": []
          },
          "execution_count": 54
        }
      ]
    },
    {
      "cell_type": "code",
      "metadata": {
        "colab": {
          "base_uri": "https://localhost:8080/"
        },
        "id": "krcMN_4kr7RX",
        "outputId": "a44bf2d5-7ccc-40f5-86dd-39bbe58801fe"
      },
      "source": [
        "print( 'Linear regression: {} * {}x'.format(round(W[0][0],2),round(W[1][0],2)))"
      ],
      "execution_count": null,
      "outputs": [
        {
          "output_type": "stream",
          "text": [
            "Linear regression: 3750.0 * 250.0x\n"
          ],
          "name": "stdout"
        }
      ]
    },
    {
      "cell_type": "markdown",
      "metadata": {
        "id": "p_LmC78F5XCC"
      },
      "source": [
        "### 36 score()"
      ]
    },
    {
      "cell_type": "code",
      "metadata": {
        "id": "hnz06X5l5Zz0"
      },
      "source": [
        "# data.csv jest na udemy\n",
        "\n",
        "import numpy as np\n",
        "import pandas as pd\n",
        "from sklearn.linear_model import LinearRegression\n",
        "\n",
        "df = pd.read_csv('data.csv')\n",
        "\n",
        "lr = LinearRegression()\n",
        "\n",
        "X = np.array(df[['variable']])\n",
        "Y = np.array(df[['target']])\n",
        "\n",
        "lr.fit(X,Y)\n",
        "\n",
        "print(round(lr.score(X,Y),4))"
      ],
      "execution_count": null,
      "outputs": []
    },
    {
      "cell_type": "markdown",
      "metadata": {
        "id": "tTLYpsr2Zo8I"
      },
      "source": [
        "### 97 score()"
      ]
    },
    {
      "cell_type": "code",
      "metadata": {
        "colab": {
          "base_uri": "https://localhost:8080/"
        },
        "id": "2g--lBUBZFWK",
        "outputId": "242b5933-2b3d-4ccf-babd-8211698eaa1d"
      },
      "source": [
        "import numpy as np\n",
        "import pandas as pd\n",
        "\n",
        "from sklearn.datasets import load_boston\n",
        "from sklearn.model_selection import train_test_split\n",
        "from sklearn.linear_model import LinearRegression\n",
        "\n",
        "\n",
        "pd.set_option('display.max_columns', 15)\n",
        "pd.set_option('display.width', 150)\n",
        "raw_data = load_boston()\n",
        "\n",
        "df = pd.DataFrame(data=np.c_[raw_data.data, raw_data.target], columns=list(raw_data.feature_names) + ['target'])\n",
        "\n",
        "data = df.copy()\n",
        "target = data.pop('target')\n",
        "\n",
        "data_train, data_test, target_train, target_test = train_test_split(data, target, random_state=42)\n",
        "\n",
        "lr = LinearRegression()\n",
        "\n",
        "lr.fit(data_train, target_train)\n",
        "\n",
        "print('R^2 score:',round(lr.score(data_test,target_test),4))"
      ],
      "execution_count": 98,
      "outputs": [
        {
          "output_type": "stream",
          "text": [
            "R^2 score: 0.6844\n"
          ],
          "name": "stdout"
        }
      ]
    },
    {
      "cell_type": "markdown",
      "metadata": {
        "id": "GGhq4QkmZs9y"
      },
      "source": [
        "### 98 predict"
      ]
    },
    {
      "cell_type": "code",
      "metadata": {
        "colab": {
          "base_uri": "https://localhost:8080/"
        },
        "id": "Zc_ifMtjZxfW",
        "outputId": "29abeaa9-6210-4e79-f6ec-6e5f65df22ea"
      },
      "source": [
        "import numpy as np\n",
        "import pandas as pd\n",
        "\n",
        "from sklearn.datasets import load_boston\n",
        "from sklearn.model_selection import train_test_split\n",
        "from sklearn.linear_model import LinearRegression\n",
        "\n",
        "\n",
        "pd.set_option('display.max_columns', 15)\n",
        "pd.set_option('display.width', 150)\n",
        "raw_data = load_boston()\n",
        "\n",
        "df = pd.DataFrame(data=np.c_[raw_data.data, raw_data.target], columns=list(raw_data.feature_names) + ['target'])\n",
        "\n",
        "data = df.copy()\n",
        "target = data.pop('target')\n",
        "\n",
        "data_train, data_test, target_train, target_test = train_test_split(data, target, random_state=42)\n",
        "\n",
        "lr = LinearRegression()\n",
        "\n",
        "lr.fit(data_train, target_train)\n",
        "\n",
        "target_pred = lr.predict(data_test)\n",
        "\n",
        "print(target_pred)"
      ],
      "execution_count": 100,
      "outputs": [
        {
          "output_type": "stream",
          "text": [
            "[28.83885359 36.00783288 15.08324755 25.23090886 18.87864064 23.21398327\n",
            " 17.5931124  14.30508093 23.05438985 20.62008346 24.78514683 18.66833668\n",
            " -6.9788951  21.83575737 19.20898992 26.2868054  20.54379176  5.65713224\n",
            " 40.42358065 17.64146116 27.32258958 30.05056174 11.15013704 24.11530393\n",
            " 17.89145648 15.79348591 22.94743453 14.2586068  22.26731194 19.24709013\n",
            " 22.26897546 25.24344002 25.69165643 17.98759507 16.70286649 17.11631225\n",
            " 31.19643534 20.17835831 23.71828436 24.79196868 13.94575895 32.00389982\n",
            " 42.53869791 17.44523722 27.15354457 17.07482215 13.89272021 26.06440323\n",
            " 20.36888769 29.97813037 21.35346608 34.32287916 15.88498671 26.17757739\n",
            " 39.50970314 22.84123308 18.95049088 32.68913818 25.02057949 12.90539147\n",
            " 22.76052302 30.53884316 31.60797905 15.92162168 20.50670563 16.50798147\n",
            " 20.50202198 26.00723901 30.63860954 11.42877835 20.53765181 27.56249175\n",
            " 10.85162601 15.96871769 23.87570192  5.66369672 21.47818991 41.2820034\n",
            " 18.56559986  9.08857252 20.97848452 13.0630057  20.99054395  9.34050291\n",
            " 23.13686588 31.80106627 19.10245917 25.59186169 29.14490119 20.17571514\n",
            " 25.5962149   5.20301905 20.16835681 15.08546746 12.8601543  20.80904894\n",
            " 24.68556943 -0.77450939 13.33875673 15.62703156 22.21755358 24.58188737\n",
            " 10.77302163 19.50068376 23.23450396 11.77388822 18.36777924 25.4383785\n",
            " 20.89079232 24.08440617  7.3658717  19.16424347 21.93734133 27.41191713\n",
            " 32.50857196 14.86885244 35.05912525 12.86075113 20.83043572 28.42077138\n",
            " 15.65853688 24.67196362  3.28420892 23.79879617 25.73329894 23.04815612\n",
            " 24.73046824]\n"
          ],
          "name": "stdout"
        }
      ]
    },
    {
      "cell_type": "markdown",
      "metadata": {
        "id": "5m1bpjo5b_Q8"
      },
      "source": [
        "### 99 actual, pred, error, abs_error"
      ]
    },
    {
      "cell_type": "code",
      "metadata": {
        "colab": {
          "base_uri": "https://localhost:8080/"
        },
        "id": "9_m0hDBncCWu",
        "outputId": "cd84990d-eb3d-4913-e8ac-208840e27eb4"
      },
      "source": [
        "import numpy as np\n",
        "import pandas as pd\n",
        "\n",
        "from sklearn.datasets import load_boston\n",
        "from sklearn.model_selection import train_test_split\n",
        "from sklearn.linear_model import LinearRegression\n",
        "\n",
        "\n",
        "pd.set_option('display.max_columns', 15)\n",
        "pd.set_option('display.width', 150)\n",
        "raw_data = load_boston()\n",
        "\n",
        "df = pd.DataFrame(data=np.c_[raw_data.data, raw_data.target], columns=list(raw_data.feature_names) + ['target'])\n",
        "\n",
        "data = df.copy()\n",
        "target = data.pop('target')\n",
        "\n",
        "data_train, data_test, target_train, target_test = train_test_split(data, target, random_state=42)\n",
        "\n",
        "regressor = LinearRegression()\n",
        "regressor.fit(data_train, target_train)\n",
        "\n",
        "target_pred = regressor.predict(data_test)\n",
        "\n",
        "df = pd.DataFrame(data = np.c_[target_test, target_pred], columns = ['target_test','target_pred'])\n",
        "df['error'] = df['target_pred'] - df['target_test']\n",
        "df['abs_error'] = abs(df['error'])\n",
        "print(df)"
      ],
      "execution_count": 105,
      "outputs": [
        {
          "output_type": "stream",
          "text": [
            "     target_test  target_pred     error  abs_error\n",
            "0           23.6    28.838854  5.238854   5.238854\n",
            "1           32.4    36.007833  3.607833   3.607833\n",
            "2           13.6    15.083248  1.483248   1.483248\n",
            "3           22.8    25.230909  2.430909   2.430909\n",
            "4           16.1    18.878641  2.778641   2.778641\n",
            "..           ...          ...       ...        ...\n",
            "122          8.8     3.284209 -5.515791   5.515791\n",
            "123         19.2    23.798796  4.598796   4.598796\n",
            "124         25.3    25.733299  0.433299   0.433299\n",
            "125         20.4    23.048156  2.648156   2.648156\n",
            "126         23.1    24.730468  1.630468   1.630468\n",
            "\n",
            "[127 rows x 4 columns]\n"
          ],
          "name": "stdout"
        }
      ]
    },
    {
      "cell_type": "markdown",
      "metadata": {
        "id": "5NjEu-61PUQX"
      },
      "source": [
        "### 39 MAE - implementacja"
      ]
    },
    {
      "cell_type": "code",
      "metadata": {
        "id": "tOsEG18PPYZy"
      },
      "source": [
        "import numpy as np\n",
        "import pandas as pd\n",
        "\n",
        "pred = pd.read_csv('predictions.csv')\n",
        "\n",
        "# from sklearn.metrics import mean_absolute_error()\n",
        "\n",
        "def mean_absolute_error(y_true, y_pred):\n",
        "    return abs(y_true-y_pred).sum() / len(y_true)\n",
        "\n",
        "mae = mean_absolute_error(pred['y_true'], pred['y_pred'])\n",
        "\n",
        "print('MAE = {}'.format(round(mae,4)))"
      ],
      "execution_count": null,
      "outputs": []
    },
    {
      "cell_type": "markdown",
      "metadata": {
        "id": "caNS1jVPP7-X"
      },
      "source": [
        "### 40 MSE - implementacja"
      ]
    },
    {
      "cell_type": "code",
      "metadata": {
        "id": "SRuRoKgoP_T5"
      },
      "source": [
        "import numpy as np\n",
        "import pandas as pd\n",
        "\n",
        "import numpy as np\n",
        "import pandas as pd\n",
        "\n",
        "\n",
        "pred = pd.read_csv('predictions.csv')\n",
        "\n",
        "\n",
        "def mean_absolute_error(y_true, y_pred):\n",
        "    return ((y_true-y_pred)**2).sum() / len(y_true)\n",
        "\n",
        "mae = mean_absolute_error(pred['y_true'], pred['y_pred'])\n",
        "\n",
        "print('MSE = {}'.format(round(mae,4)))"
      ],
      "execution_count": null,
      "outputs": []
    },
    {
      "cell_type": "markdown",
      "metadata": {
        "id": "1okqljPvk-D2"
      },
      "source": [
        "## Gradient Boosting Regressor"
      ]
    },
    {
      "cell_type": "markdown",
      "metadata": {
        "id": "6QBCZS86lBHi"
      },
      "source": [
        "### 100 sci-kit"
      ]
    },
    {
      "cell_type": "code",
      "metadata": {
        "colab": {
          "base_uri": "https://localhost:8080/"
        },
        "id": "h7M7xGu9lApy",
        "outputId": "cffd97f6-e997-408a-e009-61af19e1ad84"
      },
      "source": [
        "import numpy as np\n",
        "import pandas as pd\n",
        "\n",
        "from sklearn.datasets import load_boston\n",
        "from sklearn.model_selection import train_test_split\n",
        "from sklearn.ensemble import GradientBoostingRegressor\n",
        "\n",
        "\n",
        "pd.set_option('display.max_columns', 15)\n",
        "pd.set_option('display.width', 150)\n",
        "raw_data = load_boston()\n",
        "\n",
        "df = pd.DataFrame(data=np.c_[raw_data.data, raw_data.target], columns=list(raw_data.feature_names) + ['target'])\n",
        "\n",
        "data = df.copy()\n",
        "target = data.pop('target')\n",
        "\n",
        "data_train, data_test, target_train, target_test = train_test_split(data, target, random_state=42)\n",
        "\n",
        "gbr = GradientBoostingRegressor(random_state = 42)\n",
        "\n",
        "gbr.fit(data_train, target_train)\n",
        "\n",
        "print('R^2 score:',round(gbr.score(data_test, target_test),4))"
      ],
      "execution_count": 106,
      "outputs": [
        {
          "output_type": "stream",
          "text": [
            "R^2 score: 0.8721\n"
          ],
          "name": "stdout"
        }
      ]
    },
    {
      "cell_type": "markdown",
      "metadata": {
        "id": "zsb4wylDgrwS"
      },
      "source": [
        "## Drzewa decyzyjne"
      ]
    },
    {
      "cell_type": "markdown",
      "metadata": {
        "id": "YtiMXoEQgv4A"
      },
      "source": [
        "### 44 Entropia - df.iterrows()"
      ]
    },
    {
      "cell_type": "code",
      "metadata": {
        "colab": {
          "base_uri": "https://localhost:8080/",
          "height": 363
        },
        "id": "p5aOkcUmguc3",
        "outputId": "f3e40392-066b-4ad2-a427-ba39371dbc19"
      },
      "source": [
        "import numpy as np\n",
        "import pandas as pd\n",
        "\n",
        "\n",
        "def entropy(x):\n",
        "    return np.round(-np.sum(x * np.log2(x)), 4)\n",
        "\n",
        "\n",
        "df = pd.DataFrame({'val_1': np.arange(0.01, 1.0, 0.1), 'val_2': 1 - np.arange(0.01, 1.0, 0.1)})\n",
        "df"
      ],
      "execution_count": null,
      "outputs": [
        {
          "output_type": "execute_result",
          "data": {
            "text/html": [
              "<div>\n",
              "<style scoped>\n",
              "    .dataframe tbody tr th:only-of-type {\n",
              "        vertical-align: middle;\n",
              "    }\n",
              "\n",
              "    .dataframe tbody tr th {\n",
              "        vertical-align: top;\n",
              "    }\n",
              "\n",
              "    .dataframe thead th {\n",
              "        text-align: right;\n",
              "    }\n",
              "</style>\n",
              "<table border=\"1\" class=\"dataframe\">\n",
              "  <thead>\n",
              "    <tr style=\"text-align: right;\">\n",
              "      <th></th>\n",
              "      <th>val_1</th>\n",
              "      <th>val_2</th>\n",
              "    </tr>\n",
              "  </thead>\n",
              "  <tbody>\n",
              "    <tr>\n",
              "      <th>0</th>\n",
              "      <td>0.01</td>\n",
              "      <td>0.99</td>\n",
              "    </tr>\n",
              "    <tr>\n",
              "      <th>1</th>\n",
              "      <td>0.11</td>\n",
              "      <td>0.89</td>\n",
              "    </tr>\n",
              "    <tr>\n",
              "      <th>2</th>\n",
              "      <td>0.21</td>\n",
              "      <td>0.79</td>\n",
              "    </tr>\n",
              "    <tr>\n",
              "      <th>3</th>\n",
              "      <td>0.31</td>\n",
              "      <td>0.69</td>\n",
              "    </tr>\n",
              "    <tr>\n",
              "      <th>4</th>\n",
              "      <td>0.41</td>\n",
              "      <td>0.59</td>\n",
              "    </tr>\n",
              "    <tr>\n",
              "      <th>5</th>\n",
              "      <td>0.51</td>\n",
              "      <td>0.49</td>\n",
              "    </tr>\n",
              "    <tr>\n",
              "      <th>6</th>\n",
              "      <td>0.61</td>\n",
              "      <td>0.39</td>\n",
              "    </tr>\n",
              "    <tr>\n",
              "      <th>7</th>\n",
              "      <td>0.71</td>\n",
              "      <td>0.29</td>\n",
              "    </tr>\n",
              "    <tr>\n",
              "      <th>8</th>\n",
              "      <td>0.81</td>\n",
              "      <td>0.19</td>\n",
              "    </tr>\n",
              "    <tr>\n",
              "      <th>9</th>\n",
              "      <td>0.91</td>\n",
              "      <td>0.09</td>\n",
              "    </tr>\n",
              "  </tbody>\n",
              "</table>\n",
              "</div>"
            ],
            "text/plain": [
              "   val_1  val_2\n",
              "0   0.01   0.99\n",
              "1   0.11   0.89\n",
              "2   0.21   0.79\n",
              "3   0.31   0.69\n",
              "4   0.41   0.59\n",
              "5   0.51   0.49\n",
              "6   0.61   0.39\n",
              "7   0.71   0.29\n",
              "8   0.81   0.19\n",
              "9   0.91   0.09"
            ]
          },
          "metadata": {
            "tags": []
          },
          "execution_count": 6
        }
      ]
    },
    {
      "cell_type": "code",
      "metadata": {
        "colab": {
          "base_uri": "https://localhost:8080/",
          "height": 363
        },
        "id": "_F7NMvIrnIWF",
        "outputId": "9febe27c-c66b-4e71-e9c3-bea957b4078b"
      },
      "source": [
        "df['entropy'] =df[['val_1','val_2']].apply(entropy)\n",
        "df"
      ],
      "execution_count": null,
      "outputs": [
        {
          "output_type": "execute_result",
          "data": {
            "text/html": [
              "<div>\n",
              "<style scoped>\n",
              "    .dataframe tbody tr th:only-of-type {\n",
              "        vertical-align: middle;\n",
              "    }\n",
              "\n",
              "    .dataframe tbody tr th {\n",
              "        vertical-align: top;\n",
              "    }\n",
              "\n",
              "    .dataframe thead th {\n",
              "        text-align: right;\n",
              "    }\n",
              "</style>\n",
              "<table border=\"1\" class=\"dataframe\">\n",
              "  <thead>\n",
              "    <tr style=\"text-align: right;\">\n",
              "      <th></th>\n",
              "      <th>val_1</th>\n",
              "      <th>val_2</th>\n",
              "      <th>entropy</th>\n",
              "    </tr>\n",
              "  </thead>\n",
              "  <tbody>\n",
              "    <tr>\n",
              "      <th>0</th>\n",
              "      <td>0.01</td>\n",
              "      <td>0.99</td>\n",
              "      <td>NaN</td>\n",
              "    </tr>\n",
              "    <tr>\n",
              "      <th>1</th>\n",
              "      <td>0.11</td>\n",
              "      <td>0.89</td>\n",
              "      <td>NaN</td>\n",
              "    </tr>\n",
              "    <tr>\n",
              "      <th>2</th>\n",
              "      <td>0.21</td>\n",
              "      <td>0.79</td>\n",
              "      <td>NaN</td>\n",
              "    </tr>\n",
              "    <tr>\n",
              "      <th>3</th>\n",
              "      <td>0.31</td>\n",
              "      <td>0.69</td>\n",
              "      <td>NaN</td>\n",
              "    </tr>\n",
              "    <tr>\n",
              "      <th>4</th>\n",
              "      <td>0.41</td>\n",
              "      <td>0.59</td>\n",
              "      <td>NaN</td>\n",
              "    </tr>\n",
              "    <tr>\n",
              "      <th>5</th>\n",
              "      <td>0.51</td>\n",
              "      <td>0.49</td>\n",
              "      <td>NaN</td>\n",
              "    </tr>\n",
              "    <tr>\n",
              "      <th>6</th>\n",
              "      <td>0.61</td>\n",
              "      <td>0.39</td>\n",
              "      <td>NaN</td>\n",
              "    </tr>\n",
              "    <tr>\n",
              "      <th>7</th>\n",
              "      <td>0.71</td>\n",
              "      <td>0.29</td>\n",
              "      <td>NaN</td>\n",
              "    </tr>\n",
              "    <tr>\n",
              "      <th>8</th>\n",
              "      <td>0.81</td>\n",
              "      <td>0.19</td>\n",
              "      <td>NaN</td>\n",
              "    </tr>\n",
              "    <tr>\n",
              "      <th>9</th>\n",
              "      <td>0.91</td>\n",
              "      <td>0.09</td>\n",
              "      <td>NaN</td>\n",
              "    </tr>\n",
              "  </tbody>\n",
              "</table>\n",
              "</div>"
            ],
            "text/plain": [
              "   val_1  val_2  entropy\n",
              "0   0.01   0.99      NaN\n",
              "1   0.11   0.89      NaN\n",
              "2   0.21   0.79      NaN\n",
              "3   0.31   0.69      NaN\n",
              "4   0.41   0.59      NaN\n",
              "5   0.51   0.49      NaN\n",
              "6   0.61   0.39      NaN\n",
              "7   0.71   0.29      NaN\n",
              "8   0.81   0.19      NaN\n",
              "9   0.91   0.09      NaN"
            ]
          },
          "metadata": {
            "tags": []
          },
          "execution_count": 7
        }
      ]
    },
    {
      "cell_type": "code",
      "metadata": {
        "colab": {
          "base_uri": "https://localhost:8080/"
        },
        "id": "YZlOtxhTg1T-",
        "outputId": "18717f09-f56d-485a-e75f-a4f318f92a01"
      },
      "source": [
        "df['entropy'] = [entropy([row[1][0], row[1][1]]) for row in df.iterrows()]\n",
        "print(df)"
      ],
      "execution_count": null,
      "outputs": [
        {
          "output_type": "stream",
          "text": [
            "   val_1  val_2  entropy\n",
            "0   0.01   0.99   0.0808\n",
            "1   0.11   0.89   0.4999\n",
            "2   0.21   0.79   0.7415\n",
            "3   0.31   0.69   0.8932\n",
            "4   0.41   0.59   0.9765\n",
            "5   0.51   0.49   0.9997\n",
            "6   0.61   0.39   0.9648\n",
            "7   0.71   0.29   0.8687\n",
            "8   0.81   0.19   0.7015\n",
            "9   0.91   0.09   0.4365\n"
          ],
          "name": "stdout"
        }
      ]
    },
    {
      "cell_type": "markdown",
      "metadata": {
        "id": "22ARXNn2ec8t"
      },
      "source": [
        "### 47 sci-kit - model"
      ]
    },
    {
      "cell_type": "code",
      "metadata": {
        "colab": {
          "base_uri": "https://localhost:8080/"
        },
        "id": "sveM_hkNehpd",
        "outputId": "c1099843-561c-4d56-8e70-e233a90e1277"
      },
      "source": [
        "import numpy as np\n",
        "import pandas as pd\n",
        "\n",
        "from sklearn.datasets import make_moons\n",
        "from sklearn.model_selection import train_test_split\n",
        "from sklearn.tree import DecisionTreeClassifier\n",
        "\n",
        "\n",
        "np.random.seed(42)\n",
        "raw_data = make_moons(n_samples=2000, noise=0.25, random_state=42)\n",
        "data = raw_data[0]\n",
        "target = raw_data[1]\n",
        "\n",
        "X_train, X_test, y_train, y_test = train_test_split(data, target)\n",
        "\n",
        "dtc = DecisionTreeClassifier()\n",
        "\n",
        "dtc.fit(X_train, y_train)\n",
        "\n",
        "acc = dtc.score(X_test, y_test)\n",
        "\n",
        "print('Accuracy:',round(acc,4))"
      ],
      "execution_count": null,
      "outputs": [
        {
          "output_type": "stream",
          "text": [
            "Accuracy: 0.902\n"
          ],
          "name": "stdout"
        }
      ]
    },
    {
      "cell_type": "markdown",
      "metadata": {
        "id": "57IZSM9hgYt0"
      },
      "source": [
        "### 48 sci-kit - model + max_depth"
      ]
    },
    {
      "cell_type": "code",
      "metadata": {
        "colab": {
          "base_uri": "https://localhost:8080/"
        },
        "id": "Ty3lQHaAgYHq",
        "outputId": "7551120b-1eea-4709-b82a-eddcd9156835"
      },
      "source": [
        "import numpy as np\n",
        "import pandas as pd\n",
        "\n",
        "from sklearn.datasets import make_moons\n",
        "from sklearn.model_selection import train_test_split\n",
        "from sklearn.tree import DecisionTreeClassifier\n",
        "\n",
        "\n",
        "np.random.seed(42)\n",
        "raw_data = make_moons(n_samples=2000, noise=0.25, random_state=42)\n",
        "data = raw_data[0]\n",
        "target = raw_data[1]\n",
        "\n",
        "X_train, X_test, y_train, y_test = train_test_split(data, target)\n",
        "\n",
        "dtc = DecisionTreeClassifier(max_depth=6)\n",
        "\n",
        "dtc.fit(X_train, y_train)\n",
        "\n",
        "dtc.score(X_test, y_test)"
      ],
      "execution_count": null,
      "outputs": [
        {
          "output_type": "execute_result",
          "data": {
            "text/plain": [
              "0.928"
            ]
          },
          "metadata": {
            "tags": []
          },
          "execution_count": 8
        }
      ]
    },
    {
      "cell_type": "markdown",
      "metadata": {
        "id": "dVoMyJCRhV1-"
      },
      "source": [
        "### 49 sci-kit - model + min_samples_leaf"
      ]
    },
    {
      "cell_type": "code",
      "metadata": {
        "colab": {
          "base_uri": "https://localhost:8080/"
        },
        "id": "6fq-1DFDhVj5",
        "outputId": "0815ae35-a2ce-4dd8-b2ae-0ea5025c1a00"
      },
      "source": [
        "import numpy as np\n",
        "import pandas as pd\n",
        "\n",
        "from sklearn.datasets import make_moons\n",
        "from sklearn.model_selection import train_test_split\n",
        "from sklearn.tree import DecisionTreeClassifier\n",
        "\n",
        "\n",
        "np.random.seed(42)\n",
        "raw_data = make_moons(n_samples=2000, noise=0.25, random_state=42)\n",
        "data = raw_data[0]\n",
        "target = raw_data[1]\n",
        "\n",
        "X_train, X_test, y_train, y_test = train_test_split(data, target)\n",
        "\n",
        "dtc = DecisionTreeClassifier(max_depth= 6, min_samples_leaf=6)\n",
        "\n",
        "dtc.fit(X_train, y_train)\n",
        "\n",
        "dtc.score(X_test, y_test)"
      ],
      "execution_count": null,
      "outputs": [
        {
          "output_type": "execute_result",
          "data": {
            "text/plain": [
              "0.93"
            ]
          },
          "metadata": {
            "tags": []
          },
          "execution_count": 9
        }
      ]
    },
    {
      "cell_type": "markdown",
      "metadata": {
        "id": "AyJYywBck1i-"
      },
      "source": [
        "## Lasy losowe"
      ]
    },
    {
      "cell_type": "markdown",
      "metadata": {
        "id": "qkjUaY_ek9XC"
      },
      "source": [
        "### 51 sci-kit - accuracy"
      ]
    },
    {
      "cell_type": "code",
      "metadata": {
        "colab": {
          "base_uri": "https://localhost:8080/"
        },
        "id": "bvtPhogJk3dG",
        "outputId": "8920f9b5-44b4-4858-f994-a08d8a2f3ef9"
      },
      "source": [
        "import numpy as np\n",
        "import pandas as pd\n",
        "\n",
        "from sklearn.datasets import make_moons\n",
        "from sklearn.model_selection import train_test_split\n",
        "from sklearn.ensemble import RandomForestClassifier\n",
        "from sklearn.metrics import accuracy_score\n",
        "\n",
        "np.random.seed(42)\n",
        "raw_data = make_moons(n_samples=2000, noise=0.25, random_state=42)\n",
        "data = raw_data[0]\n",
        "target = raw_data[1]\n",
        "\n",
        "X_train, X_test, y_train, y_test = train_test_split(data, target)\n",
        "\n",
        "rfc = RandomForestClassifier(random_state = 42)\n",
        "\n",
        "rfc.fit(X_train, y_train)\n",
        "\n",
        "predictions = rfc.predict(X_test)\n",
        "\n",
        "acc = accuracy_score(y_test, predictions)\n",
        "\n",
        "print('Accuracy: {}'.format(acc))"
      ],
      "execution_count": null,
      "outputs": [
        {
          "output_type": "stream",
          "text": [
            "Accuracy: 0.93\n"
          ],
          "name": "stdout"
        }
      ]
    },
    {
      "cell_type": "markdown",
      "metadata": {
        "id": "uHhWEDOYkaEG"
      },
      "source": [
        "### 52 sci-kit - GridSearch()"
      ]
    },
    {
      "cell_type": "code",
      "metadata": {
        "colab": {
          "base_uri": "https://localhost:8080/"
        },
        "id": "abnpF193kclE",
        "outputId": "5fdd34a6-e168-4666-f913-602035e2a85c"
      },
      "source": [
        "import numpy as np\n",
        "import pandas as pd\n",
        "\n",
        "from sklearn.datasets import make_moons\n",
        "from sklearn.model_selection import train_test_split\n",
        "from sklearn.ensemble import RandomForestClassifier\n",
        "from sklearn.model_selection import GridSearchCV\n",
        "\n",
        "\n",
        "np.random.seed(42)\n",
        "raw_data = make_moons(n_samples=2000, noise=0.25, random_state=42)\n",
        "data = raw_data[0]\n",
        "target = raw_data[1]\n",
        "\n",
        "X_train, X_test, y_train, y_test = train_test_split(data, target)\n",
        "\n",
        "rfc = RandomForestClassifier()\n",
        "\n",
        "params = {'criterion':['gini','entropy'],\n",
        "          'max_depth':[6,7,8],\n",
        "          'min_samples_leaf':[4,5]}\n",
        "\n",
        "grid_search = GridSearchCV(rfc, param_grid = params, scoring = 'accuracy', cv = 5)\n",
        "\n",
        "grid_search.fit(X_train, y_train)\n",
        "\n",
        "print(grid_search.best_params_)"
      ],
      "execution_count": null,
      "outputs": [
        {
          "output_type": "stream",
          "text": [
            "{'criterion': 'gini', 'max_depth': 8, 'min_samples_leaf': 4}\n"
          ],
          "name": "stdout"
        }
      ]
    },
    {
      "cell_type": "markdown",
      "metadata": {
        "id": "HTqrK3VmlPAl"
      },
      "source": [
        "## K-means"
      ]
    },
    {
      "cell_type": "markdown",
      "metadata": {
        "id": "y1R25v77lTgQ"
      },
      "source": [
        "### 58 implementacja"
      ]
    },
    {
      "cell_type": "markdown",
      "metadata": {
        "id": "W4EuVYOZnxGW"
      },
      "source": [
        "data.csv jest na udemy ale jest dobrze zaimplementowane"
      ]
    },
    {
      "cell_type": "code",
      "metadata": {
        "id": "9C0zM1FplXAk"
      },
      "source": [
        "import numpy as np\n",
        "from numpy.linalg import norm\n",
        "import pandas as pd\n",
        "import random\n",
        "\n",
        "\n",
        "np.random.seed(42)\n",
        "\n",
        "df = pd.read_csv('data.csv')\n",
        "\n",
        "x1_min = df.x1.min()\n",
        "x1_max = df.x1.max()\n",
        "\n",
        "x2_min = df.x2.min()\n",
        "x2_max = df.x2.max()\n",
        "\n",
        "centroid_1 = np.array([random.uniform(x1_min, x1_max), random.uniform(x2_min, x2_max)])\n",
        "centroid_2 = np.array([random.uniform(x1_min, x1_max), random.uniform(x2_min, x2_max)])\n",
        "\n",
        "data = df.values\n",
        "\n",
        "for i in range(10):\n",
        "    clusters = []\n",
        "    for point in data:\n",
        "        centroid_1_dist = norm(centroid_1 - point)\n",
        "        centroid_2_dist = norm(centroid_2 - point)\n",
        "        cluster = 1\n",
        "        if centroid_1_dist > centroid_2_dist:\n",
        "            cluster = 2\n",
        "        clusters.append(cluster)\n",
        "\n",
        "    df['cluster'] = clusters\n",
        "\n",
        "    centroid_1 = [df[df.cluster == 1].x1.mean(), df[df.cluster == 1].x2.mean()]\n",
        "    centroid_2 = [df[df.cluster == 2].x1.mean(), df[df.cluster == 2].x2.mean()]\n",
        "    \n",
        "print(centroid_1)\n",
        "print(centroid_2)\n",
        "    "
      ],
      "execution_count": null,
      "outputs": []
    },
    {
      "cell_type": "markdown",
      "metadata": {
        "id": "sI-0o6jswEBH"
      },
      "source": [
        "### 59 sci-kit + centroid_centers_"
      ]
    },
    {
      "cell_type": "markdown",
      "metadata": {
        "id": "O-ngey9-wlPs"
      },
      "source": [
        "clusters.csv jest w udemy ale jest wlasciwie rozwiazane"
      ]
    },
    {
      "cell_type": "code",
      "metadata": {
        "id": "opGKv8dtwhIw"
      },
      "source": [
        "import numpy as np\n",
        "import pandas as pd\n",
        "from sklearn.cluster import KMeans\n",
        "\n",
        "\n",
        "np.random.seed(42)\n",
        "\n",
        "df = pd.read_csv('clusters.csv')\n",
        "kmeans = KMeans(n_clusters = 3, max_iter = 1000, random_state = 42)\n",
        "\n",
        "kmeans.fit(df)\n",
        "\n",
        "print(kmeans.cluster_centers_)"
      ],
      "execution_count": null,
      "outputs": []
    },
    {
      "cell_type": "markdown",
      "metadata": {
        "id": "Qv31LC50z4Vt"
      },
      "source": [
        "### 60 sci-kit + predict"
      ]
    },
    {
      "cell_type": "markdown",
      "metadata": {
        "id": "vgLWpeviz_uY"
      },
      "source": [
        "clusters.csv jest w udemy"
      ]
    },
    {
      "cell_type": "code",
      "metadata": {
        "id": "OVvtV1Wvz-qm"
      },
      "source": [
        "import numpy as np\n",
        "import pandas as pd\n",
        "from sklearn.cluster import KMeans\n",
        "\n",
        "\n",
        "np.random.seed(42)\n",
        "df = pd.read_csv('clusters.csv')\n",
        "\n",
        "kmeans = KMeans(n_clusters=3, max_iter=1000, random_state=42)\n",
        "kmeans.fit(df)\n",
        "\n",
        "y_kmeans = kmeans.predict(df.values)\n",
        "\n",
        "df['y_kmeans'] = y_kmeans\n",
        "\n",
        "print(df[:10])"
      ],
      "execution_count": null,
      "outputs": []
    },
    {
      "cell_type": "markdown",
      "metadata": {
        "id": "CWcFaksL5FCk"
      },
      "source": [
        "### 61 sci-kit + wccs + inertia_"
      ]
    },
    {
      "cell_type": "code",
      "metadata": {
        "id": "fKLEQ9em5KJh"
      },
      "source": [
        "import numpy as np\n",
        "import pandas as pd\n",
        "from sklearn.cluster import KMeans\n",
        "\n",
        "\n",
        "np.random.seed(42)\n",
        "\n",
        "df = pd.read_csv('clusters.csv')\n",
        "\n",
        "wccs = []\n",
        "\n",
        "for i in range(2,10):\n",
        "    km = KMeans(random_state = 42, n_clusters = i)\n",
        "    km.fit(df)\n",
        "    wccs.append(round(km.inertia_,2))\n",
        "\n",
        "print(wccs)\n",
        "    "
      ],
      "execution_count": null,
      "outputs": []
    },
    {
      "cell_type": "markdown",
      "metadata": {
        "id": "YN0Ewm0NNgTU"
      },
      "source": [
        "## Grupowanie hierarchiczne / Agglomerative clustering"
      ]
    },
    {
      "cell_type": "markdown",
      "metadata": {
        "id": "iV6CLN_rOknB"
      },
      "source": [
        "https://scikit-learn.org/stable/modules/generated/sklearn.cluster.AgglomerativeClustering.html"
      ]
    },
    {
      "cell_type": "markdown",
      "metadata": {
        "id": "pVCEAaxrOV2f"
      },
      "source": [
        "culsters.csv jest w udemy"
      ]
    },
    {
      "cell_type": "markdown",
      "metadata": {
        "id": "8p32ZrNYONFU"
      },
      "source": [
        "### 63 sci-kit"
      ]
    },
    {
      "cell_type": "code",
      "metadata": {
        "id": "-bRMyUzAOS5h"
      },
      "source": [
        "import numpy as np\n",
        "import pandas as pd\n",
        "from sklearn.cluster import AgglomerativeClustering\n",
        "\n",
        "df = pd.read_csv('clusters.csv')\n",
        "\n",
        "from sklearn.cluster import AgglomerativeClustering\n",
        "\n",
        "cluster = AgglomerativeClustering(n_clusters=2)\n",
        "col = cluster.fit_predict(df.values)\n",
        "\n",
        "df['cluster'] = col\n",
        "\n",
        "print(df[:10])"
      ],
      "execution_count": null,
      "outputs": []
    },
    {
      "cell_type": "markdown",
      "metadata": {
        "id": "fowQmjBKQPL5"
      },
      "source": [
        "### 64 sci-kit + metryka manhattan"
      ]
    },
    {
      "cell_type": "markdown",
      "metadata": {
        "id": "BOHEdW33QUy7"
      },
      "source": [
        "zwróć uwagę że musisz zmienic też linkage, przy domyslnym 'ward' mangattan nie zadziała"
      ]
    },
    {
      "cell_type": "code",
      "metadata": {
        "id": "lHP1LTyeQT5J"
      },
      "source": [
        "import numpy as np\n",
        "import pandas as pd\n",
        "from sklearn.cluster import AgglomerativeClustering\n",
        "\n",
        "\n",
        "df = pd.read_csv('clusters.csv')\n",
        "\n",
        "cluster = AgglomerativeClustering(n_clusters=2, affinity = 'manhattan', linkage = 'single')\n",
        "col = cluster.fit_predict(df.values)\n",
        "\n",
        "df['cluster'] = col\n",
        "\n",
        "print(df[:10])"
      ],
      "execution_count": null,
      "outputs": []
    },
    {
      "cell_type": "markdown",
      "metadata": {
        "id": "E8LwA8CFR0xX"
      },
      "source": [
        "## DBSCAN"
      ]
    },
    {
      "cell_type": "markdown",
      "metadata": {
        "id": "W6B2bPiJS-MK"
      },
      "source": [
        "https://scikit-learn.org/stable/modules/generated/sklearn.cluster.DBSCAN.html"
      ]
    },
    {
      "cell_type": "markdown",
      "metadata": {
        "id": "AXv6222eR3Ec"
      },
      "source": [
        "### 65 sci-kit"
      ]
    },
    {
      "cell_type": "code",
      "metadata": {
        "id": "W_NgFamTR5aA"
      },
      "source": [
        "import numpy as np\n",
        "import pandas as pd\n",
        "from sklearn.cluster import DBSCAN\n",
        "\n",
        "df = pd.read_csv('clusters.csv')\n",
        "\n",
        "db = DBSCAN(eps = 0.6, min_samples = 7)\n",
        "\n",
        "col = db.fit_predict(df.values) # uzywasz fit_predict anie fit_transformr\n",
        "\n",
        "df['cluster'] = col\n",
        "\n",
        "print(df[:10])"
      ],
      "execution_count": null,
      "outputs": []
    },
    {
      "cell_type": "markdown",
      "metadata": {
        "id": "_kP5-HJ7VHk_"
      },
      "source": [
        "### 66 sci-kit + czestosc przypisania kazdego z klastrów"
      ]
    },
    {
      "cell_type": "code",
      "metadata": {
        "id": "p7KgcwQqVHBA"
      },
      "source": [
        "import numpy as np\n",
        "import pandas as pd\n",
        "from sklearn.cluster import DBSCAN\n",
        "\n",
        "df = pd.read_csv('clusters.csv')\n",
        "\n",
        "db = DBSCAN(eps = 0.6, min_samples = 7)\n",
        "\n",
        "col = db.fit_predict(df.values)\n",
        "\n",
        "df['cluster'] = col\n",
        "\n",
        "print(df['cluster'].value_counts())"
      ],
      "execution_count": null,
      "outputs": []
    },
    {
      "cell_type": "markdown",
      "metadata": {
        "id": "kSZMZfZlc66i"
      },
      "source": [
        "## PCA"
      ]
    },
    {
      "cell_type": "markdown",
      "metadata": {
        "id": "tUhD_pLmdACx"
      },
      "source": [
        "### 68 sci-kit standaryzacja"
      ]
    },
    {
      "cell_type": "code",
      "metadata": {
        "id": "ghtEdGrUc8kj"
      },
      "source": [
        "# standaryzacja\n",
        "import numpy as np\n",
        "import pandas as pd\n",
        "from sklearn.preprocessing import StandardScaler\n",
        "\n",
        "np.random.seed(42)\n",
        "\n",
        "df = pd.read_csv('pca.csv')\n",
        "\n",
        "ss = StandardScaler()\n",
        "\n",
        "X = df[['var1','var2','var3']]\n",
        "y = df[['class']]\n",
        "\n",
        "X_std = ss.fit_transform(X)\n",
        "\n",
        "print(X_std[:10])"
      ],
      "execution_count": null,
      "outputs": []
    },
    {
      "cell_type": "markdown",
      "metadata": {
        "id": "ZqLDmmGxddCS"
      },
      "source": [
        "### 69 implementacja"
      ]
    },
    {
      "cell_type": "code",
      "metadata": {
        "id": "1b4cdyGddeji"
      },
      "source": [
        "# standaryzacja\n",
        "import numpy as np\n",
        "import pandas as pd\n",
        "from sklearn.preprocessing import StandardScaler\n",
        "\n",
        "np.random.seed(42)\n",
        "\n",
        "df = pd.read_csv('pca.csv')\n",
        "\n",
        "ss = StandardScaler()\n",
        "\n",
        "X = df[['var1','var2','var3']]\n",
        "y = df[['class']]\n",
        "\n",
        "X_std = ss.fit_transform(X)\n",
        "\n",
        "# Implementacja PCA\n",
        "\n",
        "# macierz kowariancji\n",
        "cov_mat = np.cov(X_std, rowvar=False)\n",
        "\n",
        "# wektory własne i odpowiadające nim wartości własne macierzy kowariancji\n",
        "eig_vals, eig_vecs = np.linalg.eig(cov_mat)\n",
        "\n",
        "# posortowanie wektorów według wartości własnych\n",
        "eig_pairs = [(np.abs(eig_vals[i]), eig_vecs[:, i]) for i in range(len(eig_vals))]\n",
        "eig_pairs.sort(reverse=True)\n",
        "\n",
        "# obliczenie wartości procentowej wyjaśnionej wariancji\n",
        "total = sum(eig_vals)\n",
        "explained_variance_ratio = [(i / total) for i in sorted(eig_vals, reverse=True)]\n",
        "\n",
        "cumulative_explained_variance = np.cumsum(explained_variance_ratio)\n",
        "\n",
        "results = pd.DataFrame(data={'explained_variance_ratio': explained_variance_ratio})\n",
        "results['cumulative'] = results['explained_variance_ratio'].cumsum()\n",
        "results['component'] = results.index + 1\n",
        "\n",
        "W = np.hstack((eig_pairs[0][1].reshape(3, 1), eig_pairs[1][1].reshape(3, 1)))\n",
        "\n",
        "# przemnożenie X_Std przez W\n",
        "\n",
        "X_pca = X_std.dot(W)\n",
        "\n",
        "print(X_pca[:10])"
      ],
      "execution_count": null,
      "outputs": []
    },
    {
      "cell_type": "markdown",
      "metadata": {
        "id": "YwZ0qjm4nCww"
      },
      "source": [
        "### 70 implementacja 2"
      ]
    },
    {
      "cell_type": "code",
      "metadata": {
        "id": "JF7BldhDnEHi"
      },
      "source": [
        "import numpy as np\n",
        "import pandas as pd\n",
        "from sklearn.preprocessing import StandardScaler\n",
        "\n",
        "\n",
        "np.set_printoptions(precision=8, suppress=True, edgeitems=5, linewidth=200)\n",
        "np.random.seed(42)\n",
        "df = pd.read_csv('pca.csv')\n",
        "\n",
        "X = df.copy()\n",
        "y = X.pop('class')\n",
        "\n",
        "scaler = StandardScaler()\n",
        "X_std = scaler.fit_transform(X)\n",
        "\n",
        "eig_vals, eig_vecs = np.linalg.eig(np.cov(X_std, rowvar=False))\n",
        "eig_pairs = [(np.abs(eig_vals[i]), eig_vecs[:, i]) for i in range(len(eig_vals))]\n",
        "eig_pairs.sort(reverse=True)\n",
        "\n",
        "W = np.hstack((eig_pairs[0][1].reshape(3, 1), eig_pairs[1][1].reshape(3, 1)))\n",
        "X_pca = X_std.dot(W)\n",
        "\n",
        "pca = pd.DataFrame(X_pca, columns = ['pca_1','pca_2'])\n",
        "\n",
        "pca['class'] = df['class']\n",
        "\n",
        "pca['pca_2'] = - pca['pca_2']\n",
        "\n",
        "print(pca[:10])"
      ],
      "execution_count": null,
      "outputs": []
    },
    {
      "cell_type": "markdown",
      "metadata": {
        "id": "VOabdIHqtkeS"
      },
      "source": [
        "### 71 sci_kit (standaryzacja + pca)"
      ]
    },
    {
      "cell_type": "code",
      "metadata": {
        "id": "nI0cPNhtto2N"
      },
      "source": [
        "import numpy as np\n",
        "import pandas as pd\n",
        "from sklearn.preprocessing import StandardScaler\n",
        "from sklearn.decomposition import PCA\n",
        "\n",
        "\n",
        "np.set_printoptions(precision=8, suppress=True, edgeitems=5, linewidth=200)\n",
        "np.random.seed(42)\n",
        "df = pd.read_csv('pca.csv')\n",
        "\n",
        "X = df.copy()\n",
        "y = X.pop('class')\n",
        "\n",
        "scaler = StandardScaler()\n",
        "X_std = scaler.fit_transform(X)\n",
        "\n",
        "pca = PCA(n_components = 2)\n",
        "\n",
        "X_pca = pca.fit_transform(X_std)\n",
        "\n",
        "df_pca = pd.DataFrame(X_pca, columns = ['pca_1','pca_2'])\n",
        "\n",
        "df_pca['class'] = df['class']\n",
        "\n",
        "print(df_pca[:10])"
      ],
      "execution_count": null,
      "outputs": []
    },
    {
      "cell_type": "markdown",
      "metadata": {
        "id": "WUpFO8L_weK8"
      },
      "source": [
        "### 72 sci_kit + liczba komponentów wyjasniających wariance"
      ]
    },
    {
      "cell_type": "code",
      "metadata": {
        "id": "6LXm0HpB_gGD"
      },
      "source": [
        "import numpy as np\n",
        "import pandas as pd\n",
        "\n",
        "from sklearn.preprocessing import StandardScaler\n",
        "from sklearn.decomposition import PCA\n",
        "\n",
        "df = pd.read_csv('pca.csv')\n",
        "data = df.values\n",
        "\n",
        "ss = StandardScaler()\n",
        "data_std = ss.fit_transform(data)\n",
        "\n",
        "pca = PCA(n_components = 0.95)\n",
        "pca_df = pca.fit_transform(data_std)\n",
        "\n",
        "print('Liczba komponentów:',pca.n_components_)"
      ],
      "execution_count": null,
      "outputs": []
    },
    {
      "cell_type": "markdown",
      "metadata": {
        "id": "5fO9g107pNpo"
      },
      "source": [
        "## Local Outlier Factor - LOF"
      ]
    },
    {
      "cell_type": "markdown",
      "metadata": {
        "id": "MkDceBbmpUP4"
      },
      "source": [
        "### 79 sci-kit"
      ]
    },
    {
      "cell_type": "markdown",
      "metadata": {
        "id": "muu3VrtIpmQ6"
      },
      "source": [
        "blobs.csv jest w udemy"
      ]
    },
    {
      "cell_type": "code",
      "metadata": {
        "id": "wn5hOYkwpjyL"
      },
      "source": [
        "import numpy as np\n",
        "import pandas as pd\n",
        "from sklearn.neighbors import LocalOutlierFactor\n",
        "\n",
        "np.random.seed(42)\n",
        "\n",
        "df = pd.read_csv('blobs.csv')\n",
        "\n",
        "clf = LocalOutlierFactor(n_neighbors = 20)\n",
        "\n",
        "lof = clf.fit_predict(df.values)\n",
        "\n",
        "df['lof'] = lof\n",
        "\n",
        "print(df[:10])"
      ],
      "execution_count": null,
      "outputs": []
    },
    {
      "cell_type": "markdown",
      "metadata": {
        "id": "LtiRCPN8rUgv"
      },
      "source": [
        "### 80 rozkład outlierów i inlierów"
      ]
    },
    {
      "cell_type": "markdown",
      "metadata": {
        "id": "_p_81lvCrcEX"
      },
      "source": [
        "blobs.csv jest w udemy"
      ]
    },
    {
      "cell_type": "code",
      "metadata": {
        "id": "SwnJhpIUrZhp"
      },
      "source": [
        "import numpy as np\n",
        "import pandas as pd\n",
        "from sklearn.neighbors import LocalOutlierFactor\n",
        "\n",
        "\n",
        "np.random.seed(42)\n",
        "df = pd.read_csv('blobs.csv')\n",
        "data = df.values\n",
        "\n",
        "lof = LocalOutlierFactor(n_neighbors=30)\n",
        "y_pred = lof.fit_predict(data)\n",
        "\n",
        "df['lof'] = y_pred\n",
        "\n",
        "print(df['lof'].value_counts())"
      ],
      "execution_count": null,
      "outputs": []
    },
    {
      "cell_type": "markdown",
      "metadata": {
        "id": "F9m-lsg-YKBe"
      },
      "source": [
        "## Isolation Forest"
      ]
    },
    {
      "cell_type": "markdown",
      "metadata": {
        "id": "MDVG8JrhYNbK"
      },
      "source": [
        "### 81 sci-kit"
      ]
    },
    {
      "cell_type": "markdown",
      "metadata": {
        "id": "Nq8iZ3dyZpJw"
      },
      "source": [
        "factory.csv jest na udemy"
      ]
    },
    {
      "cell_type": "code",
      "metadata": {
        "id": "DqbJu6zjZNPN"
      },
      "source": [
        "import numpy as np\n",
        "import pandas as pd\n",
        "from sklearn.ensemble import IsolationForest\n",
        "\n",
        "np.random.seed(42)\n",
        "\n",
        "df = pd.read_csv('factory.csv')\n",
        "\n",
        "clf = IsolationForest(n_estimators = 100, contamination = 0.05, random_state = 42)\n",
        "\n",
        "outlier_flag = clf.fit_predict(df.values)\n",
        "\n",
        "df['outlier_flag'] = outlier_flag\n",
        "\n",
        "print(df[:10])"
      ],
      "execution_count": null,
      "outputs": []
    },
    {
      "cell_type": "markdown",
      "metadata": {
        "id": "plK-Z5a3aT9C"
      },
      "source": [
        "### 82 rozkład outlierów i inlierów"
      ]
    },
    {
      "cell_type": "code",
      "metadata": {
        "id": "DrAf9aEKaYL5"
      },
      "source": [
        "import numpy as np\n",
        "import pandas as pd\n",
        "from sklearn.ensemble import IsolationForest\n",
        "\n",
        "\n",
        "np.random.seed(42)\n",
        "df = pd.read_csv('factory.csv')\n",
        "\n",
        "outlier = IsolationForest(n_estimators=100, contamination=0.05, random_state=42)\n",
        "outlier.fit(df)\n",
        "df['outlier_flag'] = outlier.predict(df)\n",
        "\n",
        "print(df['outlier_flag'].value_counts())"
      ],
      "execution_count": null,
      "outputs": []
    },
    {
      "cell_type": "markdown",
      "metadata": {
        "id": "JKWAHj6-PIvd"
      },
      "source": [
        "# Zastosowania ML"
      ]
    },
    {
      "cell_type": "markdown",
      "metadata": {
        "id": "0BMzsD3pPK4o"
      },
      "source": [
        "## NLP"
      ]
    },
    {
      "cell_type": "markdown",
      "metadata": {
        "id": "-lyIW2EVSdfq"
      },
      "source": [
        "### 53 CountVectorizer()"
      ]
    },
    {
      "cell_type": "markdown",
      "metadata": {
        "id": "-ScJB3uQR62I"
      },
      "source": [
        "Posłuży do zliczania słów w danym tekście"
      ]
    },
    {
      "cell_type": "markdown",
      "metadata": {
        "id": "N9vy60ufSkdA"
      },
      "source": [
        "https://scikit-learn.org/stable/modules/generated/sklearn.feature_extraction.text.CountVectorizer.html"
      ]
    },
    {
      "cell_type": "code",
      "metadata": {
        "id": "Wpb7S1e2kYzO",
        "colab": {
          "base_uri": "https://localhost:8080/"
        },
        "outputId": "7c551c37-5bac-466f-b119-3b478e6694ed"
      },
      "source": [
        "import numpy as np\n",
        "import pandas as pd\n",
        "\n",
        "from sklearn.feature_extraction.text import CountVectorizer\n",
        "\n",
        "\n",
        "documents = [\n",
        "    'python is a programming language',\n",
        "    'python is popular',\n",
        "    'programming in python',\n",
        "    'object-oriented programming in python'\n",
        "]\n",
        "\n",
        "documents"
      ],
      "execution_count": null,
      "outputs": [
        {
          "output_type": "execute_result",
          "data": {
            "text/plain": [
              "['python is a programming language',\n",
              " 'python is popular',\n",
              " 'programming in python',\n",
              " 'object-oriented programming in python']"
            ]
          },
          "metadata": {},
          "execution_count": 2
        }
      ]
    },
    {
      "cell_type": "code",
      "metadata": {
        "colab": {
          "base_uri": "https://localhost:8080/"
        },
        "id": "bXbNGfzXRP7b",
        "outputId": "bf7cd85a-c0ef-480f-87be-686e476ab44a"
      },
      "source": [
        "cv = CountVectorizer()\n",
        "x = cv.fit_transform(documents) # dopasowanie i przeksztalcenie\n",
        "x.toarray() # wyswietlenie wyniku w postaci tabeli"
      ],
      "execution_count": null,
      "outputs": [
        {
          "output_type": "execute_result",
          "data": {
            "text/plain": [
              "array([[0, 1, 1, 0, 0, 0, 1, 1],\n",
              "       [0, 1, 0, 0, 0, 1, 0, 1],\n",
              "       [1, 0, 0, 0, 0, 0, 1, 1],\n",
              "       [1, 0, 0, 1, 1, 0, 1, 1]])"
            ]
          },
          "metadata": {},
          "execution_count": 5
        }
      ]
    },
    {
      "cell_type": "code",
      "metadata": {
        "colab": {
          "base_uri": "https://localhost:8080/"
        },
        "id": "4HOVmqMfRxHa",
        "outputId": "7d28cf38-edcc-4bd7-cf58-3c24f2714da3"
      },
      "source": [
        "cv.get_feature_names() # wyswitl wszystkie unikatowe słowa"
      ],
      "execution_count": null,
      "outputs": [
        {
          "output_type": "execute_result",
          "data": {
            "text/plain": [
              "['in',\n",
              " 'is',\n",
              " 'language',\n",
              " 'object',\n",
              " 'oriented',\n",
              " 'popular',\n",
              " 'programming',\n",
              " 'python']"
            ]
          },
          "metadata": {},
          "execution_count": 7
        }
      ]
    },
    {
      "cell_type": "code",
      "metadata": {
        "colab": {
          "base_uri": "https://localhost:8080/"
        },
        "id": "-M7_oUhJRpow",
        "outputId": "712d755c-e1fc-44ae-a60e-17e045281022"
      },
      "source": [
        "df = pd.DataFrame(x.toarray(), columns = cv.get_feature_names())\n",
        "print(df)"
      ],
      "execution_count": null,
      "outputs": [
        {
          "output_type": "stream",
          "text": [
            "   in  is  language  object  oriented  popular  programming  python\n",
            "0   0   1         1       0         0        0            1       1\n",
            "1   0   1         0       0         0        1            0       1\n",
            "2   1   0         0       0         0        0            1       1\n",
            "3   1   0         0       1         1        0            1       1\n"
          ],
          "name": "stdout"
        }
      ]
    },
    {
      "cell_type": "markdown",
      "metadata": {
        "id": "6CUyeS-cpANw"
      },
      "source": [
        "### 54 CountVectorizer() stop_words"
      ]
    },
    {
      "cell_type": "code",
      "metadata": {
        "colab": {
          "base_uri": "https://localhost:8080/"
        },
        "id": "WGyPL5qOpAqY",
        "outputId": "9dab5ec7-c6f0-4b50-b427-0080abab3b3c"
      },
      "source": [
        "import numpy as np\n",
        "import pandas as pd\n",
        "\n",
        "from sklearn.feature_extraction.text import CountVectorizer\n",
        "\n",
        "\n",
        "documents = [\n",
        "    'python is a programming language',\n",
        "    'python is popular',\n",
        "    'programming in python',\n",
        "    'object-oriented programming in python'\n",
        "]\n",
        "\n",
        "cv = CountVectorizer(stop_words='english') # english to lista słów które mogą być uznane, jak ustawimy stop_words na english wtedy pomijane beda słowa jak in, him, or itp.\n",
        "\n",
        "x = cv.fit_transform(documents)\n",
        "\n",
        "x.toarray()"
      ],
      "execution_count": null,
      "outputs": [
        {
          "output_type": "execute_result",
          "data": {
            "text/plain": [
              "array([[1, 0, 0, 0, 1, 1],\n",
              "       [0, 0, 0, 1, 0, 1],\n",
              "       [0, 0, 0, 0, 1, 1],\n",
              "       [0, 1, 1, 0, 1, 1]])"
            ]
          },
          "metadata": {},
          "execution_count": 24
        }
      ]
    },
    {
      "cell_type": "code",
      "metadata": {
        "colab": {
          "base_uri": "https://localhost:8080/"
        },
        "id": "WI4tj4x3qcMK",
        "outputId": "8aefdcae-02cf-4a88-d0d3-139384550ca8"
      },
      "source": [
        "cv.get_feature_names()"
      ],
      "execution_count": null,
      "outputs": [
        {
          "output_type": "execute_result",
          "data": {
            "text/plain": [
              "['language', 'object', 'oriented', 'popular', 'programming', 'python']"
            ]
          },
          "metadata": {},
          "execution_count": 26
        }
      ]
    },
    {
      "cell_type": "code",
      "metadata": {
        "colab": {
          "base_uri": "https://localhost:8080/"
        },
        "id": "n7b1PYzkqfS8",
        "outputId": "28954263-4e68-46ec-e185-f60b366733b3"
      },
      "source": [
        "df = pd.DataFrame(x.toarray(), columns = cv.get_feature_names())\n",
        "print(df)"
      ],
      "execution_count": null,
      "outputs": [
        {
          "output_type": "stream",
          "text": [
            "   language  object  oriented  popular  programming  python\n",
            "0         1       0         0        0            1       1\n",
            "1         0       0         0        1            0       1\n",
            "2         0       0         0        0            1       1\n",
            "3         0       1         1        0            1       1\n"
          ],
          "name": "stdout"
        }
      ]
    },
    {
      "cell_type": "markdown",
      "metadata": {
        "id": "CaMwhp0LwpUM"
      },
      "source": [
        "### 55 CountVectorizer() n_grams"
      ]
    },
    {
      "cell_type": "markdown",
      "metadata": {
        "id": "0jERIwn1xcYT"
      },
      "source": [
        "n_grams to tuple który mowi jakie n_gramy chcemy pokazac\n",
        "\n",
        "(1,1) - unigramy\n",
        "(1,2) - unigramy i bigramy\n",
        "(2,2) - bigramy"
      ]
    },
    {
      "cell_type": "code",
      "metadata": {
        "colab": {
          "base_uri": "https://localhost:8080/"
        },
        "id": "JapfGkljwt6w",
        "outputId": "3620bb33-7b88-43ab-d4c4-763a8d8bf7ad"
      },
      "source": [
        "import numpy as np\n",
        "import pandas as pd\n",
        "\n",
        "from sklearn.feature_extraction.text import CountVectorizer\n",
        "\n",
        "\n",
        "pd.set_option('display.width', 200)\n",
        "pd.set_option('display.max_columns', 20)\n",
        "documents = [\n",
        "    'python is a programming language',\n",
        "    'python is popular',\n",
        "    'programming in python',\n",
        "    'object-oriented programming in python',\n",
        "    'programming language'\n",
        "]\n",
        "\n",
        "cv = CountVectorizer(stop_words = 'english', ngram_range=(1,2))\n",
        "\n",
        "x = cv.fit_transform(documents)\n",
        "\n",
        "x.toarray()"
      ],
      "execution_count": null,
      "outputs": [
        {
          "output_type": "execute_result",
          "data": {
            "text/plain": [
              "array([[1, 0, 0, 0, 0, 0, 1, 1, 0, 1, 0, 1],\n",
              "       [0, 0, 0, 0, 0, 1, 0, 0, 0, 1, 1, 0],\n",
              "       [0, 0, 0, 0, 0, 0, 1, 0, 1, 1, 0, 0],\n",
              "       [0, 1, 1, 1, 1, 0, 1, 0, 1, 1, 0, 0],\n",
              "       [1, 0, 0, 0, 0, 0, 1, 1, 0, 0, 0, 0]])"
            ]
          },
          "metadata": {},
          "execution_count": 38
        }
      ]
    },
    {
      "cell_type": "code",
      "metadata": {
        "colab": {
          "base_uri": "https://localhost:8080/"
        },
        "id": "9QRH0zPiw86O",
        "outputId": "b8c01683-6be6-41f8-cfd8-68a85999b361"
      },
      "source": [
        "cv.get_feature_names()"
      ],
      "execution_count": null,
      "outputs": [
        {
          "output_type": "execute_result",
          "data": {
            "text/plain": [
              "['language',\n",
              " 'object',\n",
              " 'object oriented',\n",
              " 'oriented',\n",
              " 'oriented programming',\n",
              " 'popular',\n",
              " 'programming',\n",
              " 'programming language',\n",
              " 'programming python',\n",
              " 'python',\n",
              " 'python popular',\n",
              " 'python programming']"
            ]
          },
          "metadata": {},
          "execution_count": 39
        }
      ]
    },
    {
      "cell_type": "code",
      "metadata": {
        "colab": {
          "base_uri": "https://localhost:8080/"
        },
        "id": "q6fiwi4vxHFX",
        "outputId": "fdf0d738-8e6f-4e3d-e3ad-2c1c944d10c9"
      },
      "source": [
        "df = pd.DataFrame(x.toarray(), columns = cv.get_feature_names())\n",
        "print(df)"
      ],
      "execution_count": null,
      "outputs": [
        {
          "output_type": "stream",
          "text": [
            "   language  object  object oriented  oriented  oriented programming  popular  programming  programming language  programming python  python  python popular  python programming\n",
            "0         1       0                0         0                     0        0            1                     1                   0       1               0                   1\n",
            "1         0       0                0         0                     0        1            0                     0                   0       1               1                   0\n",
            "2         0       0                0         0                     0        0            1                     0                   1       1               0                   0\n",
            "3         0       1                1         1                     1        0            1                     0                   1       1               0                   0\n",
            "4         1       0                0         0                     0        0            1                     1                   0       0               0                   0\n"
          ],
          "name": "stdout"
        }
      ]
    },
    {
      "cell_type": "markdown",
      "metadata": {
        "id": "qWsf8RVSCoRn"
      },
      "source": [
        "### 56 TfidfVectorizer()"
      ]
    },
    {
      "cell_type": "markdown",
      "metadata": {
        "id": "SeZnmuHOGz-K"
      },
      "source": [
        "https://scikit-learn.org/stable/modules/generated/sklearn.feature_extraction.text.TfidfVectorizer.html"
      ]
    },
    {
      "cell_type": "code",
      "metadata": {
        "colab": {
          "base_uri": "https://localhost:8080/"
        },
        "id": "7PcRgbW9Cs-W",
        "outputId": "65815e5a-d89d-4d56-993f-3bc109dbde66"
      },
      "source": [
        "import numpy as np\n",
        "import pandas as pd\n",
        "\n",
        "from sklearn.feature_extraction.text import TfidfVectorizer\n",
        "\n",
        "\n",
        "pd.set_option('display.width', 200)\n",
        "pd.set_option('display.max_columns', 10)\n",
        "pd.set_option('precision', 3)\n",
        "documents = [\n",
        "    'python is a programming language',\n",
        "    'python is popular',\n",
        "    'programming in python',\n",
        "    'object-oriented programming in python',\n",
        "    'programming language'\n",
        "]\n",
        "\n",
        "tfidf = TfidfVectorizer()\n",
        "\n",
        "x = tfidf.fit_transform(documents)\n",
        "\n",
        "x.toarray()"
      ],
      "execution_count": null,
      "outputs": [
        {
          "output_type": "execute_result",
          "data": {
            "text/plain": [
              "array([[0.        , 0.57974759, 0.57974759, 0.        , 0.        ,\n",
              "        0.        , 0.40483667, 0.40483667],\n",
              "       [0.        , 0.57506256, 0.        , 0.        , 0.        ,\n",
              "        0.71277522, 0.        , 0.40156512],\n",
              "       [0.71152472, 0.        , 0.        , 0.        , 0.        ,\n",
              "        0.        , 0.4968564 , 0.4968564 ],\n",
              "       [0.44508965, 0.        , 0.        , 0.55167715, 0.55167715,\n",
              "        0.        , 0.31080528, 0.31080528],\n",
              "       [0.        , 0.        , 0.8198869 , 0.        , 0.        ,\n",
              "        0.        , 0.57252551, 0.        ]])"
            ]
          },
          "metadata": {},
          "execution_count": 44
        }
      ]
    },
    {
      "cell_type": "code",
      "metadata": {
        "colab": {
          "base_uri": "https://localhost:8080/"
        },
        "id": "AQioj16bEHxO",
        "outputId": "1996a1fd-5eb9-417a-a78f-f714a8ea7948"
      },
      "source": [
        "tfidf.get_feature_names()"
      ],
      "execution_count": null,
      "outputs": [
        {
          "output_type": "execute_result",
          "data": {
            "text/plain": [
              "['in',\n",
              " 'is',\n",
              " 'language',\n",
              " 'object',\n",
              " 'oriented',\n",
              " 'popular',\n",
              " 'programming',\n",
              " 'python']"
            ]
          },
          "metadata": {},
          "execution_count": 45
        }
      ]
    },
    {
      "cell_type": "code",
      "metadata": {
        "colab": {
          "base_uri": "https://localhost:8080/"
        },
        "id": "c-vc60S5FFf9",
        "outputId": "a76b7c40-2324-4c6d-b469-6b99de10e9ba"
      },
      "source": [
        "df = pd.DataFrame(x.toarray(), columns = tfidf.get_feature_names())\n",
        "print(df)"
      ],
      "execution_count": null,
      "outputs": [
        {
          "output_type": "stream",
          "text": [
            "      in     is  language  object  oriented  popular  programming  python\n",
            "0  0.000  0.580      0.58   0.000     0.000    0.000        0.405   0.405\n",
            "1  0.000  0.575      0.00   0.000     0.000    0.713        0.000   0.402\n",
            "2  0.712  0.000      0.00   0.000     0.000    0.000        0.497   0.497\n",
            "3  0.445  0.000      0.00   0.552     0.552    0.000        0.311   0.311\n",
            "4  0.000  0.000      0.82   0.000     0.000    0.000        0.573   0.000\n"
          ],
          "name": "stdout"
        }
      ]
    },
    {
      "cell_type": "markdown",
      "metadata": {
        "id": "w8kCzM7VG7Oh"
      },
      "source": [
        "### 57 TfidfVectorizer() - stopwords()"
      ]
    },
    {
      "cell_type": "code",
      "metadata": {
        "colab": {
          "base_uri": "https://localhost:8080/"
        },
        "id": "DEU389YyG_GG",
        "outputId": "48749b08-6c81-4ed7-aa8d-ae37fc8ea400"
      },
      "source": [
        "import numpy as np\n",
        "import pandas as pd\n",
        "\n",
        "from sklearn.feature_extraction.text import TfidfVectorizer\n",
        "\n",
        "\n",
        "pd.set_option('display.width', 200)\n",
        "pd.set_option('display.max_columns', 10)\n",
        "pd.set_option('precision', 3)\n",
        "documents = [\n",
        "    'python is a programming language',\n",
        "    'python is popular',\n",
        "    'programming in python',\n",
        "    'object-oriented programming in python',\n",
        "    'programming language'\n",
        "]\n",
        "\n",
        "tf = TfidfVectorizer(stop_words = ['is', 'in'])\n",
        "\n",
        "x = tf.fit_transform(documents)\n",
        "x.toarray()"
      ],
      "execution_count": null,
      "outputs": [
        {
          "output_type": "execute_result",
          "data": {
            "text/plain": [
              "array([[0.71152472, 0.        , 0.        , 0.        , 0.4968564 ,\n",
              "        0.4968564 ],\n",
              "       [0.        , 0.        , 0.        , 0.87124678, 0.        ,\n",
              "        0.49084524],\n",
              "       [0.        , 0.        , 0.        , 0.        , 0.70710678,\n",
              "        0.70710678],\n",
              "       [0.        , 0.61606451, 0.61606451, 0.        , 0.34708   ,\n",
              "        0.34708   ],\n",
              "       [0.8198869 , 0.        , 0.        , 0.        , 0.57252551,\n",
              "        0.        ]])"
            ]
          },
          "metadata": {},
          "execution_count": 54
        }
      ]
    },
    {
      "cell_type": "code",
      "metadata": {
        "colab": {
          "base_uri": "https://localhost:8080/"
        },
        "id": "Ub07iSN3HSn-",
        "outputId": "86f4350b-5d61-4711-85a6-64b2a6ecd990"
      },
      "source": [
        "tf.get_feature_names()"
      ],
      "execution_count": null,
      "outputs": [
        {
          "output_type": "execute_result",
          "data": {
            "text/plain": [
              "['language', 'object', 'oriented', 'popular', 'programming', 'python']"
            ]
          },
          "metadata": {},
          "execution_count": 55
        }
      ]
    },
    {
      "cell_type": "code",
      "metadata": {
        "colab": {
          "base_uri": "https://localhost:8080/"
        },
        "id": "G-QSdD69HWSV",
        "outputId": "7819b2d0-32bf-47f1-8103-603be40de087"
      },
      "source": [
        "df = pd.DataFrame(x.toarray(), columns = tf.get_feature_names())\n",
        "print(df)"
      ],
      "execution_count": null,
      "outputs": [
        {
          "output_type": "stream",
          "text": [
            "   language  object  oriented  popular  programming  python\n",
            "0     0.712   0.000     0.000    0.000        0.497   0.497\n",
            "1     0.000   0.000     0.000    0.871        0.000   0.491\n",
            "2     0.000   0.000     0.000    0.000        0.707   0.707\n",
            "3     0.000   0.616     0.616    0.000        0.347   0.347\n",
            "4     0.820   0.000     0.000    0.000        0.573   0.000\n"
          ],
          "name": "stdout"
        }
      ]
    },
    {
      "cell_type": "markdown",
      "metadata": {
        "id": "Ymmg8Kg5_ngk"
      },
      "source": [
        "### 87 wyświel tekst"
      ]
    },
    {
      "cell_type": "code",
      "metadata": {
        "colab": {
          "base_uri": "https://localhost:8080/"
        },
        "id": "xIE0-61bDGzE",
        "outputId": "6bfbce17-d704-41c4-c4db-3ce3a0e30448"
      },
      "source": [
        "import numpy as np\n",
        "import pandas as pd\n",
        "\n",
        "data_train = pd.read_excel('data_train.xlsx')\n",
        "target_train = pd.read_excel('target_train.xlsx')\n",
        "\n",
        "print(data_train['text'][1])"
      ],
      "execution_count": 4,
      "outputs": [
        {
          "output_type": "stream",
          "text": [
            "From: stephens@geod.emr.ca (Dave Stephenson)\n",
            "Subject: Re: Clementine Science Team Selected\n",
            "Nntp-Posting-Host: ngis.geod.emr.ca\n",
            "Organization: Dept. of Energy, Mines, and Resources, Ottawa\n",
            "Lines: 32\n",
            "\n",
            "nickh@CS.CMU.EDU (Nick Haines) writes:\n",
            "\n",
            ">In article <stephens.734792933@ngis> stephens@geod.emr.ca (Dave Stephenson) writes:\n",
            "\n",
            ">   Remember the first government scientist in the British Empire was\n",
            ">   the Astronomer Royal, who was paid [...] from the Department\n",
            ">   of Ordinance Budget (i.e. the military). Flamsteed House (the original\n",
            ">   RGO) was built out of Army Surplus Scrap ( A gate house at the Tower of\n",
            ">   London ?), and paid for by the sale of time expired gunpowder [...]\n",
            "\n",
            ">At the time, astronomy was vital to the military, in that navigation\n",
            ">and cartography were of primary impoortance to the military, and good\n",
            ">cartography was impossible without good astronomy.\n",
            "\n",
            ">The relevance these daysis somewhat less obvious.\n",
            "\n",
            ">Nick\n",
            "\n",
            "It still applies, except the astronomy these days is Very Long Baseline\n",
            "Radio Astronomy coupled to GPS and Satellite Laser Ranging. The data\n",
            "from NASA's and the Naval Observatory's (among others) is a vital \n",
            "source of data for studies into crustal dynamics, Earth rotation, and\n",
            "purturbations. Every time there is a leap second added to the New Year,\n",
            "remember the military and science are still co-habiting nicely. The\n",
            "same VLBI was used to track Gallileo as it passed the Earth, and used\n",
            "so little fuel that it can afford to observe Ida. \n",
            " \n",
            "--\n",
            "Dave Stephenson\n",
            "Geodetic Survey of Canada\n",
            "Ottawa, Ontario, Canada\n",
            "Internet: stephens@geod.emr.ca\n",
            "\n"
          ],
          "name": "stdout"
        }
      ]
    },
    {
      "cell_type": "markdown",
      "metadata": {
        "id": "JYnibOAyVnwH"
      },
      "source": [
        "### 89 CountVectorizer()"
      ]
    },
    {
      "cell_type": "code",
      "metadata": {
        "colab": {
          "base_uri": "https://localhost:8080/"
        },
        "id": "A3uj5CkuVr-n",
        "outputId": "a9e0915a-2120-4b69-8158-22d8bfa37cf5"
      },
      "source": [
        "import numpy as np\n",
        "import pandas as pd\n",
        "\n",
        "from sklearn.feature_extraction.text import CountVectorizer\n",
        "\n",
        "data_train = pd.read_excel('data_train.xlsx')\n",
        "target_train = pd.read_excel('target_train.xlsx')\n",
        "\n",
        "data_train = data_train['text'].tolist()\n",
        "target_train = target_train.values.ravel()\n",
        "\n",
        "cv = CountVectorizer()\n",
        "\n",
        "data_train_vectorized = cv.fit_transform(data_train)\n",
        "\n",
        "data_train_vectorized.shape"
      ],
      "execution_count": 15,
      "outputs": [
        {
          "output_type": "execute_result",
          "data": {
            "text/plain": [
              "(50, 3225)"
            ]
          },
          "metadata": {},
          "execution_count": 15
        }
      ]
    },
    {
      "cell_type": "markdown",
      "metadata": {
        "id": "dSnw8PrxmmcU"
      },
      "source": [
        "### 90 CountVectorizer() + MultinomialNaiveBaias"
      ]
    },
    {
      "cell_type": "code",
      "metadata": {
        "colab": {
          "base_uri": "https://localhost:8080/"
        },
        "id": "8TAIwLAfDHV6",
        "outputId": "b35d9b0f-b695-4b74-bb49-0941d3657eba"
      },
      "source": [
        "import numpy as np\n",
        "import pandas as pd\n",
        "\n",
        "from sklearn.feature_extraction.text import CountVectorizer\n",
        "from sklearn.naive_bayes import MultinomialNB\n",
        "\n",
        "\n",
        "data_train = pd.read_excel('data_train.xlsx')\n",
        "target_train = pd.read_excel('target_train.xlsx')\n",
        "\n",
        "categories = ['comp.graphics', 'sci.space']\n",
        "\n",
        "# zmiana na listę danych tekstowych w df\n",
        "\n",
        "data_train = data_train['text'].tolist()\n",
        "target_train = target_train.values.ravel()\n",
        "\n",
        "# wektoryzacja\n",
        "\n",
        "vectorizer = CountVectorizer()\n",
        "data_train_vectorized = vectorizer.fit_transform(data_train)\n",
        "\n",
        "# trening\n",
        "\n",
        "mnb = MultinomialNB()\n",
        "mnb.fit(data_train_vectorized, target_train)\n",
        "\n",
        "# wektoryzujemy dane testowe. UWAGA tylko transform bo fit był na danych treningowych\n",
        "\n",
        "docs = ['The graphic designer requires a good precessor to work.', 'Flights into space']\n",
        "docs_vectorized = vectorizer.transform(docs)\n",
        "\n",
        "# predict na testowych i zwektoryzowanych danych\n",
        "\n",
        "data_pred = mnb.predict(docs_vectorized)\n",
        "\n",
        "# wyswietlenie wyników\n",
        "\n",
        "for doc, category in zip(docs, data_pred):\n",
        "  print(\"'{}' => {}\".format(doc, categories[category]))"
      ],
      "execution_count": 29,
      "outputs": [
        {
          "output_type": "stream",
          "text": [
            "'The graphic designer requires a good precessor to work.' => comp.graphics\n",
            "'Flights into space' => sci.space\n"
          ],
          "name": "stdout"
        }
      ]
    },
    {
      "cell_type": "markdown",
      "metadata": {
        "id": "8D-n6ysvoAsC"
      },
      "source": [
        "### 91 TfidfVectorizer()"
      ]
    },
    {
      "cell_type": "code",
      "metadata": {
        "colab": {
          "base_uri": "https://localhost:8080/"
        },
        "id": "0NLrbq53DIDh",
        "outputId": "e7354fea-2a8d-4f16-eb27-e81a5aec19f3"
      },
      "source": [
        "import numpy as np\n",
        "import pandas as pd\n",
        "\n",
        "from sklearn.feature_extraction.text import TfidfVectorizer\n",
        "\n",
        "\n",
        "data_train = pd.read_excel('data_train.xlsx')\n",
        "target_train = pd.read_excel('target_train.xlsx')\n",
        "\n",
        "categories = ['comp.graphics', 'sci.space']\n",
        "\n",
        "data_train = data_train['text'].tolist()\n",
        "target_train = target_train.values.ravel()\n",
        "\n",
        "tfidf = TfidfVectorizer()\n",
        "data_train_vectorized = tfidf.fit_transform(data_train, target_train)\n",
        "\n",
        "data_train_vectorized.shape"
      ],
      "execution_count": 33,
      "outputs": [
        {
          "output_type": "execute_result",
          "data": {
            "text/plain": [
              "(50, 3225)"
            ]
          },
          "metadata": {},
          "execution_count": 33
        }
      ]
    },
    {
      "cell_type": "markdown",
      "metadata": {
        "id": "vVBXaw_rcslx"
      },
      "source": [
        "# Pandas"
      ]
    },
    {
      "cell_type": "markdown",
      "metadata": {
        "id": "GxwSDTNQcwXg"
      },
      "source": [
        "## 1 isna - procent brakujących danych"
      ]
    },
    {
      "cell_type": "code",
      "metadata": {
        "colab": {
          "base_uri": "https://localhost:8080/"
        },
        "id": "wZUAqzZ4cvkr",
        "outputId": "eec1a240-ece7-40ca-e0d1-79d6d6c20a0b"
      },
      "source": [
        "import numpy as np\n",
        "import pandas as pd\n",
        "\n",
        "\n",
        "data = {\n",
        "    'size': ['XL', 'L', 'M', np.nan, 'M', 'M'],\n",
        "    'color': ['red', 'green', 'blue', 'green', 'red', 'green'],\n",
        "    'gender': ['female', 'male', np.nan, 'female', 'female', 'male'],\n",
        "    'price': [199.0, 89.0, np.nan, 129.0, 79.0, 89.0],\n",
        "    'weight': [500, 450, 300, np.nan, 410, np.nan],\n",
        "    'bought': ['yes', 'no', 'yes', 'no', 'yes', 'no']\n",
        "}\n",
        "\n",
        "df = pd.DataFrame(data)\n",
        "\n",
        "print(round(df.isna().sum() / df.shape[0],2))"
      ],
      "execution_count": null,
      "outputs": [
        {
          "output_type": "stream",
          "text": [
            "size      0.17\n",
            "color     0.00\n",
            "gender    0.17\n",
            "price     0.17\n",
            "weight    0.33\n",
            "bought    0.00\n",
            "dtype: float64\n"
          ],
          "name": "stdout"
        }
      ]
    },
    {
      "cell_type": "markdown",
      "metadata": {
        "id": "62J8Dr_tgR9E"
      },
      "source": [
        "## 6 dropna - usun wiersze z nan"
      ]
    },
    {
      "cell_type": "markdown",
      "metadata": {
        "id": "TonsTYxdiaQA"
      },
      "source": [
        "https://pandas.pydata.org/pandas-docs/stable/reference/api/pandas.DataFrame.dropna.html?highlight=dropna"
      ]
    },
    {
      "cell_type": "code",
      "metadata": {
        "colab": {
          "base_uri": "https://localhost:8080/",
          "height": 237
        },
        "id": "jCUNqGDDh2PS",
        "outputId": "3d41910e-fe1b-4f7c-ab62-4d628edba191"
      },
      "source": [
        "import numpy as np\n",
        "import pandas as pd\n",
        "from sklearn.impute import SimpleImputer\n",
        "\n",
        "\n",
        "data = {\n",
        "    'size': ['XL', 'L', 'M', np.nan, 'M', 'M'],\n",
        "    'color': ['red', 'green', 'blue', 'green', 'red', 'green'],\n",
        "    'gender': ['female', 'male', np.nan, 'female', 'female', 'male'],\n",
        "    'price': [199.0, 89.0, np.nan, 129.0, 79.0, 89.0],\n",
        "    'weight': [500, 450, 300, np.nan, 410, np.nan],\n",
        "    'bought': ['yes', 'no', 'yes', 'no', 'yes', 'no']\n",
        "}\n",
        "\n",
        "df = pd.DataFrame(data=data)\n",
        "df"
      ],
      "execution_count": null,
      "outputs": [
        {
          "output_type": "execute_result",
          "data": {
            "text/html": [
              "<div>\n",
              "<style scoped>\n",
              "    .dataframe tbody tr th:only-of-type {\n",
              "        vertical-align: middle;\n",
              "    }\n",
              "\n",
              "    .dataframe tbody tr th {\n",
              "        vertical-align: top;\n",
              "    }\n",
              "\n",
              "    .dataframe thead th {\n",
              "        text-align: right;\n",
              "    }\n",
              "</style>\n",
              "<table border=\"1\" class=\"dataframe\">\n",
              "  <thead>\n",
              "    <tr style=\"text-align: right;\">\n",
              "      <th></th>\n",
              "      <th>size</th>\n",
              "      <th>color</th>\n",
              "      <th>gender</th>\n",
              "      <th>price</th>\n",
              "      <th>weight</th>\n",
              "      <th>bought</th>\n",
              "    </tr>\n",
              "  </thead>\n",
              "  <tbody>\n",
              "    <tr>\n",
              "      <th>0</th>\n",
              "      <td>XL</td>\n",
              "      <td>red</td>\n",
              "      <td>female</td>\n",
              "      <td>199.0</td>\n",
              "      <td>500.0</td>\n",
              "      <td>yes</td>\n",
              "    </tr>\n",
              "    <tr>\n",
              "      <th>1</th>\n",
              "      <td>L</td>\n",
              "      <td>green</td>\n",
              "      <td>male</td>\n",
              "      <td>89.0</td>\n",
              "      <td>450.0</td>\n",
              "      <td>no</td>\n",
              "    </tr>\n",
              "    <tr>\n",
              "      <th>2</th>\n",
              "      <td>M</td>\n",
              "      <td>blue</td>\n",
              "      <td>NaN</td>\n",
              "      <td>NaN</td>\n",
              "      <td>300.0</td>\n",
              "      <td>yes</td>\n",
              "    </tr>\n",
              "    <tr>\n",
              "      <th>3</th>\n",
              "      <td>NaN</td>\n",
              "      <td>green</td>\n",
              "      <td>female</td>\n",
              "      <td>129.0</td>\n",
              "      <td>NaN</td>\n",
              "      <td>no</td>\n",
              "    </tr>\n",
              "    <tr>\n",
              "      <th>4</th>\n",
              "      <td>M</td>\n",
              "      <td>red</td>\n",
              "      <td>female</td>\n",
              "      <td>79.0</td>\n",
              "      <td>410.0</td>\n",
              "      <td>yes</td>\n",
              "    </tr>\n",
              "    <tr>\n",
              "      <th>5</th>\n",
              "      <td>M</td>\n",
              "      <td>green</td>\n",
              "      <td>male</td>\n",
              "      <td>89.0</td>\n",
              "      <td>NaN</td>\n",
              "      <td>no</td>\n",
              "    </tr>\n",
              "  </tbody>\n",
              "</table>\n",
              "</div>"
            ],
            "text/plain": [
              "  size  color  gender  price  weight bought\n",
              "0   XL    red  female  199.0   500.0    yes\n",
              "1    L  green    male   89.0   450.0     no\n",
              "2    M   blue     NaN    NaN   300.0    yes\n",
              "3  NaN  green  female  129.0     NaN     no\n",
              "4    M    red  female   79.0   410.0    yes\n",
              "5    M  green    male   89.0     NaN     no"
            ]
          },
          "metadata": {
            "tags": []
          },
          "execution_count": 16
        }
      ]
    },
    {
      "cell_type": "code",
      "metadata": {
        "colab": {
          "base_uri": "https://localhost:8080/"
        },
        "id": "btNXKp85iEsF",
        "outputId": "4d66cc03-bc11-471f-95fc-8fbf15f6f1bd"
      },
      "source": [
        "df.dropna(axis = 0, how = 'any', inplace = True, subset = ['weight'])\n",
        "print(df[['price','weight']].mean())"
      ],
      "execution_count": null,
      "outputs": [
        {
          "output_type": "stream",
          "text": [
            "price     122.333333\n",
            "weight    415.000000\n",
            "dtype: float64\n"
          ],
          "name": "stdout"
        }
      ]
    },
    {
      "cell_type": "markdown",
      "metadata": {
        "id": "Xr9CrFLmkpCs"
      },
      "source": [
        "## 7 select_dtype i fillna - wybierz kolumny z danym typem danych i zastap nan"
      ]
    },
    {
      "cell_type": "markdown",
      "metadata": {
        "id": "iwoNLx8cmiJF"
      },
      "source": [
        "* select_dtype - https://pandas.pydata.org/pandas-docs/stable/reference/api/pandas.DataFrame.select_dtypes.\n",
        "* fillna - https://pandas.pydata.org/pandas-docs/stable/reference/api/pandas.DataFrame.fillna.html"
      ]
    },
    {
      "cell_type": "code",
      "metadata": {
        "colab": {
          "base_uri": "https://localhost:8080/",
          "height": 237
        },
        "id": "4LEIbACrlGel",
        "outputId": "e9235f66-a047-48fd-e3f3-553fb9df4fe8"
      },
      "source": [
        "import numpy as np\n",
        "import pandas as pd\n",
        "from sklearn.impute import SimpleImputer\n",
        "\n",
        "\n",
        "data = {\n",
        "    'size': ['XL', 'L', 'M', np.nan, 'M', 'M'],\n",
        "    'color': ['red', 'green', 'blue', 'green', 'red', 'green'],\n",
        "    'gender': ['female', 'male', np.nan, 'female', 'female', 'male'],\n",
        "    'price': [199.0, 89.0, np.nan, 129.0, 79.0, 89.0],\n",
        "    'weight': [500, 450, 300, np.nan, 410, np.nan],\n",
        "    'bought': ['yes', 'no', 'yes', 'no', 'yes', 'no']\n",
        "}\n",
        "\n",
        "df = pd.DataFrame(data=data)\n",
        "df"
      ],
      "execution_count": null,
      "outputs": [
        {
          "output_type": "execute_result",
          "data": {
            "text/html": [
              "<div>\n",
              "<style scoped>\n",
              "    .dataframe tbody tr th:only-of-type {\n",
              "        vertical-align: middle;\n",
              "    }\n",
              "\n",
              "    .dataframe tbody tr th {\n",
              "        vertical-align: top;\n",
              "    }\n",
              "\n",
              "    .dataframe thead th {\n",
              "        text-align: right;\n",
              "    }\n",
              "</style>\n",
              "<table border=\"1\" class=\"dataframe\">\n",
              "  <thead>\n",
              "    <tr style=\"text-align: right;\">\n",
              "      <th></th>\n",
              "      <th>size</th>\n",
              "      <th>color</th>\n",
              "      <th>gender</th>\n",
              "      <th>price</th>\n",
              "      <th>weight</th>\n",
              "      <th>bought</th>\n",
              "    </tr>\n",
              "  </thead>\n",
              "  <tbody>\n",
              "    <tr>\n",
              "      <th>0</th>\n",
              "      <td>XL</td>\n",
              "      <td>red</td>\n",
              "      <td>female</td>\n",
              "      <td>199.0</td>\n",
              "      <td>500.0</td>\n",
              "      <td>yes</td>\n",
              "    </tr>\n",
              "    <tr>\n",
              "      <th>1</th>\n",
              "      <td>L</td>\n",
              "      <td>green</td>\n",
              "      <td>male</td>\n",
              "      <td>89.0</td>\n",
              "      <td>450.0</td>\n",
              "      <td>no</td>\n",
              "    </tr>\n",
              "    <tr>\n",
              "      <th>2</th>\n",
              "      <td>M</td>\n",
              "      <td>blue</td>\n",
              "      <td>NaN</td>\n",
              "      <td>NaN</td>\n",
              "      <td>300.0</td>\n",
              "      <td>yes</td>\n",
              "    </tr>\n",
              "    <tr>\n",
              "      <th>3</th>\n",
              "      <td>NaN</td>\n",
              "      <td>green</td>\n",
              "      <td>female</td>\n",
              "      <td>129.0</td>\n",
              "      <td>NaN</td>\n",
              "      <td>no</td>\n",
              "    </tr>\n",
              "    <tr>\n",
              "      <th>4</th>\n",
              "      <td>M</td>\n",
              "      <td>red</td>\n",
              "      <td>female</td>\n",
              "      <td>79.0</td>\n",
              "      <td>410.0</td>\n",
              "      <td>yes</td>\n",
              "    </tr>\n",
              "    <tr>\n",
              "      <th>5</th>\n",
              "      <td>M</td>\n",
              "      <td>green</td>\n",
              "      <td>male</td>\n",
              "      <td>89.0</td>\n",
              "      <td>NaN</td>\n",
              "      <td>no</td>\n",
              "    </tr>\n",
              "  </tbody>\n",
              "</table>\n",
              "</div>"
            ],
            "text/plain": [
              "  size  color  gender  price  weight bought\n",
              "0   XL    red  female  199.0   500.0    yes\n",
              "1    L  green    male   89.0   450.0     no\n",
              "2    M   blue     NaN    NaN   300.0    yes\n",
              "3  NaN  green  female  129.0     NaN     no\n",
              "4    M    red  female   79.0   410.0    yes\n",
              "5    M  green    male   89.0     NaN     no"
            ]
          },
          "metadata": {
            "tags": []
          },
          "execution_count": 28
        }
      ]
    },
    {
      "cell_type": "code",
      "metadata": {
        "colab": {
          "base_uri": "https://localhost:8080/"
        },
        "id": "HAHLNhgtlJ4L",
        "outputId": "65dc497a-7776-4510-c94d-a58b19ec9f4c"
      },
      "source": [
        "df_object = df.select_dtypes(include = ['object']).fillna(value = 'empty')\n",
        "print(df_object)"
      ],
      "execution_count": null,
      "outputs": [
        {
          "output_type": "stream",
          "text": [
            "    size  color  gender bought\n",
            "0     XL    red  female    yes\n",
            "1      L  green    male     no\n",
            "2      M   blue   empty    yes\n",
            "3  empty  green  female     no\n",
            "4      M    red  female    yes\n",
            "5      M  green    male     no\n"
          ],
          "name": "stdout"
        }
      ]
    },
    {
      "cell_type": "markdown",
      "metadata": {
        "id": "-sBBI0dopgNV"
      },
      "source": [
        "## 8 cut - dyskretyzacja, automatyczne przedziały"
      ]
    },
    {
      "cell_type": "markdown",
      "metadata": {
        "id": "1hdU78QwsTVG"
      },
      "source": [
        "pd.cut - https://www.geeksforgeeks.org/pandas-cut-method-in-python/#:~:text=Pandas%20cut%20%28%29%20function%20is%20used%20to%20separate,%28x%2C%20bins%2C%20right%3DTrue%2C%20labels%3DNone%2C%20retbins%3DFalse%2C%20precision%3D3%2C%20include_lowest%3DFalse%2C%20duplicates%3D%E2%80%9Draise%E2%80%9D%2C%29"
      ]
    },
    {
      "cell_type": "code",
      "metadata": {
        "colab": {
          "base_uri": "https://localhost:8080/",
          "height": 269
        },
        "id": "UxxG6z3FpqLG",
        "outputId": "f2362db3-304a-4759-ebe0-fa5c103d571f"
      },
      "source": [
        "import pandas as pd\n",
        "\n",
        "\n",
        "df = pd.DataFrame(data={'weight': [75., 78.5, 85., 91., 84.5, 83., 68.]})\n",
        "df "
      ],
      "execution_count": null,
      "outputs": [
        {
          "output_type": "execute_result",
          "data": {
            "text/html": [
              "<div>\n",
              "<style scoped>\n",
              "    .dataframe tbody tr th:only-of-type {\n",
              "        vertical-align: middle;\n",
              "    }\n",
              "\n",
              "    .dataframe tbody tr th {\n",
              "        vertical-align: top;\n",
              "    }\n",
              "\n",
              "    .dataframe thead th {\n",
              "        text-align: right;\n",
              "    }\n",
              "</style>\n",
              "<table border=\"1\" class=\"dataframe\">\n",
              "  <thead>\n",
              "    <tr style=\"text-align: right;\">\n",
              "      <th></th>\n",
              "      <th>weight</th>\n",
              "    </tr>\n",
              "  </thead>\n",
              "  <tbody>\n",
              "    <tr>\n",
              "      <th>0</th>\n",
              "      <td>75.0</td>\n",
              "    </tr>\n",
              "    <tr>\n",
              "      <th>1</th>\n",
              "      <td>78.5</td>\n",
              "    </tr>\n",
              "    <tr>\n",
              "      <th>2</th>\n",
              "      <td>85.0</td>\n",
              "    </tr>\n",
              "    <tr>\n",
              "      <th>3</th>\n",
              "      <td>91.0</td>\n",
              "    </tr>\n",
              "    <tr>\n",
              "      <th>4</th>\n",
              "      <td>84.5</td>\n",
              "    </tr>\n",
              "    <tr>\n",
              "      <th>5</th>\n",
              "      <td>83.0</td>\n",
              "    </tr>\n",
              "    <tr>\n",
              "      <th>6</th>\n",
              "      <td>68.0</td>\n",
              "    </tr>\n",
              "  </tbody>\n",
              "</table>\n",
              "</div>"
            ],
            "text/plain": [
              "   weight\n",
              "0    75.0\n",
              "1    78.5\n",
              "2    85.0\n",
              "3    91.0\n",
              "4    84.5\n",
              "5    83.0\n",
              "6    68.0"
            ]
          },
          "metadata": {
            "tags": []
          },
          "execution_count": 36
        }
      ]
    },
    {
      "cell_type": "code",
      "metadata": {
        "colab": {
          "base_uri": "https://localhost:8080/",
          "height": 269
        },
        "id": "N7Wge-5_rVf4",
        "outputId": "b5ee9543-c8a5-40c9-fc4b-a21f1f006aaa"
      },
      "source": [
        "df['weight_cut'] = pd.cut(df['weight'], bins = 3)\n",
        "df"
      ],
      "execution_count": null,
      "outputs": [
        {
          "output_type": "execute_result",
          "data": {
            "text/html": [
              "<div>\n",
              "<style scoped>\n",
              "    .dataframe tbody tr th:only-of-type {\n",
              "        vertical-align: middle;\n",
              "    }\n",
              "\n",
              "    .dataframe tbody tr th {\n",
              "        vertical-align: top;\n",
              "    }\n",
              "\n",
              "    .dataframe thead th {\n",
              "        text-align: right;\n",
              "    }\n",
              "</style>\n",
              "<table border=\"1\" class=\"dataframe\">\n",
              "  <thead>\n",
              "    <tr style=\"text-align: right;\">\n",
              "      <th></th>\n",
              "      <th>weight</th>\n",
              "      <th>weight_cut</th>\n",
              "    </tr>\n",
              "  </thead>\n",
              "  <tbody>\n",
              "    <tr>\n",
              "      <th>0</th>\n",
              "      <td>75.0</td>\n",
              "      <td>(67.977, 75.667]</td>\n",
              "    </tr>\n",
              "    <tr>\n",
              "      <th>1</th>\n",
              "      <td>78.5</td>\n",
              "      <td>(75.667, 83.333]</td>\n",
              "    </tr>\n",
              "    <tr>\n",
              "      <th>2</th>\n",
              "      <td>85.0</td>\n",
              "      <td>(83.333, 91.0]</td>\n",
              "    </tr>\n",
              "    <tr>\n",
              "      <th>3</th>\n",
              "      <td>91.0</td>\n",
              "      <td>(83.333, 91.0]</td>\n",
              "    </tr>\n",
              "    <tr>\n",
              "      <th>4</th>\n",
              "      <td>84.5</td>\n",
              "      <td>(83.333, 91.0]</td>\n",
              "    </tr>\n",
              "    <tr>\n",
              "      <th>5</th>\n",
              "      <td>83.0</td>\n",
              "      <td>(75.667, 83.333]</td>\n",
              "    </tr>\n",
              "    <tr>\n",
              "      <th>6</th>\n",
              "      <td>68.0</td>\n",
              "      <td>(67.977, 75.667]</td>\n",
              "    </tr>\n",
              "  </tbody>\n",
              "</table>\n",
              "</div>"
            ],
            "text/plain": [
              "   weight        weight_cut\n",
              "0    75.0  (67.977, 75.667]\n",
              "1    78.5  (75.667, 83.333]\n",
              "2    85.0    (83.333, 91.0]\n",
              "3    91.0    (83.333, 91.0]\n",
              "4    84.5    (83.333, 91.0]\n",
              "5    83.0  (75.667, 83.333]\n",
              "6    68.0  (67.977, 75.667]"
            ]
          },
          "metadata": {
            "tags": []
          },
          "execution_count": 37
        }
      ]
    },
    {
      "cell_type": "markdown",
      "metadata": {
        "id": "oBHVUtuLvr3f"
      },
      "source": [
        "## 9 cut - dyskretyzacja, określone przedziały"
      ]
    },
    {
      "cell_type": "code",
      "metadata": {
        "colab": {
          "base_uri": "https://localhost:8080/",
          "height": 269
        },
        "id": "bvCQ0ueqv1H0",
        "outputId": "444979f4-18ee-4789-aa06-75deb1c6bee4"
      },
      "source": [
        "import pandas as pd\n",
        "\n",
        "\n",
        "df = pd.DataFrame(data={'weight': [75., 78.5, 85., 91., 84.5, 83., 68.]})\n",
        "df"
      ],
      "execution_count": null,
      "outputs": [
        {
          "output_type": "execute_result",
          "data": {
            "text/html": [
              "<div>\n",
              "<style scoped>\n",
              "    .dataframe tbody tr th:only-of-type {\n",
              "        vertical-align: middle;\n",
              "    }\n",
              "\n",
              "    .dataframe tbody tr th {\n",
              "        vertical-align: top;\n",
              "    }\n",
              "\n",
              "    .dataframe thead th {\n",
              "        text-align: right;\n",
              "    }\n",
              "</style>\n",
              "<table border=\"1\" class=\"dataframe\">\n",
              "  <thead>\n",
              "    <tr style=\"text-align: right;\">\n",
              "      <th></th>\n",
              "      <th>weight</th>\n",
              "    </tr>\n",
              "  </thead>\n",
              "  <tbody>\n",
              "    <tr>\n",
              "      <th>0</th>\n",
              "      <td>75.0</td>\n",
              "    </tr>\n",
              "    <tr>\n",
              "      <th>1</th>\n",
              "      <td>78.5</td>\n",
              "    </tr>\n",
              "    <tr>\n",
              "      <th>2</th>\n",
              "      <td>85.0</td>\n",
              "    </tr>\n",
              "    <tr>\n",
              "      <th>3</th>\n",
              "      <td>91.0</td>\n",
              "    </tr>\n",
              "    <tr>\n",
              "      <th>4</th>\n",
              "      <td>84.5</td>\n",
              "    </tr>\n",
              "    <tr>\n",
              "      <th>5</th>\n",
              "      <td>83.0</td>\n",
              "    </tr>\n",
              "    <tr>\n",
              "      <th>6</th>\n",
              "      <td>68.0</td>\n",
              "    </tr>\n",
              "  </tbody>\n",
              "</table>\n",
              "</div>"
            ],
            "text/plain": [
              "   weight\n",
              "0    75.0\n",
              "1    78.5\n",
              "2    85.0\n",
              "3    91.0\n",
              "4    84.5\n",
              "5    83.0\n",
              "6    68.0"
            ]
          },
          "metadata": {
            "tags": []
          },
          "execution_count": 39
        }
      ]
    },
    {
      "cell_type": "code",
      "metadata": {
        "colab": {
          "base_uri": "https://localhost:8080/"
        },
        "id": "cSOpIqhXv3BB",
        "outputId": "cf08c6c5-2f25-434e-e32c-958431b89cfd"
      },
      "source": [
        "df['weight_cut'] = pd.cut(df['weight'], right = True, bins = [60,75,80,95])\n",
        "print(df)"
      ],
      "execution_count": null,
      "outputs": [
        {
          "output_type": "stream",
          "text": [
            "   weight weight_cut\n",
            "0    75.0   (60, 75]\n",
            "1    78.5   (75, 80]\n",
            "2    85.0   (80, 95]\n",
            "3    91.0   (80, 95]\n",
            "4    84.5   (80, 95]\n",
            "5    83.0   (80, 95]\n",
            "6    68.0   (60, 75]\n"
          ],
          "name": "stdout"
        }
      ]
    },
    {
      "cell_type": "markdown",
      "metadata": {
        "id": "Jc4npSocxabS"
      },
      "source": [
        "## 10 cut - dyskretyzacja, etykiety przedziałów"
      ]
    },
    {
      "cell_type": "code",
      "metadata": {
        "colab": {
          "base_uri": "https://localhost:8080/",
          "height": 269
        },
        "id": "r-hpZ1q0xeHj",
        "outputId": "bae4dcae-e697-4e29-f6e7-9c2075b279be"
      },
      "source": [
        "import pandas as pd\n",
        "\n",
        "\n",
        "df = pd.DataFrame(data={'weight': [75., 78.5, 85., 91., 84.5, 83., 68.]})\n",
        "df"
      ],
      "execution_count": null,
      "outputs": [
        {
          "output_type": "execute_result",
          "data": {
            "text/html": [
              "<div>\n",
              "<style scoped>\n",
              "    .dataframe tbody tr th:only-of-type {\n",
              "        vertical-align: middle;\n",
              "    }\n",
              "\n",
              "    .dataframe tbody tr th {\n",
              "        vertical-align: top;\n",
              "    }\n",
              "\n",
              "    .dataframe thead th {\n",
              "        text-align: right;\n",
              "    }\n",
              "</style>\n",
              "<table border=\"1\" class=\"dataframe\">\n",
              "  <thead>\n",
              "    <tr style=\"text-align: right;\">\n",
              "      <th></th>\n",
              "      <th>weight</th>\n",
              "    </tr>\n",
              "  </thead>\n",
              "  <tbody>\n",
              "    <tr>\n",
              "      <th>0</th>\n",
              "      <td>75.0</td>\n",
              "    </tr>\n",
              "    <tr>\n",
              "      <th>1</th>\n",
              "      <td>78.5</td>\n",
              "    </tr>\n",
              "    <tr>\n",
              "      <th>2</th>\n",
              "      <td>85.0</td>\n",
              "    </tr>\n",
              "    <tr>\n",
              "      <th>3</th>\n",
              "      <td>91.0</td>\n",
              "    </tr>\n",
              "    <tr>\n",
              "      <th>4</th>\n",
              "      <td>84.5</td>\n",
              "    </tr>\n",
              "    <tr>\n",
              "      <th>5</th>\n",
              "      <td>83.0</td>\n",
              "    </tr>\n",
              "    <tr>\n",
              "      <th>6</th>\n",
              "      <td>68.0</td>\n",
              "    </tr>\n",
              "  </tbody>\n",
              "</table>\n",
              "</div>"
            ],
            "text/plain": [
              "   weight\n",
              "0    75.0\n",
              "1    78.5\n",
              "2    85.0\n",
              "3    91.0\n",
              "4    84.5\n",
              "5    83.0\n",
              "6    68.0"
            ]
          },
          "metadata": {
            "tags": []
          },
          "execution_count": 43
        }
      ]
    },
    {
      "cell_type": "code",
      "metadata": {
        "colab": {
          "base_uri": "https://localhost:8080/"
        },
        "id": "zAZIOZn0xfhi",
        "outputId": "26f5d5b7-e1e9-4f1d-8a6b-bf7a04d653ad"
      },
      "source": [
        "df['weight_cut'] = pd.cut(df['weight'], right = True, bins = [60,75,80,95], labels = ['light', 'normal', 'heavy'])\n",
        "print(df)"
      ],
      "execution_count": null,
      "outputs": [
        {
          "output_type": "stream",
          "text": [
            "   weight weight_cut\n",
            "0    75.0      light\n",
            "1    78.5     normal\n",
            "2    85.0      heavy\n",
            "3    91.0      heavy\n",
            "4    84.5      heavy\n",
            "5    83.0      heavy\n",
            "6    68.0      light\n"
          ],
          "name": "stdout"
        }
      ]
    },
    {
      "cell_type": "markdown",
      "metadata": {
        "id": "NJIXUPNU9893"
      },
      "source": [
        "## 11 get_dummies"
      ]
    },
    {
      "cell_type": "markdown",
      "metadata": {
        "id": "pfKQXOBrPtHZ"
      },
      "source": [
        "https://pandas.pydata.org/pandas-docs/stable/reference/api/pandas.get_dummies.html"
      ]
    },
    {
      "cell_type": "code",
      "metadata": {
        "colab": {
          "base_uri": "https://localhost:8080/",
          "height": 269
        },
        "id": "VNmAnWnt-BTk",
        "outputId": "c10f177b-4e1c-449b-ce94-a1e8b6ac9a99"
      },
      "source": [
        "import pandas as pd\n",
        "\n",
        "\n",
        "df = pd.DataFrame(data={'weight': [75., 78.5, 85., 91., 84.5, 83., 68.]})\n",
        "df['weight_cut'] = pd.cut(df['weight'], bins=(60, 75, 80, 95), labels=['light', 'normal', 'heavy'])\n",
        "df"
      ],
      "execution_count": null,
      "outputs": [
        {
          "output_type": "execute_result",
          "data": {
            "text/html": [
              "<div>\n",
              "<style scoped>\n",
              "    .dataframe tbody tr th:only-of-type {\n",
              "        vertical-align: middle;\n",
              "    }\n",
              "\n",
              "    .dataframe tbody tr th {\n",
              "        vertical-align: top;\n",
              "    }\n",
              "\n",
              "    .dataframe thead th {\n",
              "        text-align: right;\n",
              "    }\n",
              "</style>\n",
              "<table border=\"1\" class=\"dataframe\">\n",
              "  <thead>\n",
              "    <tr style=\"text-align: right;\">\n",
              "      <th></th>\n",
              "      <th>weight</th>\n",
              "      <th>weight_cut</th>\n",
              "    </tr>\n",
              "  </thead>\n",
              "  <tbody>\n",
              "    <tr>\n",
              "      <th>0</th>\n",
              "      <td>75.0</td>\n",
              "      <td>light</td>\n",
              "    </tr>\n",
              "    <tr>\n",
              "      <th>1</th>\n",
              "      <td>78.5</td>\n",
              "      <td>normal</td>\n",
              "    </tr>\n",
              "    <tr>\n",
              "      <th>2</th>\n",
              "      <td>85.0</td>\n",
              "      <td>heavy</td>\n",
              "    </tr>\n",
              "    <tr>\n",
              "      <th>3</th>\n",
              "      <td>91.0</td>\n",
              "      <td>heavy</td>\n",
              "    </tr>\n",
              "    <tr>\n",
              "      <th>4</th>\n",
              "      <td>84.5</td>\n",
              "      <td>heavy</td>\n",
              "    </tr>\n",
              "    <tr>\n",
              "      <th>5</th>\n",
              "      <td>83.0</td>\n",
              "      <td>heavy</td>\n",
              "    </tr>\n",
              "    <tr>\n",
              "      <th>6</th>\n",
              "      <td>68.0</td>\n",
              "      <td>light</td>\n",
              "    </tr>\n",
              "  </tbody>\n",
              "</table>\n",
              "</div>"
            ],
            "text/plain": [
              "   weight weight_cut\n",
              "0    75.0      light\n",
              "1    78.5     normal\n",
              "2    85.0      heavy\n",
              "3    91.0      heavy\n",
              "4    84.5      heavy\n",
              "5    83.0      heavy\n",
              "6    68.0      light"
            ]
          },
          "metadata": {
            "tags": []
          },
          "execution_count": 61
        }
      ]
    },
    {
      "cell_type": "code",
      "metadata": {
        "colab": {
          "base_uri": "https://localhost:8080/"
        },
        "id": "ZPkHVxuX-JMU",
        "outputId": "ae53c964-14d2-48c8-94b9-f99ddc5a9b42"
      },
      "source": [
        "df = pd.get_dummies(df)\n",
        "print(df)"
      ],
      "execution_count": null,
      "outputs": [
        {
          "output_type": "stream",
          "text": [
            "   weight  weight_cut_light  weight_cut_normal  weight_cut_heavy\n",
            "0    75.0                 1                  0                 0\n",
            "1    78.5                 0                  1                 0\n",
            "2    85.0                 0                  0                 1\n",
            "3    91.0                 0                  0                 1\n",
            "4    84.5                 0                  0                 1\n",
            "5    83.0                 0                  0                 1\n",
            "6    68.0                 1                  0                 0\n"
          ],
          "name": "stdout"
        }
      ]
    },
    {
      "cell_type": "markdown",
      "metadata": {
        "id": "KGxgw9pHQZyv"
      },
      "source": [
        "## 12 apply"
      ]
    },
    {
      "cell_type": "code",
      "metadata": {
        "colab": {
          "base_uri": "https://localhost:8080/",
          "height": 206
        },
        "id": "_5WK97oDQbe3",
        "outputId": "d88c2a1d-983f-40b4-fc32-08576dc56f05"
      },
      "source": [
        "import pandas as pd\n",
        "\n",
        "\n",
        "data_dict = {\n",
        "    'currency': [['PLN', 'USD'], ['EUR', 'USD', 'PLN', 'CAD'], ['GBP'], ['JPY', 'CZK', 'HUF'], []]\n",
        "}\n",
        "df = pd.DataFrame(data=data_dict)\n",
        "df"
      ],
      "execution_count": null,
      "outputs": [
        {
          "output_type": "execute_result",
          "data": {
            "text/html": [
              "<div>\n",
              "<style scoped>\n",
              "    .dataframe tbody tr th:only-of-type {\n",
              "        vertical-align: middle;\n",
              "    }\n",
              "\n",
              "    .dataframe tbody tr th {\n",
              "        vertical-align: top;\n",
              "    }\n",
              "\n",
              "    .dataframe thead th {\n",
              "        text-align: right;\n",
              "    }\n",
              "</style>\n",
              "<table border=\"1\" class=\"dataframe\">\n",
              "  <thead>\n",
              "    <tr style=\"text-align: right;\">\n",
              "      <th></th>\n",
              "      <th>currency</th>\n",
              "    </tr>\n",
              "  </thead>\n",
              "  <tbody>\n",
              "    <tr>\n",
              "      <th>0</th>\n",
              "      <td>[PLN, USD]</td>\n",
              "    </tr>\n",
              "    <tr>\n",
              "      <th>1</th>\n",
              "      <td>[EUR, USD, PLN, CAD]</td>\n",
              "    </tr>\n",
              "    <tr>\n",
              "      <th>2</th>\n",
              "      <td>[GBP]</td>\n",
              "    </tr>\n",
              "    <tr>\n",
              "      <th>3</th>\n",
              "      <td>[JPY, CZK, HUF]</td>\n",
              "    </tr>\n",
              "    <tr>\n",
              "      <th>4</th>\n",
              "      <td>[]</td>\n",
              "    </tr>\n",
              "  </tbody>\n",
              "</table>\n",
              "</div>"
            ],
            "text/plain": [
              "               currency\n",
              "0            [PLN, USD]\n",
              "1  [EUR, USD, PLN, CAD]\n",
              "2                 [GBP]\n",
              "3       [JPY, CZK, HUF]\n",
              "4                    []"
            ]
          },
          "metadata": {
            "tags": []
          },
          "execution_count": 64
        }
      ]
    },
    {
      "cell_type": "code",
      "metadata": {
        "colab": {
          "base_uri": "https://localhost:8080/"
        },
        "id": "PSOYPx_LQdFv",
        "outputId": "dc476fff-e97f-447a-bf41-98b3835f36c2"
      },
      "source": [
        "df['number'] = df['currency'].apply(lambda x: len(x))\n",
        "print(df)"
      ],
      "execution_count": null,
      "outputs": [
        {
          "output_type": "stream",
          "text": [
            "               currency  number\n",
            "0            [PLN, USD]       2\n",
            "1  [EUR, USD, PLN, CAD]       4\n",
            "2                 [GBP]       1\n",
            "3       [JPY, CZK, HUF]       3\n",
            "4                    []       0\n"
          ],
          "name": "stdout"
        }
      ]
    },
    {
      "cell_type": "markdown",
      "metadata": {
        "id": "Ed0YlXt1Rgk4"
      },
      "source": [
        "## 13 apply"
      ]
    },
    {
      "cell_type": "code",
      "metadata": {
        "colab": {
          "base_uri": "https://localhost:8080/",
          "height": 206
        },
        "id": "qSP79KgaRiBm",
        "outputId": "35392f40-c241-454a-a821-c37f32d647fb"
      },
      "source": [
        "import pandas as pd\n",
        "\n",
        "\n",
        "data_dict = {\n",
        "    'currency': [['PLN', 'USD'], ['EUR', 'USD', 'PLN', 'CAD'], ['GBP'], ['JPY', 'CZK', 'HUF'], []]\n",
        "}\n",
        "df = pd.DataFrame(data=data_dict)\n",
        "df"
      ],
      "execution_count": null,
      "outputs": [
        {
          "output_type": "execute_result",
          "data": {
            "text/html": [
              "<div>\n",
              "<style scoped>\n",
              "    .dataframe tbody tr th:only-of-type {\n",
              "        vertical-align: middle;\n",
              "    }\n",
              "\n",
              "    .dataframe tbody tr th {\n",
              "        vertical-align: top;\n",
              "    }\n",
              "\n",
              "    .dataframe thead th {\n",
              "        text-align: right;\n",
              "    }\n",
              "</style>\n",
              "<table border=\"1\" class=\"dataframe\">\n",
              "  <thead>\n",
              "    <tr style=\"text-align: right;\">\n",
              "      <th></th>\n",
              "      <th>currency</th>\n",
              "    </tr>\n",
              "  </thead>\n",
              "  <tbody>\n",
              "    <tr>\n",
              "      <th>0</th>\n",
              "      <td>[PLN, USD]</td>\n",
              "    </tr>\n",
              "    <tr>\n",
              "      <th>1</th>\n",
              "      <td>[EUR, USD, PLN, CAD]</td>\n",
              "    </tr>\n",
              "    <tr>\n",
              "      <th>2</th>\n",
              "      <td>[GBP]</td>\n",
              "    </tr>\n",
              "    <tr>\n",
              "      <th>3</th>\n",
              "      <td>[JPY, CZK, HUF]</td>\n",
              "    </tr>\n",
              "    <tr>\n",
              "      <th>4</th>\n",
              "      <td>[]</td>\n",
              "    </tr>\n",
              "  </tbody>\n",
              "</table>\n",
              "</div>"
            ],
            "text/plain": [
              "               currency\n",
              "0            [PLN, USD]\n",
              "1  [EUR, USD, PLN, CAD]\n",
              "2                 [GBP]\n",
              "3       [JPY, CZK, HUF]\n",
              "4                    []"
            ]
          },
          "metadata": {
            "tags": []
          },
          "execution_count": 72
        }
      ]
    },
    {
      "cell_type": "code",
      "metadata": {
        "colab": {
          "base_uri": "https://localhost:8080/"
        },
        "id": "IEw2hpPbRktp",
        "outputId": "9667f8ce-29c2-4727-fd6d-7c1a950d9b97"
      },
      "source": [
        "df['PLN_flag'] = df['currency'].apply(lambda x: 1 if 'PLN' in x else 0)\n",
        "print(df)"
      ],
      "execution_count": null,
      "outputs": [
        {
          "output_type": "stream",
          "text": [
            "               currency  PLN_flag\n",
            "0            [PLN, USD]         1\n",
            "1  [EUR, USD, PLN, CAD]         1\n",
            "2                 [GBP]         0\n",
            "3       [JPY, CZK, HUF]         0\n",
            "4                    []         0\n"
          ],
          "name": "stdout"
        }
      ]
    },
    {
      "cell_type": "markdown",
      "metadata": {
        "id": "mmXuejhksM8O"
      },
      "source": [
        "## 14 str.split - split wartosci kolumny na pojedyncze kolumny"
      ]
    },
    {
      "cell_type": "code",
      "metadata": {
        "colab": {
          "base_uri": "https://localhost:8080/",
          "height": 173
        },
        "id": "8H9h4xy2sUvG",
        "outputId": "ff506281-bb56-4ff3-efe7-a25750c896c8"
      },
      "source": [
        "import pandas as pd\n",
        "\n",
        "\n",
        "df = pd.DataFrame(data={'hashtags': ['#good#vibes', '#hot#summer#holiday', '#street#food', '#workout']})\n",
        "df"
      ],
      "execution_count": null,
      "outputs": [
        {
          "output_type": "execute_result",
          "data": {
            "text/html": [
              "<div>\n",
              "<style scoped>\n",
              "    .dataframe tbody tr th:only-of-type {\n",
              "        vertical-align: middle;\n",
              "    }\n",
              "\n",
              "    .dataframe tbody tr th {\n",
              "        vertical-align: top;\n",
              "    }\n",
              "\n",
              "    .dataframe thead th {\n",
              "        text-align: right;\n",
              "    }\n",
              "</style>\n",
              "<table border=\"1\" class=\"dataframe\">\n",
              "  <thead>\n",
              "    <tr style=\"text-align: right;\">\n",
              "      <th></th>\n",
              "      <th>hashtags</th>\n",
              "    </tr>\n",
              "  </thead>\n",
              "  <tbody>\n",
              "    <tr>\n",
              "      <th>0</th>\n",
              "      <td>#good#vibes</td>\n",
              "    </tr>\n",
              "    <tr>\n",
              "      <th>1</th>\n",
              "      <td>#hot#summer#holiday</td>\n",
              "    </tr>\n",
              "    <tr>\n",
              "      <th>2</th>\n",
              "      <td>#street#food</td>\n",
              "    </tr>\n",
              "    <tr>\n",
              "      <th>3</th>\n",
              "      <td>#workout</td>\n",
              "    </tr>\n",
              "  </tbody>\n",
              "</table>\n",
              "</div>"
            ],
            "text/plain": [
              "              hashtags\n",
              "0          #good#vibes\n",
              "1  #hot#summer#holiday\n",
              "2         #street#food\n",
              "3             #workout"
            ]
          },
          "metadata": {
            "tags": []
          },
          "execution_count": 74
        }
      ]
    },
    {
      "cell_type": "code",
      "metadata": {
        "colab": {
          "base_uri": "https://localhost:8080/"
        },
        "id": "OwEl7aV0siG0",
        "outputId": "d9e39456-1efe-488f-ee84-6ee224b2f4ab"
      },
      "source": [
        "df = df['hashtags'].str.split('#', expand=True)\n",
        "df = df.drop(columns = [0])\n",
        "df.columns = ['hashtag1','hashtag2', 'hashtag3']\n",
        "print(df)"
      ],
      "execution_count": null,
      "outputs": [
        {
          "output_type": "stream",
          "text": [
            "  hashtag1 hashtag2 hashtag3\n",
            "0     good    vibes     None\n",
            "1      hot   summer  holiday\n",
            "2   street     food     None\n",
            "3  workout     None     None\n"
          ],
          "name": "stdout"
        }
      ]
    },
    {
      "cell_type": "markdown",
      "metadata": {
        "id": "ITkHG1z-A15B"
      },
      "source": [
        "## 73 str.split - split wartości kolumny na pojedyncze kolumny"
      ]
    },
    {
      "cell_type": "code",
      "metadata": {
        "colab": {
          "base_uri": "https://localhost:8080/",
          "height": 235
        },
        "id": "c6EnGykoA1aF",
        "outputId": "8002c846-9e4f-42d2-97aa-921d84130be9"
      },
      "source": [
        "import numpy as np\n",
        "import pandas as pd\n",
        "\n",
        "\n",
        "data = {'products': ['bread eggs', 'bread eggs milk', 'milk cheese', \n",
        "                     'bread butter cheese', 'eggs milk', \n",
        "                     'bread milk butter cheese']}\n",
        "\n",
        "transactions = pd.DataFrame(data=data, index=range(1, 7))\n",
        "\n",
        "transactions"
      ],
      "execution_count": null,
      "outputs": [
        {
          "output_type": "execute_result",
          "data": {
            "text/html": [
              "<div>\n",
              "<style scoped>\n",
              "    .dataframe tbody tr th:only-of-type {\n",
              "        vertical-align: middle;\n",
              "    }\n",
              "\n",
              "    .dataframe tbody tr th {\n",
              "        vertical-align: top;\n",
              "    }\n",
              "\n",
              "    .dataframe thead th {\n",
              "        text-align: right;\n",
              "    }\n",
              "</style>\n",
              "<table border=\"1\" class=\"dataframe\">\n",
              "  <thead>\n",
              "    <tr style=\"text-align: right;\">\n",
              "      <th></th>\n",
              "      <th>products</th>\n",
              "    </tr>\n",
              "  </thead>\n",
              "  <tbody>\n",
              "    <tr>\n",
              "      <th>1</th>\n",
              "      <td>bread eggs</td>\n",
              "    </tr>\n",
              "    <tr>\n",
              "      <th>2</th>\n",
              "      <td>bread eggs milk</td>\n",
              "    </tr>\n",
              "    <tr>\n",
              "      <th>3</th>\n",
              "      <td>milk cheese</td>\n",
              "    </tr>\n",
              "    <tr>\n",
              "      <th>4</th>\n",
              "      <td>bread butter cheese</td>\n",
              "    </tr>\n",
              "    <tr>\n",
              "      <th>5</th>\n",
              "      <td>eggs milk</td>\n",
              "    </tr>\n",
              "    <tr>\n",
              "      <th>6</th>\n",
              "      <td>bread milk butter cheese</td>\n",
              "    </tr>\n",
              "  </tbody>\n",
              "</table>\n",
              "</div>"
            ],
            "text/plain": [
              "                   products\n",
              "1                bread eggs\n",
              "2           bread eggs milk\n",
              "3               milk cheese\n",
              "4       bread butter cheese\n",
              "5                 eggs milk\n",
              "6  bread milk butter cheese"
            ]
          },
          "metadata": {},
          "execution_count": 8
        }
      ]
    },
    {
      "cell_type": "code",
      "metadata": {
        "colab": {
          "base_uri": "https://localhost:8080/",
          "height": 235
        },
        "id": "BwuCAUSaBB-L",
        "outputId": "fcbdcddf-0ae3-4691-f804-e6702d219988"
      },
      "source": [
        "expanded = transactions['products'].str.split(expand = True)\n",
        "print(expanded)"
      ],
      "execution_count": null,
      "outputs": [
        {
          "output_type": "execute_result",
          "data": {
            "text/html": [
              "<div>\n",
              "<style scoped>\n",
              "    .dataframe tbody tr th:only-of-type {\n",
              "        vertical-align: middle;\n",
              "    }\n",
              "\n",
              "    .dataframe tbody tr th {\n",
              "        vertical-align: top;\n",
              "    }\n",
              "\n",
              "    .dataframe thead th {\n",
              "        text-align: right;\n",
              "    }\n",
              "</style>\n",
              "<table border=\"1\" class=\"dataframe\">\n",
              "  <thead>\n",
              "    <tr style=\"text-align: right;\">\n",
              "      <th></th>\n",
              "      <th>0</th>\n",
              "      <th>1</th>\n",
              "      <th>2</th>\n",
              "      <th>3</th>\n",
              "    </tr>\n",
              "  </thead>\n",
              "  <tbody>\n",
              "    <tr>\n",
              "      <th>1</th>\n",
              "      <td>bread</td>\n",
              "      <td>eggs</td>\n",
              "      <td>None</td>\n",
              "      <td>None</td>\n",
              "    </tr>\n",
              "    <tr>\n",
              "      <th>2</th>\n",
              "      <td>bread</td>\n",
              "      <td>eggs</td>\n",
              "      <td>milk</td>\n",
              "      <td>None</td>\n",
              "    </tr>\n",
              "    <tr>\n",
              "      <th>3</th>\n",
              "      <td>milk</td>\n",
              "      <td>cheese</td>\n",
              "      <td>None</td>\n",
              "      <td>None</td>\n",
              "    </tr>\n",
              "    <tr>\n",
              "      <th>4</th>\n",
              "      <td>bread</td>\n",
              "      <td>butter</td>\n",
              "      <td>cheese</td>\n",
              "      <td>None</td>\n",
              "    </tr>\n",
              "    <tr>\n",
              "      <th>5</th>\n",
              "      <td>eggs</td>\n",
              "      <td>milk</td>\n",
              "      <td>None</td>\n",
              "      <td>None</td>\n",
              "    </tr>\n",
              "    <tr>\n",
              "      <th>6</th>\n",
              "      <td>bread</td>\n",
              "      <td>milk</td>\n",
              "      <td>butter</td>\n",
              "      <td>cheese</td>\n",
              "    </tr>\n",
              "  </tbody>\n",
              "</table>\n",
              "</div>"
            ],
            "text/plain": [
              "       0       1       2       3\n",
              "1  bread    eggs    None    None\n",
              "2  bread    eggs    milk    None\n",
              "3   milk  cheese    None    None\n",
              "4  bread  butter  cheese    None\n",
              "5   eggs    milk    None    None\n",
              "6  bread    milk  butter  cheese"
            ]
          },
          "metadata": {},
          "execution_count": 9
        }
      ]
    },
    {
      "cell_type": "markdown",
      "metadata": {
        "id": "ytCMIXz8FtPn"
      },
      "source": [
        "## 74 unikalne wartosci z całego df"
      ]
    },
    {
      "cell_type": "code",
      "metadata": {
        "id": "phanpIm4Ftyx"
      },
      "source": [
        "import numpy as np\n",
        "import pandas as pd\n",
        "\n",
        "\n",
        "data = {'products': ['bread eggs', 'bread eggs milk', 'milk cheese', \n",
        "                     'bread butter cheese', 'eggs milk', \n",
        "                     'bread milk butter cheese']}\n",
        "\n",
        "transactions = pd.DataFrame(data=data, index=range(1, 7))\n",
        "expanded = transactions['products'].str.split(expand=True"
      ],
      "execution_count": null,
      "outputs": []
    },
    {
      "cell_type": "code",
      "metadata": {
        "colab": {
          "base_uri": "https://localhost:8080/"
        },
        "id": "Sg_HRHpENLr_",
        "outputId": "728cc7a4-eb2d-4c0b-feaa-e98c12d46c47"
      },
      "source": [
        "expanded[2].unique().tolist()"
      ],
      "execution_count": null,
      "outputs": [
        {
          "output_type": "execute_result",
          "data": {
            "text/plain": [
              "[None, 'milk', 'cheese', 'butter']"
            ]
          },
          "metadata": {},
          "execution_count": 36
        }
      ]
    },
    {
      "cell_type": "code",
      "metadata": {
        "colab": {
          "base_uri": "https://localhost:8080/"
        },
        "id": "M_7bQJW6MAIt",
        "outputId": "c518385e-60b8-47c6-b2ae-e6dc4aa1b3f5"
      },
      "source": [
        "products = []\n",
        "\n",
        "for i in range(4):\n",
        "  temp = []\n",
        "  temp = expanded[i].unique().tolist()\n",
        "  for j in range(len(temp)):\n",
        "    if temp[j] in products or temp[j] == None:\n",
        "      pass\n",
        "    else:\n",
        "      products.append(temp[j])\n",
        "\n",
        "print(sorted(products))"
      ],
      "execution_count": null,
      "outputs": [
        {
          "output_type": "stream",
          "text": [
            "['bread', 'butter', 'cheese', 'eggs', 'milk']\n"
          ],
          "name": "stdout"
        }
      ]
    },
    {
      "cell_type": "markdown",
      "metadata": {
        "id": "mTaEDRYoba_-"
      },
      "source": [
        "## 75 encoded 0 i 1 z unikalnymi wartosciami"
      ]
    },
    {
      "cell_type": "code",
      "metadata": {
        "colab": {
          "base_uri": "https://localhost:8080/",
          "height": 235
        },
        "id": "qlanT4dTbc2J",
        "outputId": "a62ab28d-a2d6-4b06-b4f1-525ffb6c6545"
      },
      "source": [
        "import numpy as np\n",
        "import pandas as pd\n",
        "\n",
        "\n",
        "data = {'products': ['bread eggs', 'bread eggs milk', 'milk cheese', \n",
        "                     'bread butter cheese', 'eggs milk', \n",
        "                     'bread milk butter cheese']}\n",
        "\n",
        "transactions = pd.DataFrame(data=data, index=range(1, 7))\n",
        "expanded = transactions['products'].str.split(expand=True)\n",
        "\n",
        "products = []\n",
        "for col in expanded.columns:\n",
        "    for product in expanded[col].unique():\n",
        "        if product is not None and product not in products:\n",
        "            products.append(product)\n",
        "\n",
        "products.sort()\n",
        "\n",
        "expanded"
      ],
      "execution_count": null,
      "outputs": [
        {
          "output_type": "execute_result",
          "data": {
            "text/html": [
              "<div>\n",
              "<style scoped>\n",
              "    .dataframe tbody tr th:only-of-type {\n",
              "        vertical-align: middle;\n",
              "    }\n",
              "\n",
              "    .dataframe tbody tr th {\n",
              "        vertical-align: top;\n",
              "    }\n",
              "\n",
              "    .dataframe thead th {\n",
              "        text-align: right;\n",
              "    }\n",
              "</style>\n",
              "<table border=\"1\" class=\"dataframe\">\n",
              "  <thead>\n",
              "    <tr style=\"text-align: right;\">\n",
              "      <th></th>\n",
              "      <th>0</th>\n",
              "      <th>1</th>\n",
              "      <th>2</th>\n",
              "      <th>3</th>\n",
              "    </tr>\n",
              "  </thead>\n",
              "  <tbody>\n",
              "    <tr>\n",
              "      <th>1</th>\n",
              "      <td>bread</td>\n",
              "      <td>eggs</td>\n",
              "      <td>None</td>\n",
              "      <td>None</td>\n",
              "    </tr>\n",
              "    <tr>\n",
              "      <th>2</th>\n",
              "      <td>bread</td>\n",
              "      <td>eggs</td>\n",
              "      <td>milk</td>\n",
              "      <td>None</td>\n",
              "    </tr>\n",
              "    <tr>\n",
              "      <th>3</th>\n",
              "      <td>milk</td>\n",
              "      <td>cheese</td>\n",
              "      <td>None</td>\n",
              "      <td>None</td>\n",
              "    </tr>\n",
              "    <tr>\n",
              "      <th>4</th>\n",
              "      <td>bread</td>\n",
              "      <td>butter</td>\n",
              "      <td>cheese</td>\n",
              "      <td>None</td>\n",
              "    </tr>\n",
              "    <tr>\n",
              "      <th>5</th>\n",
              "      <td>eggs</td>\n",
              "      <td>milk</td>\n",
              "      <td>None</td>\n",
              "      <td>None</td>\n",
              "    </tr>\n",
              "    <tr>\n",
              "      <th>6</th>\n",
              "      <td>bread</td>\n",
              "      <td>milk</td>\n",
              "      <td>butter</td>\n",
              "      <td>cheese</td>\n",
              "    </tr>\n",
              "  </tbody>\n",
              "</table>\n",
              "</div>"
            ],
            "text/plain": [
              "       0       1       2       3\n",
              "1  bread    eggs    None    None\n",
              "2  bread    eggs    milk    None\n",
              "3   milk  cheese    None    None\n",
              "4  bread  butter  cheese    None\n",
              "5   eggs    milk    None    None\n",
              "6  bread    milk  butter  cheese"
            ]
          },
          "metadata": {},
          "execution_count": 21
        }
      ]
    },
    {
      "cell_type": "code",
      "metadata": {
        "colab": {
          "base_uri": "https://localhost:8080/"
        },
        "id": "20hUQNshbgpS",
        "outputId": "1d147783-fe2b-4d31-8c94-cba7e3317130"
      },
      "source": [
        "products"
      ],
      "execution_count": null,
      "outputs": [
        {
          "output_type": "execute_result",
          "data": {
            "text/plain": [
              "['bread', 'butter', 'cheese', 'eggs', 'milk']"
            ]
          },
          "metadata": {},
          "execution_count": 22
        }
      ]
    },
    {
      "cell_type": "code",
      "metadata": {
        "colab": {
          "base_uri": "https://localhost:8080/",
          "height": 235
        },
        "id": "bMSfmmmmbh9o",
        "outputId": "9f4e10c1-6d42-4dc8-9fa0-bdb4a6dcf498"
      },
      "source": [
        "transactions_encoded_df = pd.DataFrame(0, columns = products, index = range(1,7))\n",
        "transactions_encoded_df"
      ],
      "execution_count": null,
      "outputs": [
        {
          "output_type": "execute_result",
          "data": {
            "text/html": [
              "<div>\n",
              "<style scoped>\n",
              "    .dataframe tbody tr th:only-of-type {\n",
              "        vertical-align: middle;\n",
              "    }\n",
              "\n",
              "    .dataframe tbody tr th {\n",
              "        vertical-align: top;\n",
              "    }\n",
              "\n",
              "    .dataframe thead th {\n",
              "        text-align: right;\n",
              "    }\n",
              "</style>\n",
              "<table border=\"1\" class=\"dataframe\">\n",
              "  <thead>\n",
              "    <tr style=\"text-align: right;\">\n",
              "      <th></th>\n",
              "      <th>bread</th>\n",
              "      <th>butter</th>\n",
              "      <th>cheese</th>\n",
              "      <th>eggs</th>\n",
              "      <th>milk</th>\n",
              "    </tr>\n",
              "  </thead>\n",
              "  <tbody>\n",
              "    <tr>\n",
              "      <th>1</th>\n",
              "      <td>0</td>\n",
              "      <td>0</td>\n",
              "      <td>0</td>\n",
              "      <td>0</td>\n",
              "      <td>0</td>\n",
              "    </tr>\n",
              "    <tr>\n",
              "      <th>2</th>\n",
              "      <td>0</td>\n",
              "      <td>0</td>\n",
              "      <td>0</td>\n",
              "      <td>0</td>\n",
              "      <td>0</td>\n",
              "    </tr>\n",
              "    <tr>\n",
              "      <th>3</th>\n",
              "      <td>0</td>\n",
              "      <td>0</td>\n",
              "      <td>0</td>\n",
              "      <td>0</td>\n",
              "      <td>0</td>\n",
              "    </tr>\n",
              "    <tr>\n",
              "      <th>4</th>\n",
              "      <td>0</td>\n",
              "      <td>0</td>\n",
              "      <td>0</td>\n",
              "      <td>0</td>\n",
              "      <td>0</td>\n",
              "    </tr>\n",
              "    <tr>\n",
              "      <th>5</th>\n",
              "      <td>0</td>\n",
              "      <td>0</td>\n",
              "      <td>0</td>\n",
              "      <td>0</td>\n",
              "      <td>0</td>\n",
              "    </tr>\n",
              "    <tr>\n",
              "      <th>6</th>\n",
              "      <td>0</td>\n",
              "      <td>0</td>\n",
              "      <td>0</td>\n",
              "      <td>0</td>\n",
              "      <td>0</td>\n",
              "    </tr>\n",
              "  </tbody>\n",
              "</table>\n",
              "</div>"
            ],
            "text/plain": [
              "   bread  butter  cheese  eggs  milk\n",
              "1      0       0       0     0     0\n",
              "2      0       0       0     0     0\n",
              "3      0       0       0     0     0\n",
              "4      0       0       0     0     0\n",
              "5      0       0       0     0     0\n",
              "6      0       0       0     0     0"
            ]
          },
          "metadata": {},
          "execution_count": 23
        }
      ]
    },
    {
      "cell_type": "code",
      "metadata": {
        "colab": {
          "base_uri": "https://localhost:8080/"
        },
        "id": "aDMaW_fIbuKV",
        "outputId": "87104297-4b56-4ed0-c958-06b4bf97d1f0"
      },
      "source": [
        "for i in range(4):\n",
        "  for j in range(1,len(expanded)+1):\n",
        "    for k in products:\n",
        "      if expanded[i][j] == k:\n",
        "        transactions_encoded_df[k][j] = 1\n",
        "      else:\n",
        "        pass\n",
        "\n",
        "transactions_encoded_df = transactions_encoded_df.reset_index(drop=True)\n",
        "\n",
        "print(transactions_encoded_df)"
      ],
      "execution_count": null,
      "outputs": [
        {
          "output_type": "stream",
          "text": [
            "   bread  butter  cheese  eggs  milk\n",
            "0      1       0       0     1     0\n",
            "1      1       0       0     1     1\n",
            "2      0       0       1     0     1\n",
            "3      1       1       1     0     0\n",
            "4      0       0       0     1     1\n",
            "5      1       1       1     0     1\n"
          ],
          "name": "stdout"
        }
      ]
    },
    {
      "cell_type": "code",
      "metadata": {
        "id": "eJdXB0bCi65w"
      },
      "source": [
        "total = len(transactions_encoded_df)\n",
        "support = transactions_encoded_df.sum()"
      ],
      "execution_count": null,
      "outputs": []
    },
    {
      "cell_type": "code",
      "metadata": {
        "colab": {
          "base_uri": "https://localhost:8080/"
        },
        "id": "kKcPXXNpjyFc",
        "outputId": "2768b5ac-716e-45e5-dd47-021667ae0346"
      },
      "source": [
        "support"
      ],
      "execution_count": null,
      "outputs": [
        {
          "output_type": "execute_result",
          "data": {
            "text/plain": [
              "bread     4\n",
              "butter    2\n",
              "cheese    3\n",
              "eggs      3\n",
              "milk      4\n",
              "dtype: int64"
            ]
          },
          "metadata": {},
          "execution_count": 26
        }
      ]
    },
    {
      "cell_type": "code",
      "metadata": {
        "colab": {
          "base_uri": "https://localhost:8080/"
        },
        "id": "UTb9NXkCByam",
        "outputId": "26ff27eb-e42c-427d-9a64-671856eb21ec"
      },
      "source": [
        "total"
      ],
      "execution_count": null,
      "outputs": [
        {
          "output_type": "execute_result",
          "data": {
            "text/plain": [
              "6"
            ]
          },
          "metadata": {},
          "execution_count": 55
        }
      ]
    },
    {
      "cell_type": "code",
      "metadata": {
        "colab": {
          "base_uri": "https://localhost:8080/",
          "height": 235
        },
        "id": "wUBMlbiPjmR-",
        "outputId": "e049c9e9-48c1-485b-9b86-5a88b12f6f8c"
      },
      "source": [
        "transactions_encoded_df"
      ],
      "execution_count": null,
      "outputs": [
        {
          "output_type": "execute_result",
          "data": {
            "text/html": [
              "<div>\n",
              "<style scoped>\n",
              "    .dataframe tbody tr th:only-of-type {\n",
              "        vertical-align: middle;\n",
              "    }\n",
              "\n",
              "    .dataframe tbody tr th {\n",
              "        vertical-align: top;\n",
              "    }\n",
              "\n",
              "    .dataframe thead th {\n",
              "        text-align: right;\n",
              "    }\n",
              "</style>\n",
              "<table border=\"1\" class=\"dataframe\">\n",
              "  <thead>\n",
              "    <tr style=\"text-align: right;\">\n",
              "      <th></th>\n",
              "      <th>bread</th>\n",
              "      <th>butter</th>\n",
              "      <th>cheese</th>\n",
              "      <th>eggs</th>\n",
              "      <th>milk</th>\n",
              "    </tr>\n",
              "  </thead>\n",
              "  <tbody>\n",
              "    <tr>\n",
              "      <th>1</th>\n",
              "      <td>1</td>\n",
              "      <td>0</td>\n",
              "      <td>0</td>\n",
              "      <td>1</td>\n",
              "      <td>0</td>\n",
              "    </tr>\n",
              "    <tr>\n",
              "      <th>2</th>\n",
              "      <td>1</td>\n",
              "      <td>0</td>\n",
              "      <td>0</td>\n",
              "      <td>1</td>\n",
              "      <td>1</td>\n",
              "    </tr>\n",
              "    <tr>\n",
              "      <th>3</th>\n",
              "      <td>0</td>\n",
              "      <td>0</td>\n",
              "      <td>1</td>\n",
              "      <td>0</td>\n",
              "      <td>1</td>\n",
              "    </tr>\n",
              "    <tr>\n",
              "      <th>4</th>\n",
              "      <td>1</td>\n",
              "      <td>1</td>\n",
              "      <td>1</td>\n",
              "      <td>0</td>\n",
              "      <td>0</td>\n",
              "    </tr>\n",
              "    <tr>\n",
              "      <th>5</th>\n",
              "      <td>0</td>\n",
              "      <td>0</td>\n",
              "      <td>0</td>\n",
              "      <td>1</td>\n",
              "      <td>1</td>\n",
              "    </tr>\n",
              "    <tr>\n",
              "      <th>6</th>\n",
              "      <td>1</td>\n",
              "      <td>1</td>\n",
              "      <td>1</td>\n",
              "      <td>0</td>\n",
              "      <td>1</td>\n",
              "    </tr>\n",
              "  </tbody>\n",
              "</table>\n",
              "</div>"
            ],
            "text/plain": [
              "   bread  butter  cheese  eggs  milk\n",
              "1      1       0       0     1     0\n",
              "2      1       0       0     1     1\n",
              "3      0       0       1     0     1\n",
              "4      1       1       1     0     0\n",
              "5      0       0       0     1     1\n",
              "6      1       1       1     0     1"
            ]
          },
          "metadata": {},
          "execution_count": 43
        }
      ]
    },
    {
      "cell_type": "code",
      "metadata": {
        "colab": {
          "base_uri": "https://localhost:8080/"
        },
        "id": "-k_1jLWFDMNc",
        "outputId": "9757024b-b4a5-4bfc-9070-839d9aa6366e"
      },
      "source": [
        "transactions_encoded_df['bread'][3]"
      ],
      "execution_count": null,
      "outputs": [
        {
          "output_type": "execute_result",
          "data": {
            "text/plain": [
              "0"
            ]
          },
          "metadata": {},
          "execution_count": 45
        }
      ]
    },
    {
      "cell_type": "markdown",
      "metadata": {
        "id": "Izyjv66_IAvr"
      },
      "source": [
        "## 77 wsparcie"
      ]
    },
    {
      "cell_type": "code",
      "metadata": {
        "id": "XtZxMJlaCTth"
      },
      "source": [
        "but_br = 0\n",
        "but_mi = 0\n",
        "for i in range(len(transactions_encoded_df)):\n",
        "  if transactions_encoded_df['bread'][i] == 1 and transactions_encoded_df['butter'][i] == 1:\n",
        "    but_br += 1\n",
        "  if transactions_encoded_df['butter'][i] == 1 and transactions_encoded_df['milk'][i] == 1:\n",
        "    but_mi += 1"
      ],
      "execution_count": null,
      "outputs": []
    },
    {
      "cell_type": "code",
      "metadata": {
        "colab": {
          "base_uri": "https://localhost:8080/"
        },
        "id": "-OVkMl3kGfII",
        "outputId": "a42ba6ec-ba69-49d2-d250-fd86e4375671"
      },
      "source": [
        "print('support(butter, bread) =',round(but_br/total,4))\n",
        "print('support(butter, milk) =',round(but_mi/total,4))"
      ],
      "execution_count": null,
      "outputs": [
        {
          "output_type": "stream",
          "text": [
            "support(butter, bread) = 0.3333\n",
            "support(butter, milk) = 0.1667\n"
          ],
          "name": "stdout"
        }
      ]
    },
    {
      "cell_type": "markdown",
      "metadata": {
        "id": "6SIr6f4QO2Vu"
      },
      "source": [
        "## 78 pewność"
      ]
    },
    {
      "cell_type": "code",
      "metadata": {
        "id": "MkSxPBwrO4Q6"
      },
      "source": [
        "ch_br = 0\n",
        "but_ch = 0\n",
        "for i in range(len(transactions_encoded_df)):\n",
        "  if transactions_encoded_df['cheese'][i] == 1 and transactions_encoded_df['bread'][i] == 1:\n",
        "    ch_br += 1\n",
        "  if transactions_encoded_df['butter'][i] == 1 and transactions_encoded_df['cheese'][i] == 1:\n",
        "    but_ch += 1"
      ],
      "execution_count": null,
      "outputs": []
    },
    {
      "cell_type": "code",
      "metadata": {
        "colab": {
          "base_uri": "https://localhost:8080/"
        },
        "id": "_I1yxcgNPFdn",
        "outputId": "f3b6da52-4855-4fce-fee3-0f2897a8fefc"
      },
      "source": [
        "print('conf(cheese, bread) =',round(ch_br/transactions_encoded_df['cheese'].sum(),4))\n",
        "print('conf(butter, cheese) =',round(but_ch/transactions_encoded_df['butter'].sum(),4))"
      ],
      "execution_count": null,
      "outputs": [
        {
          "output_type": "stream",
          "text": [
            "conf(cheese, bread) = 0.6667\n",
            "conf(butter, cheese) = 1.0\n"
          ],
          "name": "stdout"
        }
      ]
    },
    {
      "cell_type": "markdown",
      "metadata": {
        "id": "ZCzCm8BfyjIg"
      },
      "source": [
        "## 15 isnull - policz nan w wierszu"
      ]
    },
    {
      "cell_type": "code",
      "metadata": {
        "colab": {
          "base_uri": "https://localhost:8080/",
          "height": 173
        },
        "id": "YfQmJWy-ykWb",
        "outputId": "85380da5-ea19-4586-9ccc-189762ec0877"
      },
      "source": [
        "import pandas as pd\n",
        "\n",
        "\n",
        "df = pd.DataFrame(data={'hashtags': ['#good#vibes', '#hot#summer#holiday', '#street#food', '#workout']})\n",
        "df = df['hashtags'].str.split('#', expand=True)\n",
        "df = df.drop(columns=[0])\n",
        "df.columns = ['hashtag1', 'hashtag2', 'hashtag3']\n",
        "df"
      ],
      "execution_count": null,
      "outputs": [
        {
          "output_type": "execute_result",
          "data": {
            "text/html": [
              "<div>\n",
              "<style scoped>\n",
              "    .dataframe tbody tr th:only-of-type {\n",
              "        vertical-align: middle;\n",
              "    }\n",
              "\n",
              "    .dataframe tbody tr th {\n",
              "        vertical-align: top;\n",
              "    }\n",
              "\n",
              "    .dataframe thead th {\n",
              "        text-align: right;\n",
              "    }\n",
              "</style>\n",
              "<table border=\"1\" class=\"dataframe\">\n",
              "  <thead>\n",
              "    <tr style=\"text-align: right;\">\n",
              "      <th></th>\n",
              "      <th>hashtag1</th>\n",
              "      <th>hashtag2</th>\n",
              "      <th>hashtag3</th>\n",
              "    </tr>\n",
              "  </thead>\n",
              "  <tbody>\n",
              "    <tr>\n",
              "      <th>0</th>\n",
              "      <td>good</td>\n",
              "      <td>vibes</td>\n",
              "      <td>None</td>\n",
              "    </tr>\n",
              "    <tr>\n",
              "      <th>1</th>\n",
              "      <td>hot</td>\n",
              "      <td>summer</td>\n",
              "      <td>holiday</td>\n",
              "    </tr>\n",
              "    <tr>\n",
              "      <th>2</th>\n",
              "      <td>street</td>\n",
              "      <td>food</td>\n",
              "      <td>None</td>\n",
              "    </tr>\n",
              "    <tr>\n",
              "      <th>3</th>\n",
              "      <td>workout</td>\n",
              "      <td>None</td>\n",
              "      <td>None</td>\n",
              "    </tr>\n",
              "  </tbody>\n",
              "</table>\n",
              "</div>"
            ],
            "text/plain": [
              "  hashtag1 hashtag2 hashtag3\n",
              "0     good    vibes     None\n",
              "1      hot   summer  holiday\n",
              "2   street     food     None\n",
              "3  workout     None     None"
            ]
          },
          "metadata": {
            "tags": []
          },
          "execution_count": 76
        }
      ]
    },
    {
      "cell_type": "code",
      "metadata": {
        "colab": {
          "base_uri": "https://localhost:8080/"
        },
        "id": "5fbUwXMHymET",
        "outputId": "cfeeb24b-b982-4b96-83a7-75b3715ad535"
      },
      "source": [
        "df['missing'] = df.isnull().sum(axis = 1)\n",
        "print(df)"
      ],
      "execution_count": null,
      "outputs": [
        {
          "output_type": "stream",
          "text": [
            "  hashtag1 hashtag2 hashtag3  missing\n",
            "0     good    vibes     None        2\n",
            "1      hot   summer  holiday        1\n",
            "2   street     food     None        2\n",
            "3  workout     None     None        3\n"
          ],
          "name": "stdout"
        }
      ]
    },
    {
      "cell_type": "markdown",
      "metadata": {
        "id": "hA1IFMf30pCI"
      },
      "source": [
        "## 16 ''.join(x) - 100.000.000 na int"
      ]
    },
    {
      "cell_type": "code",
      "metadata": {
        "colab": {
          "base_uri": "https://localhost:8080/",
          "height": 173
        },
        "id": "a4ol8oIA0q9H",
        "outputId": "7f6227b5-e34a-41c0-820d-ed5691ed3bd2"
      },
      "source": [
        "import pandas as pd\n",
        "\n",
        "df = pd.DataFrame(data={'investments': ['100_000_000', '100_000', '30_000_000', '100_500_000']})\n",
        "df"
      ],
      "execution_count": null,
      "outputs": [
        {
          "output_type": "execute_result",
          "data": {
            "text/html": [
              "<div>\n",
              "<style scoped>\n",
              "    .dataframe tbody tr th:only-of-type {\n",
              "        vertical-align: middle;\n",
              "    }\n",
              "\n",
              "    .dataframe tbody tr th {\n",
              "        vertical-align: top;\n",
              "    }\n",
              "\n",
              "    .dataframe thead th {\n",
              "        text-align: right;\n",
              "    }\n",
              "</style>\n",
              "<table border=\"1\" class=\"dataframe\">\n",
              "  <thead>\n",
              "    <tr style=\"text-align: right;\">\n",
              "      <th></th>\n",
              "      <th>investments</th>\n",
              "    </tr>\n",
              "  </thead>\n",
              "  <tbody>\n",
              "    <tr>\n",
              "      <th>0</th>\n",
              "      <td>100_000_000</td>\n",
              "    </tr>\n",
              "    <tr>\n",
              "      <th>1</th>\n",
              "      <td>100_000</td>\n",
              "    </tr>\n",
              "    <tr>\n",
              "      <th>2</th>\n",
              "      <td>30_000_000</td>\n",
              "    </tr>\n",
              "    <tr>\n",
              "      <th>3</th>\n",
              "      <td>100_500_000</td>\n",
              "    </tr>\n",
              "  </tbody>\n",
              "</table>\n",
              "</div>"
            ],
            "text/plain": [
              "   investments\n",
              "0  100_000_000\n",
              "1      100_000\n",
              "2   30_000_000\n",
              "3  100_500_000"
            ]
          },
          "metadata": {
            "tags": []
          },
          "execution_count": 107
        }
      ]
    },
    {
      "cell_type": "code",
      "metadata": {
        "colab": {
          "base_uri": "https://localhost:8080/",
          "height": 173
        },
        "id": "rcgVaY0e0ssL",
        "outputId": "2df9d27d-8ca1-4695-f9fa-e6ade2a18bd1"
      },
      "source": [
        "df['investments'] = df['investments'].str.split('_')\n",
        "df['investments'] =df['investments'].apply(lambda x: int(''.join(x)))\n",
        "print(df)"
      ],
      "execution_count": null,
      "outputs": [
        {
          "output_type": "execute_result",
          "data": {
            "text/html": [
              "<div>\n",
              "<style scoped>\n",
              "    .dataframe tbody tr th:only-of-type {\n",
              "        vertical-align: middle;\n",
              "    }\n",
              "\n",
              "    .dataframe tbody tr th {\n",
              "        vertical-align: top;\n",
              "    }\n",
              "\n",
              "    .dataframe thead th {\n",
              "        text-align: right;\n",
              "    }\n",
              "</style>\n",
              "<table border=\"1\" class=\"dataframe\">\n",
              "  <thead>\n",
              "    <tr style=\"text-align: right;\">\n",
              "      <th></th>\n",
              "      <th>investments</th>\n",
              "    </tr>\n",
              "  </thead>\n",
              "  <tbody>\n",
              "    <tr>\n",
              "      <th>0</th>\n",
              "      <td>100000000</td>\n",
              "    </tr>\n",
              "    <tr>\n",
              "      <th>1</th>\n",
              "      <td>100000</td>\n",
              "    </tr>\n",
              "    <tr>\n",
              "      <th>2</th>\n",
              "      <td>30000000</td>\n",
              "    </tr>\n",
              "    <tr>\n",
              "      <th>3</th>\n",
              "      <td>100500000</td>\n",
              "    </tr>\n",
              "  </tbody>\n",
              "</table>\n",
              "</div>"
            ],
            "text/plain": [
              "   investments\n",
              "0    100000000\n",
              "1       100000\n",
              "2     30000000\n",
              "3    100500000"
            ]
          },
          "metadata": {
            "tags": []
          },
          "execution_count": 108
        }
      ]
    },
    {
      "cell_type": "markdown",
      "metadata": {
        "id": "IhbWeLw-WZ3F"
      },
      "source": [
        "## 88 df to list"
      ]
    },
    {
      "cell_type": "code",
      "metadata": {
        "colab": {
          "base_uri": "https://localhost:8080/"
        },
        "id": "xfcio4uaWcMw",
        "outputId": "6bac7324-bcbc-40eb-8f65-3444977b8c69"
      },
      "source": [
        "import numpy as np\n",
        "import pandas as pd\n",
        "\n",
        "data_train = pd.read_excel('data_train.xlsx')\n",
        "target_train = pd.read_excel('target_train.xlsx')\n",
        "\n",
        "data_train = data_train.values.tolist()\n",
        "len(data_train)"
      ],
      "execution_count": 9,
      "outputs": [
        {
          "output_type": "execute_result",
          "data": {
            "text/plain": [
              "50"
            ]
          },
          "metadata": {},
          "execution_count": 9
        }
      ]
    },
    {
      "cell_type": "markdown",
      "metadata": {
        "id": "a7f2DxUn4VHP"
      },
      "source": [
        "## 93 load_boston() - przygotowanie df"
      ]
    },
    {
      "cell_type": "code",
      "metadata": {
        "colab": {
          "base_uri": "https://localhost:8080/"
        },
        "id": "vMRAcsle4mOX",
        "outputId": "1a260385-f274-43bf-cad5-6eb5366031cc"
      },
      "source": [
        "import numpy as np\n",
        "import pandas as pd\n",
        "\n",
        "from sklearn.datasets import load_boston\n",
        "\n",
        "raw_data = load_boston()\n",
        "data = raw_data['data']\n",
        "target = raw_data['target']\n",
        "\n",
        "df = pd.DataFrame(data = np.c_[data, target], columns = list(raw_data.feature_names) + ['target'] )\n",
        "print(df.head(5))"
      ],
      "execution_count": 70,
      "outputs": [
        {
          "output_type": "stream",
          "text": [
            "      CRIM    ZN  INDUS  CHAS    NOX  ...    TAX  PTRATIO       B  LSTAT  target\n",
            "0  0.00632  18.0   2.31   0.0  0.538  ...  296.0     15.3  396.90   4.98    24.0\n",
            "1  0.02731   0.0   7.07   0.0  0.469  ...  242.0     17.8  396.90   9.14    21.6\n",
            "2  0.02729   0.0   7.07   0.0  0.469  ...  242.0     17.8  392.83   4.03    34.7\n",
            "3  0.03237   0.0   2.18   0.0  0.458  ...  222.0     18.7  394.63   2.94    33.4\n",
            "4  0.06905   0.0   2.18   0.0  0.458  ...  222.0     18.7  396.90   5.33    36.2\n",
            "\n",
            "[5 rows x 14 columns]\n"
          ],
          "name": "stdout"
        }
      ]
    },
    {
      "cell_type": "markdown",
      "metadata": {
        "id": "2RolgUlE96Mj"
      },
      "source": [
        "## 94 corr()"
      ]
    },
    {
      "cell_type": "code",
      "metadata": {
        "colab": {
          "base_uri": "https://localhost:8080/"
        },
        "id": "PHQYFsII9Fja",
        "outputId": "5d60494e-7929-4b7f-8b61-67733a655575"
      },
      "source": [
        "import numpy as np\n",
        "import pandas as pd\n",
        "\n",
        "from sklearn.datasets import load_boston\n",
        "\n",
        "raw_data = load_boston()\n",
        "data = raw_data['data']\n",
        "target = raw_data['target']\n",
        "\n",
        "df = pd.DataFrame(data = np.c_[data, target], columns = list(raw_data.feature_names) + ['target'])\n",
        "\n",
        "df.corr()['target'].sort_values(ascending = False)[1:]"
      ],
      "execution_count": 82,
      "outputs": [
        {
          "output_type": "execute_result",
          "data": {
            "text/plain": [
              "RM         0.695360\n",
              "ZN         0.360445\n",
              "B          0.333461\n",
              "DIS        0.249929\n",
              "CHAS       0.175260\n",
              "AGE       -0.376955\n",
              "RAD       -0.381626\n",
              "CRIM      -0.388305\n",
              "NOX       -0.427321\n",
              "TAX       -0.468536\n",
              "INDUS     -0.483725\n",
              "PTRATIO   -0.507787\n",
              "LSTAT     -0.737663\n",
              "Name: target, dtype: float64"
            ]
          },
          "metadata": {},
          "execution_count": 82
        }
      ]
    },
    {
      "cell_type": "markdown",
      "metadata": {
        "id": "YGIhbjZPDwbg"
      },
      "source": [
        "## 95 "
      ]
    },
    {
      "cell_type": "code",
      "metadata": {
        "colab": {
          "base_uri": "https://localhost:8080/"
        },
        "id": "QGO8BCtnEECh",
        "outputId": "d2008a3e-88ab-414a-9ac0-f9ba0f56cfe7"
      },
      "source": [
        "import numpy as np\n",
        "import pandas as pd\n",
        "\n",
        "from sklearn.datasets import load_boston\n",
        "\n",
        "\n",
        "pd.set_option('display.max_columns', 15)\n",
        "pd.set_option('display.width', 150)\n",
        "raw_data = load_boston()\n",
        "\n",
        "df = pd.DataFrame(data=np.c_[raw_data.data, raw_data.target], columns=list(raw_data.feature_names) + ['target'])\n",
        "\n",
        "data = df.iloc[:,:-1]\n",
        "target = df.iloc[:,-1]\n",
        "\n",
        "print(data[:5])\n",
        "print('\\n')\n",
        "print(target[:5])\n"
      ],
      "execution_count": 89,
      "outputs": [
        {
          "output_type": "stream",
          "text": [
            "      CRIM    ZN  INDUS  CHAS    NOX     RM   AGE     DIS  RAD    TAX  PTRATIO       B  LSTAT\n",
            "0  0.00632  18.0   2.31   0.0  0.538  6.575  65.2  4.0900  1.0  296.0     15.3  396.90   4.98\n",
            "1  0.02731   0.0   7.07   0.0  0.469  6.421  78.9  4.9671  2.0  242.0     17.8  396.90   9.14\n",
            "2  0.02729   0.0   7.07   0.0  0.469  7.185  61.1  4.9671  2.0  242.0     17.8  392.83   4.03\n",
            "3  0.03237   0.0   2.18   0.0  0.458  6.998  45.8  6.0622  3.0  222.0     18.7  394.63   2.94\n",
            "4  0.06905   0.0   2.18   0.0  0.458  7.147  54.2  6.0622  3.0  222.0     18.7  396.90   5.33\n",
            "\n",
            "\n",
            "0    24.0\n",
            "1    21.6\n",
            "2    34.7\n",
            "3    33.4\n",
            "4    36.2\n",
            "Name: target, dtype: float64\n"
          ],
          "name": "stdout"
        }
      ]
    },
    {
      "cell_type": "markdown",
      "metadata": {
        "id": "iG9Ct5o8HpqA"
      },
      "source": [
        ""
      ]
    },
    {
      "cell_type": "code",
      "metadata": {
        "colab": {
          "base_uri": "https://localhost:8080/"
        },
        "id": "z4iBsld5HobT",
        "outputId": "2349dd8a-41ca-4993-b59e-6eec7abb904b"
      },
      "source": [
        "import numpy as np\n",
        "import pandas as pd\n",
        "\n",
        "from sklearn.datasets import load_boston\n",
        "from sklearn.model_selection import train_test_split\n",
        "\n",
        "\n",
        "pd.set_option('display.max_columns', 15)\n",
        "pd.set_option('display.width', 150)\n",
        "raw_data = load_boston()\n",
        "\n",
        "df = pd.DataFrame(data=np.c_[raw_data.data, raw_data.target], columns=list(raw_data.feature_names) + ['target'])\n",
        "\n",
        "data = df.copy()\n",
        "target = data.pop('target')\n",
        "\n",
        "X_train, X_test, y_train, y_test = train_test_split(data, target, random_state = 42)\n",
        "\n",
        "print('X_train shape:',X_train.shape)\n",
        "print('X_test shape:',X_test.shape)\n",
        "print('y_train shape:',y_train.shape)\n",
        "print('y_test shape:',y_test.shape)"
      ],
      "execution_count": 93,
      "outputs": [
        {
          "output_type": "stream",
          "text": [
            "X_train shape: (379, 13)\n",
            "X_test shape: (127, 13)\n",
            "y_train shape: (379,)\n",
            "y_test shape: (127,)\n"
          ],
          "name": "stdout"
        }
      ]
    },
    {
      "cell_type": "markdown",
      "metadata": {
        "id": "qWnTo9nVrDpr"
      },
      "source": [
        "# Numpy"
      ]
    },
    {
      "cell_type": "markdown",
      "metadata": {
        "id": "fqi8tQbyPjt5"
      },
      "source": [
        ""
      ]
    },
    {
      "cell_type": "markdown",
      "metadata": {
        "id": "wQuNQmorwleR"
      },
      "source": [
        "### 28 "
      ]
    },
    {
      "cell_type": "code",
      "metadata": {
        "colab": {
          "base_uri": "https://localhost:8080/"
        },
        "id": "luEuHLoDwwQw",
        "outputId": "2b3a5a70-8903-457a-eb04-4672437a9081"
      },
      "source": [
        "import numpy as np\n",
        "from sklearn.datasets import load_breast_cancer\n",
        "\n",
        "\n",
        "np.set_printoptions(precision=2, suppress=True, linewidth=100)\n",
        "raw_data = load_breast_cancer()\n",
        "\n",
        "raw_data"
      ],
      "execution_count": null,
      "outputs": [
        {
          "output_type": "execute_result",
          "data": {
            "text/plain": [
              "{'DESCR': '.. _breast_cancer_dataset:\\n\\nBreast cancer wisconsin (diagnostic) dataset\\n--------------------------------------------\\n\\n**Data Set Characteristics:**\\n\\n    :Number of Instances: 569\\n\\n    :Number of Attributes: 30 numeric, predictive attributes and the class\\n\\n    :Attribute Information:\\n        - radius (mean of distances from center to points on the perimeter)\\n        - texture (standard deviation of gray-scale values)\\n        - perimeter\\n        - area\\n        - smoothness (local variation in radius lengths)\\n        - compactness (perimeter^2 / area - 1.0)\\n        - concavity (severity of concave portions of the contour)\\n        - concave points (number of concave portions of the contour)\\n        - symmetry \\n        - fractal dimension (\"coastline approximation\" - 1)\\n\\n        The mean, standard error, and \"worst\" or largest (mean of the three\\n        largest values) of these features were computed for each image,\\n        resulting in 30 features.  For instance, field 3 is Mean Radius, field\\n        13 is Radius SE, field 23 is Worst Radius.\\n\\n        - class:\\n                - WDBC-Malignant\\n                - WDBC-Benign\\n\\n    :Summary Statistics:\\n\\n    ===================================== ====== ======\\n                                           Min    Max\\n    ===================================== ====== ======\\n    radius (mean):                        6.981  28.11\\n    texture (mean):                       9.71   39.28\\n    perimeter (mean):                     43.79  188.5\\n    area (mean):                          143.5  2501.0\\n    smoothness (mean):                    0.053  0.163\\n    compactness (mean):                   0.019  0.345\\n    concavity (mean):                     0.0    0.427\\n    concave points (mean):                0.0    0.201\\n    symmetry (mean):                      0.106  0.304\\n    fractal dimension (mean):             0.05   0.097\\n    radius (standard error):              0.112  2.873\\n    texture (standard error):             0.36   4.885\\n    perimeter (standard error):           0.757  21.98\\n    area (standard error):                6.802  542.2\\n    smoothness (standard error):          0.002  0.031\\n    compactness (standard error):         0.002  0.135\\n    concavity (standard error):           0.0    0.396\\n    concave points (standard error):      0.0    0.053\\n    symmetry (standard error):            0.008  0.079\\n    fractal dimension (standard error):   0.001  0.03\\n    radius (worst):                       7.93   36.04\\n    texture (worst):                      12.02  49.54\\n    perimeter (worst):                    50.41  251.2\\n    area (worst):                         185.2  4254.0\\n    smoothness (worst):                   0.071  0.223\\n    compactness (worst):                  0.027  1.058\\n    concavity (worst):                    0.0    1.252\\n    concave points (worst):               0.0    0.291\\n    symmetry (worst):                     0.156  0.664\\n    fractal dimension (worst):            0.055  0.208\\n    ===================================== ====== ======\\n\\n    :Missing Attribute Values: None\\n\\n    :Class Distribution: 212 - Malignant, 357 - Benign\\n\\n    :Creator:  Dr. William H. Wolberg, W. Nick Street, Olvi L. Mangasarian\\n\\n    :Donor: Nick Street\\n\\n    :Date: November, 1995\\n\\nThis is a copy of UCI ML Breast Cancer Wisconsin (Diagnostic) datasets.\\nhttps://goo.gl/U2Uwz2\\n\\nFeatures are computed from a digitized image of a fine needle\\naspirate (FNA) of a breast mass.  They describe\\ncharacteristics of the cell nuclei present in the image.\\n\\nSeparating plane described above was obtained using\\nMultisurface Method-Tree (MSM-T) [K. P. Bennett, \"Decision Tree\\nConstruction Via Linear Programming.\" Proceedings of the 4th\\nMidwest Artificial Intelligence and Cognitive Science Society,\\npp. 97-101, 1992], a classification method which uses linear\\nprogramming to construct a decision tree.  Relevant features\\nwere selected using an exhaustive search in the space of 1-4\\nfeatures and 1-3 separating planes.\\n\\nThe actual linear program used to obtain the separating plane\\nin the 3-dimensional space is that described in:\\n[K. P. Bennett and O. L. Mangasarian: \"Robust Linear\\nProgramming Discrimination of Two Linearly Inseparable Sets\",\\nOptimization Methods and Software 1, 1992, 23-34].\\n\\nThis database is also available through the UW CS ftp server:\\n\\nftp ftp.cs.wisc.edu\\ncd math-prog/cpo-dataset/machine-learn/WDBC/\\n\\n.. topic:: References\\n\\n   - W.N. Street, W.H. Wolberg and O.L. Mangasarian. Nuclear feature extraction \\n     for breast tumor diagnosis. IS&T/SPIE 1993 International Symposium on \\n     Electronic Imaging: Science and Technology, volume 1905, pages 861-870,\\n     San Jose, CA, 1993.\\n   - O.L. Mangasarian, W.N. Street and W.H. Wolberg. Breast cancer diagnosis and \\n     prognosis via linear programming. Operations Research, 43(4), pages 570-577, \\n     July-August 1995.\\n   - W.H. Wolberg, W.N. Street, and O.L. Mangasarian. Machine learning techniques\\n     to diagnose breast cancer from fine-needle aspirates. Cancer Letters 77 (1994) \\n     163-171.',\n",
              " 'data': array([[ 17.99,  10.38, 122.8 , ...,   0.27,   0.46,   0.12],\n",
              "        [ 20.57,  17.77, 132.9 , ...,   0.19,   0.28,   0.09],\n",
              "        [ 19.69,  21.25, 130.  , ...,   0.24,   0.36,   0.09],\n",
              "        ...,\n",
              "        [ 16.6 ,  28.08, 108.3 , ...,   0.14,   0.22,   0.08],\n",
              "        [ 20.6 ,  29.33, 140.1 , ...,   0.27,   0.41,   0.12],\n",
              "        [  7.76,  24.54,  47.92, ...,   0.  ,   0.29,   0.07]]),\n",
              " 'feature_names': array(['mean radius', 'mean texture', 'mean perimeter', 'mean area', 'mean smoothness',\n",
              "        'mean compactness', 'mean concavity', 'mean concave points', 'mean symmetry',\n",
              "        'mean fractal dimension', 'radius error', 'texture error', 'perimeter error', 'area error',\n",
              "        'smoothness error', 'compactness error', 'concavity error', 'concave points error',\n",
              "        'symmetry error', 'fractal dimension error', 'worst radius', 'worst texture',\n",
              "        'worst perimeter', 'worst area', 'worst smoothness', 'worst compactness', 'worst concavity',\n",
              "        'worst concave points', 'worst symmetry', 'worst fractal dimension'], dtype='<U23'),\n",
              " 'filename': '/usr/local/lib/python3.7/dist-packages/sklearn/datasets/data/breast_cancer.csv',\n",
              " 'target': array([0, 0, 0, 0, 0, 0, 0, 0, 0, 0, 0, 0, 0, 0, 0, 0, 0, 0, 0, 1, 1, 1, 0, 0, 0, 0, 0, 0, 0, 0, 0,\n",
              "        0, 0, 0, 0, 0, 0, 1, 0, 0, 0, 0, 0, 0, 0, 0, 1, 0, 1, 1, 1, 1, 1, 0, 0, 1, 0, 0, 1, 1, 1, 1,\n",
              "        0, 1, 0, 0, 1, 1, 1, 1, 0, 1, 0, 0, 1, 0, 1, 0, 0, 1, 1, 1, 0, 0, 1, 0, 0, 0, 1, 1, 1, 0, 1,\n",
              "        1, 0, 0, 1, 1, 1, 0, 0, 1, 1, 1, 1, 0, 1, 1, 0, 1, 1, 1, 1, 1, 1, 1, 1, 0, 0, 0, 1, 0, 0, 1,\n",
              "        1, 1, 0, 0, 1, 0, 1, 0, 0, 1, 0, 0, 1, 1, 0, 1, 1, 0, 1, 1, 1, 1, 0, 1, 1, 1, 1, 1, 1, 1, 1,\n",
              "        1, 0, 1, 1, 1, 1, 0, 0, 1, 0, 1, 1, 0, 0, 1, 1, 0, 0, 1, 1, 1, 1, 0, 1, 1, 0, 0, 0, 1, 0, 1,\n",
              "        0, 1, 1, 1, 0, 1, 1, 0, 0, 1, 0, 0, 0, 0, 1, 0, 0, 0, 1, 0, 1, 0, 1, 1, 0, 1, 0, 0, 0, 0, 1,\n",
              "        1, 0, 0, 1, 1, 1, 0, 1, 1, 1, 1, 1, 0, 0, 1, 1, 0, 1, 1, 0, 0, 1, 0, 1, 1, 1, 1, 0, 1, 1, 1,\n",
              "        1, 1, 0, 1, 0, 0, 0, 0, 0, 0, 0, 0, 0, 0, 0, 0, 0, 0, 1, 1, 1, 1, 1, 1, 0, 1, 0, 1, 1, 0, 1,\n",
              "        1, 0, 1, 0, 0, 1, 1, 1, 1, 1, 1, 1, 1, 1, 1, 1, 1, 1, 0, 1, 1, 0, 1, 0, 1, 1, 1, 1, 1, 1, 1,\n",
              "        1, 1, 1, 1, 1, 1, 1, 0, 1, 1, 1, 0, 1, 0, 1, 1, 1, 1, 0, 0, 0, 1, 1, 1, 1, 0, 1, 0, 1, 0, 1,\n",
              "        1, 1, 0, 1, 1, 1, 1, 1, 1, 1, 0, 0, 0, 1, 1, 1, 1, 1, 1, 1, 1, 1, 1, 1, 0, 0, 1, 0, 0, 0, 1,\n",
              "        0, 0, 1, 1, 1, 1, 1, 0, 1, 1, 1, 1, 1, 0, 1, 1, 1, 0, 1, 1, 0, 0, 1, 1, 1, 1, 1, 1, 0, 1, 1,\n",
              "        1, 1, 1, 1, 1, 0, 1, 1, 1, 1, 1, 0, 1, 1, 0, 1, 1, 1, 1, 1, 1, 1, 1, 1, 1, 1, 1, 0, 1, 0, 0,\n",
              "        1, 0, 1, 1, 1, 1, 1, 0, 1, 1, 0, 1, 0, 1, 1, 0, 1, 0, 1, 1, 1, 1, 1, 1, 1, 1, 0, 0, 1, 1, 1,\n",
              "        1, 1, 1, 0, 1, 1, 1, 1, 1, 1, 1, 1, 1, 1, 0, 1, 1, 1, 1, 1, 1, 1, 0, 1, 0, 1, 1, 0, 1, 1, 1,\n",
              "        1, 1, 0, 0, 1, 0, 1, 0, 1, 1, 1, 1, 1, 0, 1, 1, 0, 1, 0, 1, 0, 0, 1, 1, 1, 0, 1, 1, 1, 1, 1,\n",
              "        1, 1, 1, 1, 1, 1, 0, 1, 0, 0, 1, 1, 1, 1, 1, 1, 1, 1, 1, 1, 1, 1, 1, 1, 1, 1, 1, 1, 1, 1, 1,\n",
              "        1, 1, 1, 1, 0, 0, 0, 0, 0, 0, 1]),\n",
              " 'target_names': array(['malignant', 'benign'], dtype='<U9')}"
            ]
          },
          "metadata": {
            "tags": []
          },
          "execution_count": 6
        }
      ]
    },
    {
      "cell_type": "code",
      "metadata": {
        "colab": {
          "base_uri": "https://localhost:8080/"
        },
        "id": "boonsRHqxwnr",
        "outputId": "72891940-c719-41fb-f43d-f711f2388c01"
      },
      "source": [
        "data = raw_data.data\n",
        "data"
      ],
      "execution_count": null,
      "outputs": [
        {
          "output_type": "execute_result",
          "data": {
            "text/plain": [
              "array([[ 17.99,  10.38, 122.8 , ...,   0.27,   0.46,   0.12],\n",
              "       [ 20.57,  17.77, 132.9 , ...,   0.19,   0.28,   0.09],\n",
              "       [ 19.69,  21.25, 130.  , ...,   0.24,   0.36,   0.09],\n",
              "       ...,\n",
              "       [ 16.6 ,  28.08, 108.3 , ...,   0.14,   0.22,   0.08],\n",
              "       [ 20.6 ,  29.33, 140.1 , ...,   0.27,   0.41,   0.12],\n",
              "       [  7.76,  24.54,  47.92, ...,   0.  ,   0.29,   0.07]])"
            ]
          },
          "metadata": {
            "tags": []
          },
          "execution_count": 7
        }
      ]
    },
    {
      "cell_type": "code",
      "metadata": {
        "colab": {
          "base_uri": "https://localhost:8080/"
        },
        "id": "QuZe2mbKx0TX",
        "outputId": "c0125537-77df-4324-e4ca-e05cd46f2f0d"
      },
      "source": [
        "target = raw_data.target\n",
        "target"
      ],
      "execution_count": null,
      "outputs": [
        {
          "output_type": "execute_result",
          "data": {
            "text/plain": [
              "array([0, 0, 0, 0, 0, 0, 0, 0, 0, 0, 0, 0, 0, 0, 0, 0, 0, 0, 0, 1, 1, 1, 0, 0, 0, 0, 0, 0, 0, 0, 0,\n",
              "       0, 0, 0, 0, 0, 0, 1, 0, 0, 0, 0, 0, 0, 0, 0, 1, 0, 1, 1, 1, 1, 1, 0, 0, 1, 0, 0, 1, 1, 1, 1,\n",
              "       0, 1, 0, 0, 1, 1, 1, 1, 0, 1, 0, 0, 1, 0, 1, 0, 0, 1, 1, 1, 0, 0, 1, 0, 0, 0, 1, 1, 1, 0, 1,\n",
              "       1, 0, 0, 1, 1, 1, 0, 0, 1, 1, 1, 1, 0, 1, 1, 0, 1, 1, 1, 1, 1, 1, 1, 1, 0, 0, 0, 1, 0, 0, 1,\n",
              "       1, 1, 0, 0, 1, 0, 1, 0, 0, 1, 0, 0, 1, 1, 0, 1, 1, 0, 1, 1, 1, 1, 0, 1, 1, 1, 1, 1, 1, 1, 1,\n",
              "       1, 0, 1, 1, 1, 1, 0, 0, 1, 0, 1, 1, 0, 0, 1, 1, 0, 0, 1, 1, 1, 1, 0, 1, 1, 0, 0, 0, 1, 0, 1,\n",
              "       0, 1, 1, 1, 0, 1, 1, 0, 0, 1, 0, 0, 0, 0, 1, 0, 0, 0, 1, 0, 1, 0, 1, 1, 0, 1, 0, 0, 0, 0, 1,\n",
              "       1, 0, 0, 1, 1, 1, 0, 1, 1, 1, 1, 1, 0, 0, 1, 1, 0, 1, 1, 0, 0, 1, 0, 1, 1, 1, 1, 0, 1, 1, 1,\n",
              "       1, 1, 0, 1, 0, 0, 0, 0, 0, 0, 0, 0, 0, 0, 0, 0, 0, 0, 1, 1, 1, 1, 1, 1, 0, 1, 0, 1, 1, 0, 1,\n",
              "       1, 0, 1, 0, 0, 1, 1, 1, 1, 1, 1, 1, 1, 1, 1, 1, 1, 1, 0, 1, 1, 0, 1, 0, 1, 1, 1, 1, 1, 1, 1,\n",
              "       1, 1, 1, 1, 1, 1, 1, 0, 1, 1, 1, 0, 1, 0, 1, 1, 1, 1, 0, 0, 0, 1, 1, 1, 1, 0, 1, 0, 1, 0, 1,\n",
              "       1, 1, 0, 1, 1, 1, 1, 1, 1, 1, 0, 0, 0, 1, 1, 1, 1, 1, 1, 1, 1, 1, 1, 1, 0, 0, 1, 0, 0, 0, 1,\n",
              "       0, 0, 1, 1, 1, 1, 1, 0, 1, 1, 1, 1, 1, 0, 1, 1, 1, 0, 1, 1, 0, 0, 1, 1, 1, 1, 1, 1, 0, 1, 1,\n",
              "       1, 1, 1, 1, 1, 0, 1, 1, 1, 1, 1, 0, 1, 1, 0, 1, 1, 1, 1, 1, 1, 1, 1, 1, 1, 1, 1, 0, 1, 0, 0,\n",
              "       1, 0, 1, 1, 1, 1, 1, 0, 1, 1, 0, 1, 0, 1, 1, 0, 1, 0, 1, 1, 1, 1, 1, 1, 1, 1, 0, 0, 1, 1, 1,\n",
              "       1, 1, 1, 0, 1, 1, 1, 1, 1, 1, 1, 1, 1, 1, 0, 1, 1, 1, 1, 1, 1, 1, 0, 1, 0, 1, 1, 0, 1, 1, 1,\n",
              "       1, 1, 0, 0, 1, 0, 1, 0, 1, 1, 1, 1, 1, 0, 1, 1, 0, 1, 0, 1, 0, 0, 1, 1, 1, 0, 1, 1, 1, 1, 1,\n",
              "       1, 1, 1, 1, 1, 1, 0, 1, 0, 0, 1, 1, 1, 1, 1, 1, 1, 1, 1, 1, 1, 1, 1, 1, 1, 1, 1, 1, 1, 1, 1,\n",
              "       1, 1, 1, 1, 0, 0, 0, 0, 0, 0, 1])"
            ]
          },
          "metadata": {
            "tags": []
          },
          "execution_count": 8
        }
      ]
    },
    {
      "cell_type": "code",
      "metadata": {
        "colab": {
          "base_uri": "https://localhost:8080/"
        },
        "id": "lGDSZtQ7x9sh",
        "outputId": "63e3f91b-062c-4991-dc9d-af5b01aafcb2"
      },
      "source": [
        "print(data[:3])"
      ],
      "execution_count": null,
      "outputs": [
        {
          "output_type": "stream",
          "text": [
            "[[  17.99   10.38  122.8  1001.      0.12    0.28    0.3     0.15    0.24    0.08    1.09    0.91\n",
            "     8.59  153.4     0.01    0.05    0.05    0.02    0.03    0.01   25.38   17.33  184.6  2019.\n",
            "     0.16    0.67    0.71    0.27    0.46    0.12]\n",
            " [  20.57   17.77  132.9  1326.      0.08    0.08    0.09    0.07    0.18    0.06    0.54    0.73\n",
            "     3.4    74.08    0.01    0.01    0.02    0.01    0.01    0.     24.99   23.41  158.8  1956.\n",
            "     0.12    0.19    0.24    0.19    0.28    0.09]\n",
            " [  19.69   21.25  130.   1203.      0.11    0.16    0.2     0.13    0.21    0.06    0.75    0.79\n",
            "     4.58   94.03    0.01    0.04    0.04    0.02    0.02    0.     23.57   25.53  152.5  1709.\n",
            "     0.14    0.42    0.45    0.24    0.36    0.09]]\n"
          ],
          "name": "stdout"
        }
      ]
    },
    {
      "cell_type": "markdown",
      "metadata": {
        "id": "LKv5p0g5rFxP"
      },
      "source": [
        "### 29 c_ - concatenation along second axis"
      ]
    },
    {
      "cell_type": "code",
      "metadata": {
        "colab": {
          "base_uri": "https://localhost:8080/"
        },
        "id": "YEAJYvqErE2R",
        "outputId": "cc961c34-1135-43ae-d900-aa90e1f1e39e"
      },
      "source": [
        "import numpy as np\n",
        "from sklearn.datasets import load_breast_cancer\n",
        "\n",
        "\n",
        "np.set_printoptions(precision=2, suppress=True, linewidth=100) # ustawienia domyślne w wyswietlaniu liczb\n",
        "raw_data = load_breast_cancer()\n",
        "\n",
        "data = raw_data['data']\n",
        "target = raw_data['target']\n",
        "\n",
        "data"
      ],
      "execution_count": null,
      "outputs": [
        {
          "output_type": "execute_result",
          "data": {
            "text/plain": [
              "array([[ 17.99,  10.38, 122.8 , ...,   0.27,   0.46,   0.12],\n",
              "       [ 20.57,  17.77, 132.9 , ...,   0.19,   0.28,   0.09],\n",
              "       [ 19.69,  21.25, 130.  , ...,   0.24,   0.36,   0.09],\n",
              "       ...,\n",
              "       [ 16.6 ,  28.08, 108.3 , ...,   0.14,   0.22,   0.08],\n",
              "       [ 20.6 ,  29.33, 140.1 , ...,   0.27,   0.41,   0.12],\n",
              "       [  7.76,  24.54,  47.92, ...,   0.  ,   0.29,   0.07]])"
            ]
          },
          "metadata": {
            "tags": []
          },
          "execution_count": 2
        }
      ]
    },
    {
      "cell_type": "code",
      "metadata": {
        "colab": {
          "base_uri": "https://localhost:8080/"
        },
        "id": "N-d64VsnrU4w",
        "outputId": "5923c3e1-aca5-4dd3-c6ec-72433091ce66"
      },
      "source": [
        "target"
      ],
      "execution_count": null,
      "outputs": [
        {
          "output_type": "execute_result",
          "data": {
            "text/plain": [
              "array([0, 0, 0, 0, 0, 0, 0, 0, 0, 0, 0, 0, 0, 0, 0, 0, 0, 0, 0, 1, 1, 1, 0, 0, 0, 0, 0, 0, 0, 0, 0,\n",
              "       0, 0, 0, 0, 0, 0, 1, 0, 0, 0, 0, 0, 0, 0, 0, 1, 0, 1, 1, 1, 1, 1, 0, 0, 1, 0, 0, 1, 1, 1, 1,\n",
              "       0, 1, 0, 0, 1, 1, 1, 1, 0, 1, 0, 0, 1, 0, 1, 0, 0, 1, 1, 1, 0, 0, 1, 0, 0, 0, 1, 1, 1, 0, 1,\n",
              "       1, 0, 0, 1, 1, 1, 0, 0, 1, 1, 1, 1, 0, 1, 1, 0, 1, 1, 1, 1, 1, 1, 1, 1, 0, 0, 0, 1, 0, 0, 1,\n",
              "       1, 1, 0, 0, 1, 0, 1, 0, 0, 1, 0, 0, 1, 1, 0, 1, 1, 0, 1, 1, 1, 1, 0, 1, 1, 1, 1, 1, 1, 1, 1,\n",
              "       1, 0, 1, 1, 1, 1, 0, 0, 1, 0, 1, 1, 0, 0, 1, 1, 0, 0, 1, 1, 1, 1, 0, 1, 1, 0, 0, 0, 1, 0, 1,\n",
              "       0, 1, 1, 1, 0, 1, 1, 0, 0, 1, 0, 0, 0, 0, 1, 0, 0, 0, 1, 0, 1, 0, 1, 1, 0, 1, 0, 0, 0, 0, 1,\n",
              "       1, 0, 0, 1, 1, 1, 0, 1, 1, 1, 1, 1, 0, 0, 1, 1, 0, 1, 1, 0, 0, 1, 0, 1, 1, 1, 1, 0, 1, 1, 1,\n",
              "       1, 1, 0, 1, 0, 0, 0, 0, 0, 0, 0, 0, 0, 0, 0, 0, 0, 0, 1, 1, 1, 1, 1, 1, 0, 1, 0, 1, 1, 0, 1,\n",
              "       1, 0, 1, 0, 0, 1, 1, 1, 1, 1, 1, 1, 1, 1, 1, 1, 1, 1, 0, 1, 1, 0, 1, 0, 1, 1, 1, 1, 1, 1, 1,\n",
              "       1, 1, 1, 1, 1, 1, 1, 0, 1, 1, 1, 0, 1, 0, 1, 1, 1, 1, 0, 0, 0, 1, 1, 1, 1, 0, 1, 0, 1, 0, 1,\n",
              "       1, 1, 0, 1, 1, 1, 1, 1, 1, 1, 0, 0, 0, 1, 1, 1, 1, 1, 1, 1, 1, 1, 1, 1, 0, 0, 1, 0, 0, 0, 1,\n",
              "       0, 0, 1, 1, 1, 1, 1, 0, 1, 1, 1, 1, 1, 0, 1, 1, 1, 0, 1, 1, 0, 0, 1, 1, 1, 1, 1, 1, 0, 1, 1,\n",
              "       1, 1, 1, 1, 1, 0, 1, 1, 1, 1, 1, 0, 1, 1, 0, 1, 1, 1, 1, 1, 1, 1, 1, 1, 1, 1, 1, 0, 1, 0, 0,\n",
              "       1, 0, 1, 1, 1, 1, 1, 0, 1, 1, 0, 1, 0, 1, 1, 0, 1, 0, 1, 1, 1, 1, 1, 1, 1, 1, 0, 0, 1, 1, 1,\n",
              "       1, 1, 1, 0, 1, 1, 1, 1, 1, 1, 1, 1, 1, 1, 0, 1, 1, 1, 1, 1, 1, 1, 0, 1, 0, 1, 1, 0, 1, 1, 1,\n",
              "       1, 1, 0, 0, 1, 0, 1, 0, 1, 1, 1, 1, 1, 0, 1, 1, 0, 1, 0, 1, 0, 0, 1, 1, 1, 0, 1, 1, 1, 1, 1,\n",
              "       1, 1, 1, 1, 1, 1, 0, 1, 0, 0, 1, 1, 1, 1, 1, 1, 1, 1, 1, 1, 1, 1, 1, 1, 1, 1, 1, 1, 1, 1, 1,\n",
              "       1, 1, 1, 1, 0, 0, 0, 0, 0, 0, 1])"
            ]
          },
          "metadata": {
            "tags": []
          },
          "execution_count": 3
        }
      ]
    },
    {
      "cell_type": "code",
      "metadata": {
        "colab": {
          "base_uri": "https://localhost:8080/"
        },
        "id": "Vp7hY6GZrqBV",
        "outputId": "fb77054e-32b0-4327-d8fd-6554b12751a1"
      },
      "source": [
        "all_data = np.c_[data, target]\n",
        "all_data = all_data[:3]\n",
        "print(all_data)"
      ],
      "execution_count": null,
      "outputs": [
        {
          "output_type": "stream",
          "text": [
            "[[  17.99   10.38  122.8  1001.      0.12    0.28    0.3     0.15    0.24    0.08    1.09    0.91\n",
            "     8.59  153.4     0.01    0.05    0.05    0.02    0.03    0.01   25.38   17.33  184.6  2019.\n",
            "     0.16    0.67    0.71    0.27    0.46    0.12    0.  ]\n",
            " [  20.57   17.77  132.9  1326.      0.08    0.08    0.09    0.07    0.18    0.06    0.54    0.73\n",
            "     3.4    74.08    0.01    0.01    0.02    0.01    0.01    0.     24.99   23.41  158.8  1956.\n",
            "     0.12    0.19    0.24    0.19    0.28    0.09    0.  ]\n",
            " [  19.69   21.25  130.   1203.      0.11    0.16    0.2     0.13    0.21    0.06    0.75    0.79\n",
            "     4.58   94.03    0.01    0.04    0.04    0.02    0.02    0.     23.57   25.53  152.5  1709.\n",
            "     0.14    0.42    0.45    0.24    0.36    0.09    0.  ]]\n"
          ],
          "name": "stdout"
        }
      ]
    },
    {
      "cell_type": "markdown",
      "metadata": {
        "id": "Qf1ANTMQy2g8"
      },
      "source": [
        "### 30 np.c_ lista jako nazwy kolumn"
      ]
    },
    {
      "cell_type": "code",
      "metadata": {
        "colab": {
          "base_uri": "https://localhost:8080/"
        },
        "id": "mxiWLrf_y4WE",
        "outputId": "edc1bb48-3f10-4dce-e4dd-3ae1e32e8e94"
      },
      "source": [
        "import numpy as np\n",
        "import pandas as pd\n",
        "from sklearn.datasets import load_breast_cancer\n",
        "\n",
        "\n",
        "pd.set_option('display.max_columns', 10)\n",
        "pd.set_option('display.width', 200)\n",
        "np.set_printoptions(precision=2, suppress=True, linewidth=100)\n",
        "raw_data = load_breast_cancer()\n",
        "\n",
        "data = raw_data['data']\n",
        "target = raw_data['target']\n",
        "\n",
        "data"
      ],
      "execution_count": null,
      "outputs": [
        {
          "output_type": "execute_result",
          "data": {
            "text/plain": [
              "array([[ 17.99,  10.38, 122.8 , ...,   0.27,   0.46,   0.12],\n",
              "       [ 20.57,  17.77, 132.9 , ...,   0.19,   0.28,   0.09],\n",
              "       [ 19.69,  21.25, 130.  , ...,   0.24,   0.36,   0.09],\n",
              "       ...,\n",
              "       [ 16.6 ,  28.08, 108.3 , ...,   0.14,   0.22,   0.08],\n",
              "       [ 20.6 ,  29.33, 140.1 , ...,   0.27,   0.41,   0.12],\n",
              "       [  7.76,  24.54,  47.92, ...,   0.  ,   0.29,   0.07]])"
            ]
          },
          "metadata": {
            "tags": []
          },
          "execution_count": 10
        }
      ]
    },
    {
      "cell_type": "code",
      "metadata": {
        "colab": {
          "base_uri": "https://localhost:8080/"
        },
        "id": "u0fNBDgyzL2b",
        "outputId": "80246e46-3df2-4fa1-ca45-454c90e2adfd"
      },
      "source": [
        "target"
      ],
      "execution_count": null,
      "outputs": [
        {
          "output_type": "execute_result",
          "data": {
            "text/plain": [
              "array([0, 0, 0, 0, 0, 0, 0, 0, 0, 0, 0, 0, 0, 0, 0, 0, 0, 0, 0, 1, 1, 1, 0, 0, 0, 0, 0, 0, 0, 0, 0,\n",
              "       0, 0, 0, 0, 0, 0, 1, 0, 0, 0, 0, 0, 0, 0, 0, 1, 0, 1, 1, 1, 1, 1, 0, 0, 1, 0, 0, 1, 1, 1, 1,\n",
              "       0, 1, 0, 0, 1, 1, 1, 1, 0, 1, 0, 0, 1, 0, 1, 0, 0, 1, 1, 1, 0, 0, 1, 0, 0, 0, 1, 1, 1, 0, 1,\n",
              "       1, 0, 0, 1, 1, 1, 0, 0, 1, 1, 1, 1, 0, 1, 1, 0, 1, 1, 1, 1, 1, 1, 1, 1, 0, 0, 0, 1, 0, 0, 1,\n",
              "       1, 1, 0, 0, 1, 0, 1, 0, 0, 1, 0, 0, 1, 1, 0, 1, 1, 0, 1, 1, 1, 1, 0, 1, 1, 1, 1, 1, 1, 1, 1,\n",
              "       1, 0, 1, 1, 1, 1, 0, 0, 1, 0, 1, 1, 0, 0, 1, 1, 0, 0, 1, 1, 1, 1, 0, 1, 1, 0, 0, 0, 1, 0, 1,\n",
              "       0, 1, 1, 1, 0, 1, 1, 0, 0, 1, 0, 0, 0, 0, 1, 0, 0, 0, 1, 0, 1, 0, 1, 1, 0, 1, 0, 0, 0, 0, 1,\n",
              "       1, 0, 0, 1, 1, 1, 0, 1, 1, 1, 1, 1, 0, 0, 1, 1, 0, 1, 1, 0, 0, 1, 0, 1, 1, 1, 1, 0, 1, 1, 1,\n",
              "       1, 1, 0, 1, 0, 0, 0, 0, 0, 0, 0, 0, 0, 0, 0, 0, 0, 0, 1, 1, 1, 1, 1, 1, 0, 1, 0, 1, 1, 0, 1,\n",
              "       1, 0, 1, 0, 0, 1, 1, 1, 1, 1, 1, 1, 1, 1, 1, 1, 1, 1, 0, 1, 1, 0, 1, 0, 1, 1, 1, 1, 1, 1, 1,\n",
              "       1, 1, 1, 1, 1, 1, 1, 0, 1, 1, 1, 0, 1, 0, 1, 1, 1, 1, 0, 0, 0, 1, 1, 1, 1, 0, 1, 0, 1, 0, 1,\n",
              "       1, 1, 0, 1, 1, 1, 1, 1, 1, 1, 0, 0, 0, 1, 1, 1, 1, 1, 1, 1, 1, 1, 1, 1, 0, 0, 1, 0, 0, 0, 1,\n",
              "       0, 0, 1, 1, 1, 1, 1, 0, 1, 1, 1, 1, 1, 0, 1, 1, 1, 0, 1, 1, 0, 0, 1, 1, 1, 1, 1, 1, 0, 1, 1,\n",
              "       1, 1, 1, 1, 1, 0, 1, 1, 1, 1, 1, 0, 1, 1, 0, 1, 1, 1, 1, 1, 1, 1, 1, 1, 1, 1, 1, 0, 1, 0, 0,\n",
              "       1, 0, 1, 1, 1, 1, 1, 0, 1, 1, 0, 1, 0, 1, 1, 0, 1, 0, 1, 1, 1, 1, 1, 1, 1, 1, 0, 0, 1, 1, 1,\n",
              "       1, 1, 1, 0, 1, 1, 1, 1, 1, 1, 1, 1, 1, 1, 0, 1, 1, 1, 1, 1, 1, 1, 0, 1, 0, 1, 1, 0, 1, 1, 1,\n",
              "       1, 1, 0, 0, 1, 0, 1, 0, 1, 1, 1, 1, 1, 0, 1, 1, 0, 1, 0, 1, 0, 0, 1, 1, 1, 0, 1, 1, 1, 1, 1,\n",
              "       1, 1, 1, 1, 1, 1, 0, 1, 0, 0, 1, 1, 1, 1, 1, 1, 1, 1, 1, 1, 1, 1, 1, 1, 1, 1, 1, 1, 1, 1, 1,\n",
              "       1, 1, 1, 1, 0, 0, 0, 0, 0, 0, 1])"
            ]
          },
          "metadata": {
            "tags": []
          },
          "execution_count": 11
        }
      ]
    },
    {
      "cell_type": "code",
      "metadata": {
        "colab": {
          "base_uri": "https://localhost:8080/"
        },
        "id": "BvrDDLLUzMvk",
        "outputId": "12e107c8-b7b6-4ce9-baad-7eef0459262a"
      },
      "source": [
        "all_data = np.c_[data, target]\n",
        "all_data"
      ],
      "execution_count": null,
      "outputs": [
        {
          "output_type": "execute_result",
          "data": {
            "text/plain": [
              "array([[ 17.99,  10.38, 122.8 , ...,   0.46,   0.12,   0.  ],\n",
              "       [ 20.57,  17.77, 132.9 , ...,   0.28,   0.09,   0.  ],\n",
              "       [ 19.69,  21.25, 130.  , ...,   0.36,   0.09,   0.  ],\n",
              "       ...,\n",
              "       [ 16.6 ,  28.08, 108.3 , ...,   0.22,   0.08,   0.  ],\n",
              "       [ 20.6 ,  29.33, 140.1 , ...,   0.41,   0.12,   0.  ],\n",
              "       [  7.76,  24.54,  47.92, ...,   0.29,   0.07,   1.  ]])"
            ]
          },
          "metadata": {
            "tags": []
          },
          "execution_count": 13
        }
      ]
    },
    {
      "cell_type": "code",
      "metadata": {
        "colab": {
          "base_uri": "https://localhost:8080/"
        },
        "id": "KPEqhGqLzrmM",
        "outputId": "bd4cb7b2-8b27-4d5a-c9cc-da07ff8d29ac"
      },
      "source": [
        "cols = list(raw_data.feature_names)\n",
        "cols.append('target')\n",
        "cols"
      ],
      "execution_count": null,
      "outputs": [
        {
          "output_type": "execute_result",
          "data": {
            "text/plain": [
              "['mean radius',\n",
              " 'mean texture',\n",
              " 'mean perimeter',\n",
              " 'mean area',\n",
              " 'mean smoothness',\n",
              " 'mean compactness',\n",
              " 'mean concavity',\n",
              " 'mean concave points',\n",
              " 'mean symmetry',\n",
              " 'mean fractal dimension',\n",
              " 'radius error',\n",
              " 'texture error',\n",
              " 'perimeter error',\n",
              " 'area error',\n",
              " 'smoothness error',\n",
              " 'compactness error',\n",
              " 'concavity error',\n",
              " 'concave points error',\n",
              " 'symmetry error',\n",
              " 'fractal dimension error',\n",
              " 'worst radius',\n",
              " 'worst texture',\n",
              " 'worst perimeter',\n",
              " 'worst area',\n",
              " 'worst smoothness',\n",
              " 'worst compactness',\n",
              " 'worst concavity',\n",
              " 'worst concave points',\n",
              " 'worst symmetry',\n",
              " 'worst fractal dimension',\n",
              " 'target']"
            ]
          },
          "metadata": {
            "tags": []
          },
          "execution_count": 25
        }
      ]
    },
    {
      "cell_type": "code",
      "metadata": {
        "colab": {
          "base_uri": "https://localhost:8080/"
        },
        "id": "xQB7ZXF9zb_u",
        "outputId": "4b92fa57-2266-44ab-c9c8-a223168a7e86"
      },
      "source": [
        "all_data = pd.DataFrame(all_data, columns = cols)\n",
        "print(all_data.head())"
      ],
      "execution_count": null,
      "outputs": [
        {
          "output_type": "stream",
          "text": [
            "   mean radius  mean texture  mean perimeter  mean area  mean smoothness  ...  worst concavity  worst concave points  worst symmetry  worst fractal dimension  target\n",
            "0        17.99         10.38          122.80     1001.0          0.11840  ...           0.7119                0.2654          0.4601                  0.11890     0.0\n",
            "1        20.57         17.77          132.90     1326.0          0.08474  ...           0.2416                0.1860          0.2750                  0.08902     0.0\n",
            "2        19.69         21.25          130.00     1203.0          0.10960  ...           0.4504                0.2430          0.3613                  0.08758     0.0\n",
            "3        11.42         20.38           77.58      386.1          0.14250  ...           0.6869                0.2575          0.6638                  0.17300     0.0\n",
            "4        20.29         14.34          135.10     1297.0          0.10030  ...           0.4000                0.1625          0.2364                  0.07678     0.0\n",
            "\n",
            "[5 rows x 31 columns]\n"
          ],
          "name": "stdout"
        }
      ]
    },
    {
      "cell_type": "markdown",
      "metadata": {
        "id": "-Cx8vo-K4OJ0"
      },
      "source": [
        "### 31 unique - procentowy rozkład unikalnych wartosci"
      ]
    },
    {
      "cell_type": "code",
      "metadata": {
        "colab": {
          "base_uri": "https://localhost:8080/"
        },
        "id": "9jYaRnXm4T9V",
        "outputId": "7aa72adb-f2ca-478a-fcdb-e91bcf4a7851"
      },
      "source": [
        "import numpy as np\n",
        "import pandas as pd\n",
        "from sklearn.datasets import load_breast_cancer\n",
        "from sklearn.model_selection import train_test_split\n",
        "\n",
        "\n",
        "pd.set_option('display.max_columns', 10)\n",
        "pd.set_option('display.width', 200)\n",
        "np.set_printoptions(precision=2, suppress=True, linewidth=100)\n",
        "raw_data = load_breast_cancer()\n",
        "\n",
        "data = raw_data['data']\n",
        "target = raw_data['target']\n",
        "\n",
        "X_train, X_test, y_train, y_test = train_test_split(data, target, random_state=40, test_size=0.25)\n",
        "\n",
        "for name, array in zip(['target', 'y_train', 'y_test'],[target, y_train, y_test]): # zip spowoduje ze polaczysz nazwe w stringu z arrayem np. 'target', target\n",
        "  print(f'{name.ljust(7)} :{np.unique(array, return_counts = True)[1] / len(array)}') # name.ljust(7) jest to poprostu justowanie dlatego w OT masz ladnie rowno, a 7 to ile spacji, 7 akurat jest najmniejsza iloscia spacji gdzie odstepy sa rowne\n",
        "  #np.unique oddaje unikalne wartości, jezeli damy return_counts = True to pokaze sie obok liczba kazdej z unikalnej wartosci, dajemy [1] zeby nie pokazywac unikalnych wartosci a jedynie ich liczbe no i dzielimy przez len czyli obliczamy odsetek"
      ],
      "execution_count": null,
      "outputs": [
        {
          "output_type": "stream",
          "text": [
            "target  :[0.37 0.63]\n",
            "y_train :[0.39 0.61]\n",
            "y_test  :[0.31 0.69]\n"
          ],
          "name": "stdout"
        }
      ]
    },
    {
      "cell_type": "markdown",
      "metadata": {
        "id": "bLdQ0xYumGgy"
      },
      "source": [
        "## 41 sigmoid() - implementacja"
      ]
    },
    {
      "cell_type": "code",
      "metadata": {
        "colab": {
          "base_uri": "https://localhost:8080/",
          "height": 359
        },
        "id": "zAH9IzSHmKbn",
        "outputId": "791adbcb-8ebc-4f82-b484-e25e98f66a48"
      },
      "source": [
        "import numpy as np\n",
        "import pandas as pd\n",
        "\n",
        "\n",
        "np.random.seed(42)\n",
        "df = pd.DataFrame(data=np.random.randn(10), columns=['var1'])\n",
        "df"
      ],
      "execution_count": null,
      "outputs": [
        {
          "output_type": "execute_result",
          "data": {
            "text/html": [
              "<div>\n",
              "<style scoped>\n",
              "    .dataframe tbody tr th:only-of-type {\n",
              "        vertical-align: middle;\n",
              "    }\n",
              "\n",
              "    .dataframe tbody tr th {\n",
              "        vertical-align: top;\n",
              "    }\n",
              "\n",
              "    .dataframe thead th {\n",
              "        text-align: right;\n",
              "    }\n",
              "</style>\n",
              "<table border=\"1\" class=\"dataframe\">\n",
              "  <thead>\n",
              "    <tr style=\"text-align: right;\">\n",
              "      <th></th>\n",
              "      <th>var1</th>\n",
              "    </tr>\n",
              "  </thead>\n",
              "  <tbody>\n",
              "    <tr>\n",
              "      <th>0</th>\n",
              "      <td>0.496714</td>\n",
              "    </tr>\n",
              "    <tr>\n",
              "      <th>1</th>\n",
              "      <td>-0.138264</td>\n",
              "    </tr>\n",
              "    <tr>\n",
              "      <th>2</th>\n",
              "      <td>0.647689</td>\n",
              "    </tr>\n",
              "    <tr>\n",
              "      <th>3</th>\n",
              "      <td>1.523030</td>\n",
              "    </tr>\n",
              "    <tr>\n",
              "      <th>4</th>\n",
              "      <td>-0.234153</td>\n",
              "    </tr>\n",
              "    <tr>\n",
              "      <th>5</th>\n",
              "      <td>-0.234137</td>\n",
              "    </tr>\n",
              "    <tr>\n",
              "      <th>6</th>\n",
              "      <td>1.579213</td>\n",
              "    </tr>\n",
              "    <tr>\n",
              "      <th>7</th>\n",
              "      <td>0.767435</td>\n",
              "    </tr>\n",
              "    <tr>\n",
              "      <th>8</th>\n",
              "      <td>-0.469474</td>\n",
              "    </tr>\n",
              "    <tr>\n",
              "      <th>9</th>\n",
              "      <td>0.542560</td>\n",
              "    </tr>\n",
              "  </tbody>\n",
              "</table>\n",
              "</div>"
            ],
            "text/plain": [
              "       var1\n",
              "0  0.496714\n",
              "1 -0.138264\n",
              "2  0.647689\n",
              "3  1.523030\n",
              "4 -0.234153\n",
              "5 -0.234137\n",
              "6  1.579213\n",
              "7  0.767435\n",
              "8 -0.469474\n",
              "9  0.542560"
            ]
          },
          "metadata": {
            "tags": []
          },
          "execution_count": 1
        }
      ]
    },
    {
      "cell_type": "code",
      "metadata": {
        "colab": {
          "base_uri": "https://localhost:8080/"
        },
        "id": "hqlUhxSjmPnW",
        "outputId": "c1307cf7-8ac4-46c2-b4d4-4b63713b8c57"
      },
      "source": [
        "def sigmoid(x):\n",
        "  return 1 / (1+ np.exp(-x))\n",
        "\n",
        "df['var1_sigmoid'] = df['var1'].apply(sigmoid)\n",
        "print(df)"
      ],
      "execution_count": null,
      "outputs": [
        {
          "output_type": "stream",
          "text": [
            "       var1  var1_sigmoid\n",
            "0  0.496714      0.621687\n",
            "1 -0.138264      0.465489\n",
            "2  0.647689      0.656489\n",
            "3  1.523030      0.820984\n",
            "4 -0.234153      0.441728\n",
            "5 -0.234137      0.441732\n",
            "6  1.579213      0.829093\n",
            "7  0.767435      0.682966\n",
            "8 -0.469474      0.384741\n",
            "9  0.542560      0.632408\n"
          ],
          "name": "stdout"
        }
      ]
    },
    {
      "cell_type": "markdown",
      "metadata": {
        "id": "ygD0YijThETf"
      },
      "source": [
        "# Scikit"
      ]
    },
    {
      "cell_type": "markdown",
      "metadata": {
        "id": "OEyVblT87heA"
      },
      "source": [
        "## SimpleImputer"
      ]
    },
    {
      "cell_type": "markdown",
      "metadata": {
        "id": "LwDmoTTQfdO3"
      },
      "source": [
        "dokumentacja - https://scikit-learn.org/stable/modules/generated/sklearn.impute.SimpleImputer.html"
      ]
    },
    {
      "cell_type": "markdown",
      "metadata": {
        "id": "SkoW44wpGLDe"
      },
      "source": [
        "### 2 srednia zamiast nan"
      ]
    },
    {
      "cell_type": "code",
      "metadata": {
        "colab": {
          "base_uri": "https://localhost:8080/",
          "height": 237
        },
        "id": "qLKr160KGQNH",
        "outputId": "392e8ecf-a320-40d8-890f-217cff1c9dbe"
      },
      "source": [
        "import numpy as np\n",
        "import pandas as pd\n",
        "from sklearn.impute import SimpleImputer\n",
        "\n",
        "\n",
        "data = {\n",
        "    'size': ['XL', 'L', 'M', np.nan, 'M', 'M'],\n",
        "    'color': ['red', 'green', 'blue', 'green', 'red', 'green'],\n",
        "    'gender': ['female', 'male', np.nan, 'female', 'female', 'male'],\n",
        "    'price': [199.0, 89.0, np.nan, 129.0, 79.0, 89.0],\n",
        "    'weight': [500, 450, 300, np.nan, 410, np.nan],\n",
        "    'bought': ['yes', 'no', 'yes', 'no', 'yes', 'no']\n",
        "}\n",
        "\n",
        "df = pd.DataFrame(data=data)\n",
        "df"
      ],
      "execution_count": null,
      "outputs": [
        {
          "output_type": "execute_result",
          "data": {
            "text/html": [
              "<div>\n",
              "<style scoped>\n",
              "    .dataframe tbody tr th:only-of-type {\n",
              "        vertical-align: middle;\n",
              "    }\n",
              "\n",
              "    .dataframe tbody tr th {\n",
              "        vertical-align: top;\n",
              "    }\n",
              "\n",
              "    .dataframe thead th {\n",
              "        text-align: right;\n",
              "    }\n",
              "</style>\n",
              "<table border=\"1\" class=\"dataframe\">\n",
              "  <thead>\n",
              "    <tr style=\"text-align: right;\">\n",
              "      <th></th>\n",
              "      <th>size</th>\n",
              "      <th>color</th>\n",
              "      <th>gender</th>\n",
              "      <th>price</th>\n",
              "      <th>weight</th>\n",
              "      <th>bought</th>\n",
              "    </tr>\n",
              "  </thead>\n",
              "  <tbody>\n",
              "    <tr>\n",
              "      <th>0</th>\n",
              "      <td>XL</td>\n",
              "      <td>red</td>\n",
              "      <td>female</td>\n",
              "      <td>199.0</td>\n",
              "      <td>500.0</td>\n",
              "      <td>yes</td>\n",
              "    </tr>\n",
              "    <tr>\n",
              "      <th>1</th>\n",
              "      <td>L</td>\n",
              "      <td>green</td>\n",
              "      <td>male</td>\n",
              "      <td>89.0</td>\n",
              "      <td>450.0</td>\n",
              "      <td>no</td>\n",
              "    </tr>\n",
              "    <tr>\n",
              "      <th>2</th>\n",
              "      <td>M</td>\n",
              "      <td>blue</td>\n",
              "      <td>NaN</td>\n",
              "      <td>NaN</td>\n",
              "      <td>300.0</td>\n",
              "      <td>yes</td>\n",
              "    </tr>\n",
              "    <tr>\n",
              "      <th>3</th>\n",
              "      <td>NaN</td>\n",
              "      <td>green</td>\n",
              "      <td>female</td>\n",
              "      <td>129.0</td>\n",
              "      <td>NaN</td>\n",
              "      <td>no</td>\n",
              "    </tr>\n",
              "    <tr>\n",
              "      <th>4</th>\n",
              "      <td>M</td>\n",
              "      <td>red</td>\n",
              "      <td>female</td>\n",
              "      <td>79.0</td>\n",
              "      <td>410.0</td>\n",
              "      <td>yes</td>\n",
              "    </tr>\n",
              "    <tr>\n",
              "      <th>5</th>\n",
              "      <td>M</td>\n",
              "      <td>green</td>\n",
              "      <td>male</td>\n",
              "      <td>89.0</td>\n",
              "      <td>NaN</td>\n",
              "      <td>no</td>\n",
              "    </tr>\n",
              "  </tbody>\n",
              "</table>\n",
              "</div>"
            ],
            "text/plain": [
              "  size  color  gender  price  weight bought\n",
              "0   XL    red  female  199.0   500.0    yes\n",
              "1    L  green    male   89.0   450.0     no\n",
              "2    M   blue     NaN    NaN   300.0    yes\n",
              "3  NaN  green  female  129.0     NaN     no\n",
              "4    M    red  female   79.0   410.0    yes\n",
              "5    M  green    male   89.0     NaN     no"
            ]
          },
          "metadata": {
            "tags": []
          },
          "execution_count": 6
        }
      ]
    },
    {
      "cell_type": "code",
      "metadata": {
        "colab": {
          "base_uri": "https://localhost:8080/",
          "height": 237
        },
        "id": "CM-CuVzPKKlr",
        "outputId": "d4517459-6fa6-4cf3-d26d-399ec15c2800"
      },
      "source": [
        "from sklearn.impute import SimpleImputer\n",
        "import numpy as np\n",
        "\n",
        "# Wstawianie wartosci sredniej w nan\n",
        "imputer = SimpleImputer(missing_values=np.nan, strategy = 'mean')\n",
        "df[['weight']] = imputer.fit_transform(df[['weight']])\n",
        "df"
      ],
      "execution_count": null,
      "outputs": [
        {
          "output_type": "execute_result",
          "data": {
            "text/html": [
              "<div>\n",
              "<style scoped>\n",
              "    .dataframe tbody tr th:only-of-type {\n",
              "        vertical-align: middle;\n",
              "    }\n",
              "\n",
              "    .dataframe tbody tr th {\n",
              "        vertical-align: top;\n",
              "    }\n",
              "\n",
              "    .dataframe thead th {\n",
              "        text-align: right;\n",
              "    }\n",
              "</style>\n",
              "<table border=\"1\" class=\"dataframe\">\n",
              "  <thead>\n",
              "    <tr style=\"text-align: right;\">\n",
              "      <th></th>\n",
              "      <th>size</th>\n",
              "      <th>color</th>\n",
              "      <th>gender</th>\n",
              "      <th>price</th>\n",
              "      <th>weight</th>\n",
              "      <th>bought</th>\n",
              "    </tr>\n",
              "  </thead>\n",
              "  <tbody>\n",
              "    <tr>\n",
              "      <th>0</th>\n",
              "      <td>XL</td>\n",
              "      <td>red</td>\n",
              "      <td>female</td>\n",
              "      <td>199.0</td>\n",
              "      <td>500.0</td>\n",
              "      <td>yes</td>\n",
              "    </tr>\n",
              "    <tr>\n",
              "      <th>1</th>\n",
              "      <td>L</td>\n",
              "      <td>green</td>\n",
              "      <td>male</td>\n",
              "      <td>89.0</td>\n",
              "      <td>450.0</td>\n",
              "      <td>no</td>\n",
              "    </tr>\n",
              "    <tr>\n",
              "      <th>2</th>\n",
              "      <td>M</td>\n",
              "      <td>blue</td>\n",
              "      <td>NaN</td>\n",
              "      <td>NaN</td>\n",
              "      <td>300.0</td>\n",
              "      <td>yes</td>\n",
              "    </tr>\n",
              "    <tr>\n",
              "      <th>3</th>\n",
              "      <td>NaN</td>\n",
              "      <td>green</td>\n",
              "      <td>female</td>\n",
              "      <td>129.0</td>\n",
              "      <td>415.0</td>\n",
              "      <td>no</td>\n",
              "    </tr>\n",
              "    <tr>\n",
              "      <th>4</th>\n",
              "      <td>M</td>\n",
              "      <td>red</td>\n",
              "      <td>female</td>\n",
              "      <td>79.0</td>\n",
              "      <td>410.0</td>\n",
              "      <td>yes</td>\n",
              "    </tr>\n",
              "    <tr>\n",
              "      <th>5</th>\n",
              "      <td>M</td>\n",
              "      <td>green</td>\n",
              "      <td>male</td>\n",
              "      <td>89.0</td>\n",
              "      <td>415.0</td>\n",
              "      <td>no</td>\n",
              "    </tr>\n",
              "  </tbody>\n",
              "</table>\n",
              "</div>"
            ],
            "text/plain": [
              "  size  color  gender  price  weight bought\n",
              "0   XL    red  female  199.0   500.0    yes\n",
              "1    L  green    male   89.0   450.0     no\n",
              "2    M   blue     NaN    NaN   300.0    yes\n",
              "3  NaN  green  female  129.0   415.0     no\n",
              "4    M    red  female   79.0   410.0    yes\n",
              "5    M  green    male   89.0   415.0     no"
            ]
          },
          "metadata": {
            "tags": []
          },
          "execution_count": 18
        }
      ]
    },
    {
      "cell_type": "markdown",
      "metadata": {
        "id": "a22cPOMJfl9y"
      },
      "source": [
        "### 3 wyswietlanie sredniej (statistics)"
      ]
    },
    {
      "cell_type": "code",
      "metadata": {
        "colab": {
          "base_uri": "https://localhost:8080/",
          "height": 237
        },
        "id": "iiZpXFClfox-",
        "outputId": "55fe9fe2-e6e4-485e-afcc-8816f7e39aec"
      },
      "source": [
        "import numpy as np\n",
        "import pandas as pd\n",
        "from sklearn.impute import SimpleImputer\n",
        "\n",
        "\n",
        "data = {\n",
        "    'size': ['XL', 'L', 'M', np.nan, 'M', 'M'],\n",
        "    'color': ['red', 'green', 'blue', 'green', 'red', 'green'],\n",
        "    'gender': ['female', 'male', np.nan, 'female', 'female', 'male'],\n",
        "    'price': [199.0, 89.0, np.nan, 129.0, 79.0, 89.0],\n",
        "    'weight': [500, 450, 300, np.nan, 410, np.nan],\n",
        "    'bought': ['yes', 'no', 'yes', 'no', 'yes', 'no']\n",
        "}\n",
        "\n",
        "df = pd.DataFrame(data=data)\n",
        "imputer = SimpleImputer(missing_values=np.nan, strategy='mean')\n",
        "df[['weight']] = imputer.fit_transform(df[['weight']])\n",
        "df"
      ],
      "execution_count": null,
      "outputs": [
        {
          "output_type": "execute_result",
          "data": {
            "text/html": [
              "<div>\n",
              "<style scoped>\n",
              "    .dataframe tbody tr th:only-of-type {\n",
              "        vertical-align: middle;\n",
              "    }\n",
              "\n",
              "    .dataframe tbody tr th {\n",
              "        vertical-align: top;\n",
              "    }\n",
              "\n",
              "    .dataframe thead th {\n",
              "        text-align: right;\n",
              "    }\n",
              "</style>\n",
              "<table border=\"1\" class=\"dataframe\">\n",
              "  <thead>\n",
              "    <tr style=\"text-align: right;\">\n",
              "      <th></th>\n",
              "      <th>size</th>\n",
              "      <th>color</th>\n",
              "      <th>gender</th>\n",
              "      <th>price</th>\n",
              "      <th>weight</th>\n",
              "      <th>bought</th>\n",
              "    </tr>\n",
              "  </thead>\n",
              "  <tbody>\n",
              "    <tr>\n",
              "      <th>0</th>\n",
              "      <td>XL</td>\n",
              "      <td>red</td>\n",
              "      <td>female</td>\n",
              "      <td>199.0</td>\n",
              "      <td>500.0</td>\n",
              "      <td>yes</td>\n",
              "    </tr>\n",
              "    <tr>\n",
              "      <th>1</th>\n",
              "      <td>L</td>\n",
              "      <td>green</td>\n",
              "      <td>male</td>\n",
              "      <td>89.0</td>\n",
              "      <td>450.0</td>\n",
              "      <td>no</td>\n",
              "    </tr>\n",
              "    <tr>\n",
              "      <th>2</th>\n",
              "      <td>M</td>\n",
              "      <td>blue</td>\n",
              "      <td>NaN</td>\n",
              "      <td>NaN</td>\n",
              "      <td>300.0</td>\n",
              "      <td>yes</td>\n",
              "    </tr>\n",
              "    <tr>\n",
              "      <th>3</th>\n",
              "      <td>NaN</td>\n",
              "      <td>green</td>\n",
              "      <td>female</td>\n",
              "      <td>129.0</td>\n",
              "      <td>415.0</td>\n",
              "      <td>no</td>\n",
              "    </tr>\n",
              "    <tr>\n",
              "      <th>4</th>\n",
              "      <td>M</td>\n",
              "      <td>red</td>\n",
              "      <td>female</td>\n",
              "      <td>79.0</td>\n",
              "      <td>410.0</td>\n",
              "      <td>yes</td>\n",
              "    </tr>\n",
              "    <tr>\n",
              "      <th>5</th>\n",
              "      <td>M</td>\n",
              "      <td>green</td>\n",
              "      <td>male</td>\n",
              "      <td>89.0</td>\n",
              "      <td>415.0</td>\n",
              "      <td>no</td>\n",
              "    </tr>\n",
              "  </tbody>\n",
              "</table>\n",
              "</div>"
            ],
            "text/plain": [
              "  size  color  gender  price  weight bought\n",
              "0   XL    red  female  199.0   500.0    yes\n",
              "1    L  green    male   89.0   450.0     no\n",
              "2    M   blue     NaN    NaN   300.0    yes\n",
              "3  NaN  green  female  129.0   415.0     no\n",
              "4    M    red  female   79.0   410.0    yes\n",
              "5    M  green    male   89.0   415.0     no"
            ]
          },
          "metadata": {
            "tags": []
          },
          "execution_count": 2
        }
      ]
    },
    {
      "cell_type": "code",
      "metadata": {
        "colab": {
          "base_uri": "https://localhost:8080/"
        },
        "id": "1pO170epf1mj",
        "outputId": "ede41cde-c4ef-4351-e85f-7dc6d3b220fb"
      },
      "source": [
        "# Wyswietlanie wartosci sredniej\n",
        "imputer.statistics_[0]"
      ],
      "execution_count": null,
      "outputs": [
        {
          "output_type": "execute_result",
          "data": {
            "text/plain": [
              "415.0"
            ]
          },
          "metadata": {
            "tags": []
          },
          "execution_count": 5
        }
      ]
    },
    {
      "cell_type": "markdown",
      "metadata": {
        "id": "kjk0CBMKg4Of"
      },
      "source": [
        "### 4 stała zamiast nan"
      ]
    },
    {
      "cell_type": "code",
      "metadata": {
        "id": "KxQToZw_g7jv",
        "colab": {
          "base_uri": "https://localhost:8080/",
          "height": 237
        },
        "outputId": "f039c7c9-0391-4796-b29f-abcbda41c801"
      },
      "source": [
        "import numpy as np\n",
        "import pandas as pd\n",
        "from sklearn.impute import SimpleImputer\n",
        "\n",
        "\n",
        "data = {\n",
        "    'size': ['XL', 'L', 'M', np.nan, 'M', 'M'],\n",
        "    'color': ['red', 'green', 'blue', 'green', 'red', 'green'],\n",
        "    'gender': ['female', 'male', np.nan, 'female', 'female', 'male'],\n",
        "    'price': [199.0, 89.0, np.nan, 129.0, 79.0, 89.0],\n",
        "    'weight': [500, 450, 300, np.nan, 410, np.nan],\n",
        "    'bought': ['yes', 'no', 'yes', 'no', 'yes', 'no']\n",
        "}\n",
        "\n",
        "df = pd.DataFrame(data=data)\n",
        "df"
      ],
      "execution_count": null,
      "outputs": [
        {
          "output_type": "execute_result",
          "data": {
            "text/html": [
              "<div>\n",
              "<style scoped>\n",
              "    .dataframe tbody tr th:only-of-type {\n",
              "        vertical-align: middle;\n",
              "    }\n",
              "\n",
              "    .dataframe tbody tr th {\n",
              "        vertical-align: top;\n",
              "    }\n",
              "\n",
              "    .dataframe thead th {\n",
              "        text-align: right;\n",
              "    }\n",
              "</style>\n",
              "<table border=\"1\" class=\"dataframe\">\n",
              "  <thead>\n",
              "    <tr style=\"text-align: right;\">\n",
              "      <th></th>\n",
              "      <th>size</th>\n",
              "      <th>color</th>\n",
              "      <th>gender</th>\n",
              "      <th>price</th>\n",
              "      <th>weight</th>\n",
              "      <th>bought</th>\n",
              "    </tr>\n",
              "  </thead>\n",
              "  <tbody>\n",
              "    <tr>\n",
              "      <th>0</th>\n",
              "      <td>XL</td>\n",
              "      <td>red</td>\n",
              "      <td>female</td>\n",
              "      <td>199.0</td>\n",
              "      <td>500.0</td>\n",
              "      <td>yes</td>\n",
              "    </tr>\n",
              "    <tr>\n",
              "      <th>1</th>\n",
              "      <td>L</td>\n",
              "      <td>green</td>\n",
              "      <td>male</td>\n",
              "      <td>89.0</td>\n",
              "      <td>450.0</td>\n",
              "      <td>no</td>\n",
              "    </tr>\n",
              "    <tr>\n",
              "      <th>2</th>\n",
              "      <td>M</td>\n",
              "      <td>blue</td>\n",
              "      <td>NaN</td>\n",
              "      <td>NaN</td>\n",
              "      <td>300.0</td>\n",
              "      <td>yes</td>\n",
              "    </tr>\n",
              "    <tr>\n",
              "      <th>3</th>\n",
              "      <td>NaN</td>\n",
              "      <td>green</td>\n",
              "      <td>female</td>\n",
              "      <td>129.0</td>\n",
              "      <td>NaN</td>\n",
              "      <td>no</td>\n",
              "    </tr>\n",
              "    <tr>\n",
              "      <th>4</th>\n",
              "      <td>M</td>\n",
              "      <td>red</td>\n",
              "      <td>female</td>\n",
              "      <td>79.0</td>\n",
              "      <td>410.0</td>\n",
              "      <td>yes</td>\n",
              "    </tr>\n",
              "    <tr>\n",
              "      <th>5</th>\n",
              "      <td>M</td>\n",
              "      <td>green</td>\n",
              "      <td>male</td>\n",
              "      <td>89.0</td>\n",
              "      <td>NaN</td>\n",
              "      <td>no</td>\n",
              "    </tr>\n",
              "  </tbody>\n",
              "</table>\n",
              "</div>"
            ],
            "text/plain": [
              "  size  color  gender  price  weight bought\n",
              "0   XL    red  female  199.0   500.0    yes\n",
              "1    L  green    male   89.0   450.0     no\n",
              "2    M   blue     NaN    NaN   300.0    yes\n",
              "3  NaN  green  female  129.0     NaN     no\n",
              "4    M    red  female   79.0   410.0    yes\n",
              "5    M  green    male   89.0     NaN     no"
            ]
          },
          "metadata": {
            "tags": []
          },
          "execution_count": 2
        }
      ]
    },
    {
      "cell_type": "code",
      "metadata": {
        "colab": {
          "base_uri": "https://localhost:8080/"
        },
        "id": "25TiNGIvdTx0",
        "outputId": "607490c0-b2a2-4fbc-c583-40e8529c1968"
      },
      "source": [
        "from sklearn.impute import SimpleImputer\n",
        "import numpy as np\n",
        "\n",
        "imputer = SimpleImputer(missing_values = np.nan, strategy = 'constant', fill_value = 99.0)\n",
        "df[['price']] = imputer.fit_transform(df[['price']])\n",
        "print(df)"
      ],
      "execution_count": null,
      "outputs": [
        {
          "output_type": "stream",
          "text": [
            "  size  color  gender  price  weight bought  price \n",
            "0   XL    red  female  199.0   500.0    yes   199.0\n",
            "1    L  green    male   89.0   450.0     no    89.0\n",
            "2    M   blue     NaN   99.0   300.0    yes    99.0\n",
            "3  NaN  green  female  129.0     NaN     no   129.0\n",
            "4    M    red  female   79.0   410.0    yes    79.0\n",
            "5    M  green    male   89.0     NaN     no    89.0\n"
          ],
          "name": "stdout"
        }
      ]
    },
    {
      "cell_type": "markdown",
      "metadata": {
        "id": "DV81eby9fK4N"
      },
      "source": [
        "### 5 najszczęstsza wartość zamiast nan"
      ]
    },
    {
      "cell_type": "code",
      "metadata": {
        "colab": {
          "base_uri": "https://localhost:8080/",
          "height": 237
        },
        "id": "AWnGsqnefNsW",
        "outputId": "5c9f8c22-17f6-4496-8688-0d0befbb7d8d"
      },
      "source": [
        "import numpy as np\n",
        "import pandas as pd\n",
        "from sklearn.impute import SimpleImputer\n",
        "\n",
        "\n",
        "data = {\n",
        "    'size': ['XL', 'L', 'M', np.nan, 'M', 'M'],\n",
        "    'color': ['red', 'green', 'blue', 'green', 'red', 'green'],\n",
        "    'gender': ['female', 'male', np.nan, 'female', 'female', 'male'],\n",
        "    'price': [199.0, 89.0, np.nan, 129.0, 79.0, 89.0],\n",
        "    'weight': [500, 450, 300, np.nan, 410, np.nan],\n",
        "    'bought': ['yes', 'no', 'yes', 'no', 'yes', 'no']\n",
        "}\n",
        "\n",
        "df = pd.DataFrame(data=data)\n",
        "df"
      ],
      "execution_count": null,
      "outputs": [
        {
          "output_type": "execute_result",
          "data": {
            "text/html": [
              "<div>\n",
              "<style scoped>\n",
              "    .dataframe tbody tr th:only-of-type {\n",
              "        vertical-align: middle;\n",
              "    }\n",
              "\n",
              "    .dataframe tbody tr th {\n",
              "        vertical-align: top;\n",
              "    }\n",
              "\n",
              "    .dataframe thead th {\n",
              "        text-align: right;\n",
              "    }\n",
              "</style>\n",
              "<table border=\"1\" class=\"dataframe\">\n",
              "  <thead>\n",
              "    <tr style=\"text-align: right;\">\n",
              "      <th></th>\n",
              "      <th>size</th>\n",
              "      <th>color</th>\n",
              "      <th>gender</th>\n",
              "      <th>price</th>\n",
              "      <th>weight</th>\n",
              "      <th>bought</th>\n",
              "    </tr>\n",
              "  </thead>\n",
              "  <tbody>\n",
              "    <tr>\n",
              "      <th>0</th>\n",
              "      <td>XL</td>\n",
              "      <td>red</td>\n",
              "      <td>female</td>\n",
              "      <td>199.0</td>\n",
              "      <td>500.0</td>\n",
              "      <td>yes</td>\n",
              "    </tr>\n",
              "    <tr>\n",
              "      <th>1</th>\n",
              "      <td>L</td>\n",
              "      <td>green</td>\n",
              "      <td>male</td>\n",
              "      <td>89.0</td>\n",
              "      <td>450.0</td>\n",
              "      <td>no</td>\n",
              "    </tr>\n",
              "    <tr>\n",
              "      <th>2</th>\n",
              "      <td>M</td>\n",
              "      <td>blue</td>\n",
              "      <td>NaN</td>\n",
              "      <td>NaN</td>\n",
              "      <td>300.0</td>\n",
              "      <td>yes</td>\n",
              "    </tr>\n",
              "    <tr>\n",
              "      <th>3</th>\n",
              "      <td>NaN</td>\n",
              "      <td>green</td>\n",
              "      <td>female</td>\n",
              "      <td>129.0</td>\n",
              "      <td>NaN</td>\n",
              "      <td>no</td>\n",
              "    </tr>\n",
              "    <tr>\n",
              "      <th>4</th>\n",
              "      <td>M</td>\n",
              "      <td>red</td>\n",
              "      <td>female</td>\n",
              "      <td>79.0</td>\n",
              "      <td>410.0</td>\n",
              "      <td>yes</td>\n",
              "    </tr>\n",
              "    <tr>\n",
              "      <th>5</th>\n",
              "      <td>M</td>\n",
              "      <td>green</td>\n",
              "      <td>male</td>\n",
              "      <td>89.0</td>\n",
              "      <td>NaN</td>\n",
              "      <td>no</td>\n",
              "    </tr>\n",
              "  </tbody>\n",
              "</table>\n",
              "</div>"
            ],
            "text/plain": [
              "  size  color  gender  price  weight bought\n",
              "0   XL    red  female  199.0   500.0    yes\n",
              "1    L  green    male   89.0   450.0     no\n",
              "2    M   blue     NaN    NaN   300.0    yes\n",
              "3  NaN  green  female  129.0     NaN     no\n",
              "4    M    red  female   79.0   410.0    yes\n",
              "5    M  green    male   89.0     NaN     no"
            ]
          },
          "metadata": {
            "tags": []
          },
          "execution_count": 7
        }
      ]
    },
    {
      "cell_type": "code",
      "metadata": {
        "colab": {
          "base_uri": "https://localhost:8080/"
        },
        "id": "lLhxUAcLfPlh",
        "outputId": "8f2819b7-22e3-4d65-98af-bab43fbdc7b6"
      },
      "source": [
        "from sklearn.impute import SimpleImputer\n",
        "import numpy as np\n",
        "\n",
        "imputer = SimpleImputer(missing_values= np.nan, strategy = 'most_frequent')\n",
        "df[['size']] = imputer.fit_transform(df[['size']])\n",
        "print(df)"
      ],
      "execution_count": null,
      "outputs": [
        {
          "output_type": "stream",
          "text": [
            "  size  color  gender  price  weight bought\n",
            "0   XL    red  female  199.0   500.0    yes\n",
            "1    L  green    male   89.0   450.0     no\n",
            "2    M   blue     NaN    NaN   300.0    yes\n",
            "3    M  green  female  129.0     NaN     no\n",
            "4    M    red  female   79.0   410.0    yes\n",
            "5    M  green    male   89.0     NaN     no\n"
          ],
          "name": "stdout"
        }
      ]
    },
    {
      "cell_type": "markdown",
      "metadata": {
        "id": "42a-aelo7pQM"
      },
      "source": [
        "## datasets review"
      ]
    },
    {
      "cell_type": "markdown",
      "metadata": {
        "id": "eOngALl88SWI"
      },
      "source": [
        "https://scikit-learn.org/stable/modules/generated/sklearn.datasets.load_iris.html"
      ]
    },
    {
      "cell_type": "markdown",
      "metadata": {
        "id": "NcTeb4cV8TF1"
      },
      "source": [
        "### 17 klucze "
      ]
    },
    {
      "cell_type": "code",
      "metadata": {
        "colab": {
          "base_uri": "https://localhost:8080/"
        },
        "id": "v4YP6sXf7svK",
        "outputId": "f3c0ae7f-c40a-4322-babb-4f7993baa895"
      },
      "source": [
        "from sklearn.datasets import load_iris\n",
        "\n",
        "data = load_iris()\n",
        "print(data.keys())"
      ],
      "execution_count": null,
      "outputs": [
        {
          "output_type": "stream",
          "text": [
            "dict_keys(['data', 'target', 'target_names', 'DESCR', 'feature_names', 'filename'])\n"
          ],
          "name": "stdout"
        }
      ]
    },
    {
      "cell_type": "markdown",
      "metadata": {
        "id": "Fh6Scy399TW5"
      },
      "source": [
        "### 18 nazwy zmiennych i klas"
      ]
    },
    {
      "cell_type": "code",
      "metadata": {
        "colab": {
          "base_uri": "https://localhost:8080/"
        },
        "id": "RdHN6l7f9el3",
        "outputId": "c4e3e1c1-6b32-4890-909e-d3e763b8f7ee"
      },
      "source": [
        "from sklearn.datasets import load_iris\n",
        "\n",
        "data = load_iris()\n",
        "print(data.feature_names)\n",
        "print(data.target_names)"
      ],
      "execution_count": null,
      "outputs": [
        {
          "output_type": "stream",
          "text": [
            "['sepal length (cm)', 'sepal width (cm)', 'petal length (cm)', 'petal width (cm)']\n",
            "['setosa' 'versicolor' 'virginica']\n"
          ],
          "name": "stdout"
        }
      ]
    },
    {
      "cell_type": "markdown",
      "metadata": {
        "id": "ac2Y-9MZckNf"
      },
      "source": [
        "### 19 atrybuty klasy"
      ]
    },
    {
      "cell_type": "code",
      "metadata": {
        "colab": {
          "base_uri": "https://localhost:8080/"
        },
        "id": "C_Lco5oJcl2g",
        "outputId": "05acaee8-1872-41b9-c638-956f0fdfc56e"
      },
      "source": [
        "from sklearn.datasets import load_iris\n",
        "\n",
        "\n",
        "data_raw = load_iris()\n",
        "\n",
        "data = data_raw.data\n",
        "target = data_raw.target\n",
        "\n",
        "print(data.shape)\n",
        "print(target.shape)"
      ],
      "execution_count": null,
      "outputs": [
        {
          "output_type": "stream",
          "text": [
            "(150, 4)\n",
            "(150,)\n"
          ],
          "name": "stdout"
        }
      ]
    },
    {
      "cell_type": "markdown",
      "metadata": {
        "id": "tfzfJOwGwyAF"
      },
      "source": [
        "### 27 'DESCR'"
      ]
    },
    {
      "cell_type": "code",
      "metadata": {
        "colab": {
          "base_uri": "https://localhost:8080/"
        },
        "id": "i5ErcCdVw10g",
        "outputId": "5c8585fa-7e65-4422-b3e8-a64a739c25bc"
      },
      "source": [
        "from sklearn.datasets import load_breast_cancer\n",
        "\n",
        "raw_data = load_breast_cancer()\n",
        "print(raw_data.DESCR)"
      ],
      "execution_count": null,
      "outputs": [
        {
          "output_type": "stream",
          "text": [
            ".. _breast_cancer_dataset:\n",
            "\n",
            "Breast cancer wisconsin (diagnostic) dataset\n",
            "--------------------------------------------\n",
            "\n",
            "**Data Set Characteristics:**\n",
            "\n",
            "    :Number of Instances: 569\n",
            "\n",
            "    :Number of Attributes: 30 numeric, predictive attributes and the class\n",
            "\n",
            "    :Attribute Information:\n",
            "        - radius (mean of distances from center to points on the perimeter)\n",
            "        - texture (standard deviation of gray-scale values)\n",
            "        - perimeter\n",
            "        - area\n",
            "        - smoothness (local variation in radius lengths)\n",
            "        - compactness (perimeter^2 / area - 1.0)\n",
            "        - concavity (severity of concave portions of the contour)\n",
            "        - concave points (number of concave portions of the contour)\n",
            "        - symmetry \n",
            "        - fractal dimension (\"coastline approximation\" - 1)\n",
            "\n",
            "        The mean, standard error, and \"worst\" or largest (mean of the three\n",
            "        largest values) of these features were computed for each image,\n",
            "        resulting in 30 features.  For instance, field 3 is Mean Radius, field\n",
            "        13 is Radius SE, field 23 is Worst Radius.\n",
            "\n",
            "        - class:\n",
            "                - WDBC-Malignant\n",
            "                - WDBC-Benign\n",
            "\n",
            "    :Summary Statistics:\n",
            "\n",
            "    ===================================== ====== ======\n",
            "                                           Min    Max\n",
            "    ===================================== ====== ======\n",
            "    radius (mean):                        6.981  28.11\n",
            "    texture (mean):                       9.71   39.28\n",
            "    perimeter (mean):                     43.79  188.5\n",
            "    area (mean):                          143.5  2501.0\n",
            "    smoothness (mean):                    0.053  0.163\n",
            "    compactness (mean):                   0.019  0.345\n",
            "    concavity (mean):                     0.0    0.427\n",
            "    concave points (mean):                0.0    0.201\n",
            "    symmetry (mean):                      0.106  0.304\n",
            "    fractal dimension (mean):             0.05   0.097\n",
            "    radius (standard error):              0.112  2.873\n",
            "    texture (standard error):             0.36   4.885\n",
            "    perimeter (standard error):           0.757  21.98\n",
            "    area (standard error):                6.802  542.2\n",
            "    smoothness (standard error):          0.002  0.031\n",
            "    compactness (standard error):         0.002  0.135\n",
            "    concavity (standard error):           0.0    0.396\n",
            "    concave points (standard error):      0.0    0.053\n",
            "    symmetry (standard error):            0.008  0.079\n",
            "    fractal dimension (standard error):   0.001  0.03\n",
            "    radius (worst):                       7.93   36.04\n",
            "    texture (worst):                      12.02  49.54\n",
            "    perimeter (worst):                    50.41  251.2\n",
            "    area (worst):                         185.2  4254.0\n",
            "    smoothness (worst):                   0.071  0.223\n",
            "    compactness (worst):                  0.027  1.058\n",
            "    concavity (worst):                    0.0    1.252\n",
            "    concave points (worst):               0.0    0.291\n",
            "    symmetry (worst):                     0.156  0.664\n",
            "    fractal dimension (worst):            0.055  0.208\n",
            "    ===================================== ====== ======\n",
            "\n",
            "    :Missing Attribute Values: None\n",
            "\n",
            "    :Class Distribution: 212 - Malignant, 357 - Benign\n",
            "\n",
            "    :Creator:  Dr. William H. Wolberg, W. Nick Street, Olvi L. Mangasarian\n",
            "\n",
            "    :Donor: Nick Street\n",
            "\n",
            "    :Date: November, 1995\n",
            "\n",
            "This is a copy of UCI ML Breast Cancer Wisconsin (Diagnostic) datasets.\n",
            "https://goo.gl/U2Uwz2\n",
            "\n",
            "Features are computed from a digitized image of a fine needle\n",
            "aspirate (FNA) of a breast mass.  They describe\n",
            "characteristics of the cell nuclei present in the image.\n",
            "\n",
            "Separating plane described above was obtained using\n",
            "Multisurface Method-Tree (MSM-T) [K. P. Bennett, \"Decision Tree\n",
            "Construction Via Linear Programming.\" Proceedings of the 4th\n",
            "Midwest Artificial Intelligence and Cognitive Science Society,\n",
            "pp. 97-101, 1992], a classification method which uses linear\n",
            "programming to construct a decision tree.  Relevant features\n",
            "were selected using an exhaustive search in the space of 1-4\n",
            "features and 1-3 separating planes.\n",
            "\n",
            "The actual linear program used to obtain the separating plane\n",
            "in the 3-dimensional space is that described in:\n",
            "[K. P. Bennett and O. L. Mangasarian: \"Robust Linear\n",
            "Programming Discrimination of Two Linearly Inseparable Sets\",\n",
            "Optimization Methods and Software 1, 1992, 23-34].\n",
            "\n",
            "This database is also available through the UW CS ftp server:\n",
            "\n",
            "ftp ftp.cs.wisc.edu\n",
            "cd math-prog/cpo-dataset/machine-learn/WDBC/\n",
            "\n",
            ".. topic:: References\n",
            "\n",
            "   - W.N. Street, W.H. Wolberg and O.L. Mangasarian. Nuclear feature extraction \n",
            "     for breast tumor diagnosis. IS&T/SPIE 1993 International Symposium on \n",
            "     Electronic Imaging: Science and Technology, volume 1905, pages 861-870,\n",
            "     San Jose, CA, 1993.\n",
            "   - O.L. Mangasarian, W.N. Street and W.H. Wolberg. Breast cancer diagnosis and \n",
            "     prognosis via linear programming. Operations Research, 43(4), pages 570-577, \n",
            "     July-August 1995.\n",
            "   - W.H. Wolberg, W.N. Street, and O.L. Mangasarian. Machine learning techniques\n",
            "     to diagnose breast cancer from fine-needle aspirates. Cancer Letters 77 (1994) \n",
            "     163-171.\n"
          ],
          "name": "stdout"
        }
      ]
    },
    {
      "cell_type": "markdown",
      "metadata": {
        "id": "2KNfUAvCSW2B"
      },
      "source": [
        "## ML"
      ]
    },
    {
      "cell_type": "markdown",
      "metadata": {
        "id": "a5XAINYtf3Ip"
      },
      "source": [
        "### 20 train-test-split"
      ]
    },
    {
      "cell_type": "markdown",
      "metadata": {
        "id": "V8a7cTl0gUSE"
      },
      "source": [
        "https://scikit-learn.org/stable/modules/generated/sklearn.model_selection.train_test_split.html"
      ]
    },
    {
      "cell_type": "code",
      "metadata": {
        "colab": {
          "base_uri": "https://localhost:8080/"
        },
        "id": "BleO5d-ff677",
        "outputId": "165d97fd-363e-4248-9d60-57a2d8cb5dec"
      },
      "source": [
        "from sklearn.datasets import load_iris\n",
        "from sklearn.model_selection import train_test_split\n",
        "\n",
        "\n",
        "data_raw = load_iris()\n",
        "data = data_raw['data']\n",
        "target = data_raw['target']\n",
        "\n",
        "data_train, data_test, target_train, target_test = train_test_split(data, target, test_size = 0.3)\n",
        "\n",
        "print('data_train shape:', data_train.shape)\n",
        "print('target_train shape:', target_train.shape)\n",
        "print('data_test shape:', data_test.shape)\n",
        "print('target_test shape:', target_test.shape)"
      ],
      "execution_count": null,
      "outputs": [
        {
          "output_type": "stream",
          "text": [
            "data_train shape: (105, 4)\n",
            "target_train shape: (105,)\n",
            "data_test shape: (45, 4)\n",
            "target_test shape: (45,)\n"
          ],
          "name": "stdout"
        }
      ]
    },
    {
      "cell_type": "markdown",
      "metadata": {
        "id": "fHwMSZg15Dwh"
      },
      "source": [
        "### 31 train-test-split"
      ]
    },
    {
      "cell_type": "code",
      "metadata": {
        "colab": {
          "base_uri": "https://localhost:8080/"
        },
        "id": "1EJOgTCP5Hgm",
        "outputId": "640c01fa-a4e1-4a38-9677-9c6517da9371"
      },
      "source": [
        "import numpy as np\n",
        "import pandas as pd\n",
        "from sklearn.datasets import load_breast_cancer\n",
        "from sklearn.model_selection import train_test_split\n",
        "\n",
        "\n",
        "pd.set_option('display.max_columns', 10)\n",
        "pd.set_option('display.width', 200)\n",
        "np.set_printoptions(precision=2, suppress=True, linewidth=100)\n",
        "raw_data = load_breast_cancer()\n",
        "\n",
        "data = raw_data['data']\n",
        "target = raw_data['target']\n",
        "\n",
        "X_train, X_test, y_train, y_test = train_test_split(data, target, test_size = 0.25, random_state = 40)\n",
        "\n",
        "print('X_train shape',X_train.shape)\n",
        "print('y_train shape',y_train.shape)\n",
        "print('X_test shape',X_test.shape)\n",
        "print('y_test shape',y_test.shape)"
      ],
      "execution_count": null,
      "outputs": [
        {
          "output_type": "stream",
          "text": [
            "X_train shape (426, 30)\n",
            "y_train shape (426,)\n",
            "X_test shape (143, 30)\n",
            "y_test shape (143,)\n"
          ],
          "name": "stdout"
        }
      ]
    },
    {
      "cell_type": "markdown",
      "metadata": {
        "id": "LiTEP3VcAqrx"
      },
      "source": [
        "### 21 LogisticRegression - model regresji logistycznej (fit, score)"
      ]
    },
    {
      "cell_type": "markdown",
      "metadata": {
        "id": "92stiZ68A4JQ"
      },
      "source": [
        "https://scikit-learn.org/stable/modules/generated/sklearn.linear_model.LogisticRegression.html"
      ]
    },
    {
      "cell_type": "code",
      "metadata": {
        "colab": {
          "base_uri": "https://localhost:8080/"
        },
        "id": "H0gvnyuFA3q1",
        "outputId": "64250ee8-9d53-4610-c565-fa779cbfa95b"
      },
      "source": [
        "from sklearn.datasets import load_iris\n",
        "from sklearn.model_selection import train_test_split\n",
        "from sklearn.linear_model import LogisticRegression\n",
        "\n",
        "\n",
        "data_raw = load_iris()\n",
        "data = data_raw['data']\n",
        "target = data_raw['target']\n",
        "data_train, data_test, target_train, target_test = train_test_split(data, target, test_size=0.3, random_state=20)\n",
        "\n",
        "lr = LogisticRegression(max_iter = 100) # deklarowanie instancji klasy LogisticRegression\n",
        "\n",
        "lr.fit(data_train, target_train) # moduł fit, trenowanie danych na zmiennych objasnianych i zmiennej objasnianej \n",
        "\n",
        "acc = lr.score(data_test, target_test) # po uzyciu fit mozemy obliczyć accuracy. sci kit robi to w troche malo intuicyjny sposob\n",
        "# bo predykcje są chowane pod maską w zmiennej lr. Dodatokwo scikit moglby obliczyc acc bez uzycia X w tym wypadku data_test stad \n",
        "# jest to troche mylace. Ponizej masz dowod na to ze acc mozna manualnie obliczyc bez X, tj. data_test\n",
        "\n",
        "print('Accuracy:', round(acc,4))\n"
      ],
      "execution_count": null,
      "outputs": [
        {
          "output_type": "stream",
          "text": [
            "Accuracy: 0.9333\n"
          ],
          "name": "stdout"
        }
      ]
    },
    {
      "cell_type": "code",
      "metadata": {
        "colab": {
          "base_uri": "https://localhost:8080/"
        },
        "id": "Gs1-GgsJBI0F",
        "outputId": "bcec018d-4452-4cf5-bf73-e75a4c01f641"
      },
      "source": [
        "target_test"
      ],
      "execution_count": null,
      "outputs": [
        {
          "output_type": "execute_result",
          "data": {
            "text/plain": [
              "array([0, 1, 1, 2, 1, 1, 2, 0, 2, 0, 2, 1, 2, 0, 0, 2, 0, 1, 2, 1, 1, 2,\n",
              "       2, 0, 1, 1, 1, 0, 2, 2, 1, 1, 0, 0, 0, 2, 1, 0, 1, 2, 1, 2, 0, 1,\n",
              "       1])"
            ]
          },
          "metadata": {
            "tags": []
          },
          "execution_count": 22
        }
      ]
    },
    {
      "cell_type": "code",
      "metadata": {
        "colab": {
          "base_uri": "https://localhost:8080/"
        },
        "id": "zR660iqWHFGF",
        "outputId": "57f404dd-cb4c-433c-b306-9128290792bd"
      },
      "source": [
        "pr = lr.predict(data_test)\n",
        "pr"
      ],
      "execution_count": null,
      "outputs": [
        {
          "output_type": "execute_result",
          "data": {
            "text/plain": [
              "array([0, 1, 1, 2, 1, 1, 2, 0, 2, 0, 2, 1, 1, 0, 0, 2, 0, 1, 2, 1, 1, 2,\n",
              "       2, 0, 1, 1, 1, 0, 2, 1, 1, 1, 0, 0, 0, 1, 1, 0, 1, 2, 1, 2, 0, 1,\n",
              "       1])"
            ]
          },
          "metadata": {
            "tags": []
          },
          "execution_count": 29
        }
      ]
    },
    {
      "cell_type": "code",
      "metadata": {
        "colab": {
          "base_uri": "https://localhost:8080/"
        },
        "id": "Dni-xAQPHU0a",
        "outputId": "44b51c43-f0b1-4ee2-fc5c-1aca7f75f9ac"
      },
      "source": [
        "wrong = 0\n",
        "for i in range(len(target_test)):\n",
        "  if target_test[i] != pr[i]:\n",
        "    wrong += 1\n",
        "\n",
        "1 - wrong/len(target_test)"
      ],
      "execution_count": null,
      "outputs": [
        {
          "output_type": "execute_result",
          "data": {
            "text/plain": [
              "0.9333333333333333"
            ]
          },
          "metadata": {
            "tags": []
          },
          "execution_count": 39
        }
      ]
    },
    {
      "cell_type": "markdown",
      "metadata": {
        "id": "2ObKK8qnPfGd"
      },
      "source": [
        "### 22 predict"
      ]
    },
    {
      "cell_type": "code",
      "metadata": {
        "colab": {
          "base_uri": "https://localhost:8080/"
        },
        "id": "MDyzyamPPjAy",
        "outputId": "6bded793-7d23-4f70-8b20-103ec32d6605"
      },
      "source": [
        "from sklearn.datasets import load_iris\n",
        "from sklearn.model_selection import train_test_split\n",
        "from sklearn.linear_model import LogisticRegression\n",
        "\n",
        "\n",
        "data_raw = load_iris()\n",
        "data = data_raw['data']\n",
        "target = data_raw['target']\n",
        "data_train, data_test, target_train, target_test = train_test_split(data, target, test_size=0.3, random_state=20)\n",
        "\n",
        "model = LogisticRegression(max_iter=1000)\n",
        "model.fit(data_train, target_train)\n",
        "\n",
        "target_pred = model.predict(data_test)\n",
        "print(target_pred)"
      ],
      "execution_count": null,
      "outputs": [
        {
          "output_type": "stream",
          "text": [
            "[0 1 1 2 1 1 2 0 2 0 2 1 1 0 0 2 0 1 2 1 1 2 2 0 1 1 1 0 2 1 1 1 0 0 0 1 1\n",
            " 0 1 2 1 2 0 1 1]\n"
          ],
          "name": "stdout"
        }
      ]
    },
    {
      "cell_type": "markdown",
      "metadata": {
        "id": "5_2KISFsP4ZQ"
      },
      "source": [
        "### 23 confusion_matrix"
      ]
    },
    {
      "cell_type": "markdown",
      "metadata": {
        "id": "GXo7TGfkmPtk"
      },
      "source": [
        "Uwaga macierz inaczej działa w klasyfikacji binarnej i inaczej w wielowymiarowej. Jak masz 2 kategorie to dostaniesz tp, fp, tn i fn ale jak masz np. 3, 4 kategorie to dostaniesz na osi X prdicted values a na osi Y actual values"
      ]
    },
    {
      "cell_type": "markdown",
      "metadata": {
        "id": "AFCOECAJjq97"
      },
      "source": [
        "#### sci-kit"
      ]
    },
    {
      "cell_type": "markdown",
      "metadata": {
        "id": "c4h7eA_hQBdP"
      },
      "source": [
        "https://scikit-learn.org/stable/modules/generated/sklearn.metrics.confusion_matrix.html"
      ]
    },
    {
      "cell_type": "code",
      "metadata": {
        "colab": {
          "base_uri": "https://localhost:8080/"
        },
        "id": "r0t2cA2CP6a6",
        "outputId": "50bab08f-37a8-4745-8dca-96891e661e53"
      },
      "source": [
        "from sklearn.datasets import load_iris\n",
        "from sklearn.model_selection import train_test_split\n",
        "from sklearn.linear_model import LogisticRegression\n",
        "from sklearn.metrics import confusion_matrix\n",
        "\n",
        "\n",
        "data_raw = load_iris()\n",
        "data = data_raw['data']\n",
        "target = data_raw['target']\n",
        "data_train, data_test, target_train, target_test = train_test_split(data, target, test_size=0.3, random_state=20)\n",
        "\n",
        "model = LogisticRegression(max_iter=1000)\n",
        "model.fit(data_train, target_train)\n",
        "\n",
        "target_pred = model.predict(data_test)\n",
        "\n",
        "cm = confusion_matrix(target_test, target_pred)\n",
        "cm"
      ],
      "execution_count": null,
      "outputs": [
        {
          "output_type": "execute_result",
          "data": {
            "text/plain": [
              "array([[13,  0,  0],\n",
              "       [ 0, 18,  0],\n",
              "       [ 0,  3, 11]])"
            ]
          },
          "metadata": {},
          "execution_count": 14
        }
      ]
    },
    {
      "cell_type": "markdown",
      "metadata": {
        "id": "9IjY2Ju1idLu"
      },
      "source": [
        "tutaj jest pokazana macierz z labelami dlatego jest 3x3 a nie z positive, negative gdzie jest 2x2\n",
        "\n",
        "Tutaj poziomo to predicted class setosa, virginica, versicolor a pionowo to actual class setosa, virginica, versicolor"
      ]
    },
    {
      "cell_type": "markdown",
      "metadata": {
        "id": "BKIexmWojsnV"
      },
      "source": [
        "#### wizualizacja"
      ]
    },
    {
      "cell_type": "code",
      "metadata": {
        "colab": {
          "base_uri": "https://localhost:8080/",
          "height": 417
        },
        "id": "jmjtF1Zag3ys",
        "outputId": "8d0d13b4-e6c3-401d-d6b2-2322db929dbe"
      },
      "source": [
        "import plotly.figure_factory as ff\n",
        "\n",
        "def plot_confusion_matrix(cm):\n",
        "    cm = cm[::-1]\n",
        "    cm = pd.DataFrame(cm, columns=['setosa','virginica','versicolor'], index=['setosa','virginica','versicolor'])\n",
        "\n",
        "    fig = ff.create_annotated_heatmap(z=cm.values, x=list(cm.columns), y=list(cm.index), \n",
        "                                      colorscale='ice', showscale=True, reversescale=True)\n",
        "    fig.update_layout(width=400, height=400, title='Confusion Matrix', font_size=16)\n",
        "    fig.show()\n",
        "\n",
        "plot_confusion_matrix(cm)"
      ],
      "execution_count": null,
      "outputs": [
        {
          "output_type": "display_data",
          "data": {
            "text/html": [
              "<html>\n",
              "<head><meta charset=\"utf-8\" /></head>\n",
              "<body>\n",
              "    <div>\n",
              "            <script src=\"https://cdnjs.cloudflare.com/ajax/libs/mathjax/2.7.5/MathJax.js?config=TeX-AMS-MML_SVG\"></script><script type=\"text/javascript\">if (window.MathJax) {MathJax.Hub.Config({SVG: {font: \"STIX-Web\"}});}</script>\n",
              "                <script type=\"text/javascript\">window.PlotlyConfig = {MathJaxConfig: 'local'};</script>\n",
              "        <script src=\"https://cdn.plot.ly/plotly-latest.min.js\"></script>    \n",
              "            <div id=\"6f38a2a1-3aa4-40ec-8944-2c213391d520\" class=\"plotly-graph-div\" style=\"height:400px; width:400px;\"></div>\n",
              "            <script type=\"text/javascript\">\n",
              "                \n",
              "                    window.PLOTLYENV=window.PLOTLYENV || {};\n",
              "                    \n",
              "                if (document.getElementById(\"6f38a2a1-3aa4-40ec-8944-2c213391d520\")) {\n",
              "                    Plotly.newPlot(\n",
              "                        '6f38a2a1-3aa4-40ec-8944-2c213391d520',\n",
              "                        [{\"colorscale\": [[0.0, \"rgb(3, 5, 18)\"], [0.09090909090909091, \"rgb(25, 25, 51)\"], [0.18181818181818182, \"rgb(44, 42, 87)\"], [0.2727272727272727, \"rgb(58, 60, 125)\"], [0.36363636363636365, \"rgb(62, 83, 160)\"], [0.45454545454545453, \"rgb(62, 109, 178)\"], [0.5454545454545454, \"rgb(72, 134, 187)\"], [0.6363636363636364, \"rgb(89, 159, 196)\"], [0.7272727272727273, \"rgb(114, 184, 205)\"], [0.8181818181818182, \"rgb(149, 207, 216)\"], [0.9090909090909091, \"rgb(192, 229, 232)\"], [1.0, \"rgb(234, 252, 253)\"]], \"reversescale\": true, \"showscale\": true, \"type\": \"heatmap\", \"x\": [\"setosa\", \"virginica\", \"versicolor\"], \"y\": [\"setosa\", \"virginica\", \"versicolor\"], \"z\": [[0, 3, 11], [0, 18, 0], [13, 0, 0]]}],\n",
              "                        {\"annotations\": [{\"font\": {\"color\": \"#000000\"}, \"showarrow\": false, \"text\": \"0\", \"x\": \"setosa\", \"xref\": \"x\", \"y\": \"setosa\", \"yref\": \"y\"}, {\"font\": {\"color\": \"#000000\"}, \"showarrow\": false, \"text\": \"3\", \"x\": \"virginica\", \"xref\": \"x\", \"y\": \"setosa\", \"yref\": \"y\"}, {\"font\": {\"color\": \"#FFFFFF\"}, \"showarrow\": false, \"text\": \"11\", \"x\": \"versicolor\", \"xref\": \"x\", \"y\": \"setosa\", \"yref\": \"y\"}, {\"font\": {\"color\": \"#000000\"}, \"showarrow\": false, \"text\": \"0\", \"x\": \"setosa\", \"xref\": \"x\", \"y\": \"virginica\", \"yref\": \"y\"}, {\"font\": {\"color\": \"#FFFFFF\"}, \"showarrow\": false, \"text\": \"18\", \"x\": \"virginica\", \"xref\": \"x\", \"y\": \"virginica\", \"yref\": \"y\"}, {\"font\": {\"color\": \"#000000\"}, \"showarrow\": false, \"text\": \"0\", \"x\": \"versicolor\", \"xref\": \"x\", \"y\": \"virginica\", \"yref\": \"y\"}, {\"font\": {\"color\": \"#FFFFFF\"}, \"showarrow\": false, \"text\": \"13\", \"x\": \"setosa\", \"xref\": \"x\", \"y\": \"versicolor\", \"yref\": \"y\"}, {\"font\": {\"color\": \"#000000\"}, \"showarrow\": false, \"text\": \"0\", \"x\": \"virginica\", \"xref\": \"x\", \"y\": \"versicolor\", \"yref\": \"y\"}, {\"font\": {\"color\": \"#000000\"}, \"showarrow\": false, \"text\": \"0\", \"x\": \"versicolor\", \"xref\": \"x\", \"y\": \"versicolor\", \"yref\": \"y\"}], \"font\": {\"size\": 16}, \"height\": 400, \"template\": {\"data\": {\"bar\": [{\"error_x\": {\"color\": \"#2a3f5f\"}, \"error_y\": {\"color\": \"#2a3f5f\"}, \"marker\": {\"line\": {\"color\": \"#E5ECF6\", \"width\": 0.5}}, \"type\": \"bar\"}], \"barpolar\": [{\"marker\": {\"line\": {\"color\": \"#E5ECF6\", \"width\": 0.5}}, \"type\": \"barpolar\"}], \"carpet\": [{\"aaxis\": {\"endlinecolor\": \"#2a3f5f\", \"gridcolor\": \"white\", \"linecolor\": \"white\", \"minorgridcolor\": \"white\", \"startlinecolor\": \"#2a3f5f\"}, \"baxis\": {\"endlinecolor\": \"#2a3f5f\", \"gridcolor\": \"white\", \"linecolor\": \"white\", \"minorgridcolor\": \"white\", \"startlinecolor\": \"#2a3f5f\"}, \"type\": \"carpet\"}], \"choropleth\": [{\"colorbar\": {\"outlinewidth\": 0, \"ticks\": \"\"}, \"type\": \"choropleth\"}], \"contour\": [{\"colorbar\": {\"outlinewidth\": 0, \"ticks\": \"\"}, \"colorscale\": [[0.0, \"#0d0887\"], [0.1111111111111111, \"#46039f\"], [0.2222222222222222, \"#7201a8\"], [0.3333333333333333, \"#9c179e\"], [0.4444444444444444, \"#bd3786\"], [0.5555555555555556, \"#d8576b\"], [0.6666666666666666, \"#ed7953\"], [0.7777777777777778, \"#fb9f3a\"], [0.8888888888888888, \"#fdca26\"], [1.0, \"#f0f921\"]], \"type\": \"contour\"}], \"contourcarpet\": [{\"colorbar\": {\"outlinewidth\": 0, \"ticks\": \"\"}, \"type\": \"contourcarpet\"}], \"heatmap\": [{\"colorbar\": {\"outlinewidth\": 0, \"ticks\": \"\"}, \"colorscale\": [[0.0, \"#0d0887\"], [0.1111111111111111, \"#46039f\"], [0.2222222222222222, \"#7201a8\"], [0.3333333333333333, \"#9c179e\"], [0.4444444444444444, \"#bd3786\"], [0.5555555555555556, \"#d8576b\"], [0.6666666666666666, \"#ed7953\"], [0.7777777777777778, \"#fb9f3a\"], [0.8888888888888888, \"#fdca26\"], [1.0, \"#f0f921\"]], \"type\": \"heatmap\"}], \"heatmapgl\": [{\"colorbar\": {\"outlinewidth\": 0, \"ticks\": \"\"}, \"colorscale\": [[0.0, \"#0d0887\"], [0.1111111111111111, \"#46039f\"], [0.2222222222222222, \"#7201a8\"], [0.3333333333333333, \"#9c179e\"], [0.4444444444444444, \"#bd3786\"], [0.5555555555555556, \"#d8576b\"], [0.6666666666666666, \"#ed7953\"], [0.7777777777777778, \"#fb9f3a\"], [0.8888888888888888, \"#fdca26\"], [1.0, \"#f0f921\"]], \"type\": \"heatmapgl\"}], \"histogram\": [{\"marker\": {\"colorbar\": {\"outlinewidth\": 0, \"ticks\": \"\"}}, \"type\": \"histogram\"}], \"histogram2d\": [{\"colorbar\": {\"outlinewidth\": 0, \"ticks\": \"\"}, \"colorscale\": [[0.0, \"#0d0887\"], [0.1111111111111111, \"#46039f\"], [0.2222222222222222, \"#7201a8\"], [0.3333333333333333, \"#9c179e\"], [0.4444444444444444, \"#bd3786\"], [0.5555555555555556, \"#d8576b\"], [0.6666666666666666, \"#ed7953\"], [0.7777777777777778, \"#fb9f3a\"], [0.8888888888888888, \"#fdca26\"], [1.0, \"#f0f921\"]], \"type\": \"histogram2d\"}], \"histogram2dcontour\": [{\"colorbar\": {\"outlinewidth\": 0, \"ticks\": \"\"}, \"colorscale\": [[0.0, \"#0d0887\"], [0.1111111111111111, \"#46039f\"], [0.2222222222222222, \"#7201a8\"], [0.3333333333333333, \"#9c179e\"], [0.4444444444444444, \"#bd3786\"], [0.5555555555555556, \"#d8576b\"], [0.6666666666666666, \"#ed7953\"], [0.7777777777777778, \"#fb9f3a\"], [0.8888888888888888, \"#fdca26\"], [1.0, \"#f0f921\"]], \"type\": \"histogram2dcontour\"}], \"mesh3d\": [{\"colorbar\": {\"outlinewidth\": 0, \"ticks\": \"\"}, \"type\": \"mesh3d\"}], \"parcoords\": [{\"line\": {\"colorbar\": {\"outlinewidth\": 0, \"ticks\": \"\"}}, \"type\": \"parcoords\"}], \"pie\": [{\"automargin\": true, \"type\": \"pie\"}], \"scatter\": [{\"marker\": {\"colorbar\": {\"outlinewidth\": 0, \"ticks\": \"\"}}, \"type\": \"scatter\"}], \"scatter3d\": [{\"line\": {\"colorbar\": {\"outlinewidth\": 0, \"ticks\": \"\"}}, \"marker\": {\"colorbar\": {\"outlinewidth\": 0, \"ticks\": \"\"}}, \"type\": \"scatter3d\"}], \"scattercarpet\": [{\"marker\": {\"colorbar\": {\"outlinewidth\": 0, \"ticks\": \"\"}}, \"type\": \"scattercarpet\"}], \"scattergeo\": [{\"marker\": {\"colorbar\": {\"outlinewidth\": 0, \"ticks\": \"\"}}, \"type\": \"scattergeo\"}], \"scattergl\": [{\"marker\": {\"colorbar\": {\"outlinewidth\": 0, \"ticks\": \"\"}}, \"type\": \"scattergl\"}], \"scattermapbox\": [{\"marker\": {\"colorbar\": {\"outlinewidth\": 0, \"ticks\": \"\"}}, \"type\": \"scattermapbox\"}], \"scatterpolar\": [{\"marker\": {\"colorbar\": {\"outlinewidth\": 0, \"ticks\": \"\"}}, \"type\": \"scatterpolar\"}], \"scatterpolargl\": [{\"marker\": {\"colorbar\": {\"outlinewidth\": 0, \"ticks\": \"\"}}, \"type\": \"scatterpolargl\"}], \"scatterternary\": [{\"marker\": {\"colorbar\": {\"outlinewidth\": 0, \"ticks\": \"\"}}, \"type\": \"scatterternary\"}], \"surface\": [{\"colorbar\": {\"outlinewidth\": 0, \"ticks\": \"\"}, \"colorscale\": [[0.0, \"#0d0887\"], [0.1111111111111111, \"#46039f\"], [0.2222222222222222, \"#7201a8\"], [0.3333333333333333, \"#9c179e\"], [0.4444444444444444, \"#bd3786\"], [0.5555555555555556, \"#d8576b\"], [0.6666666666666666, \"#ed7953\"], [0.7777777777777778, \"#fb9f3a\"], [0.8888888888888888, \"#fdca26\"], [1.0, \"#f0f921\"]], \"type\": \"surface\"}], \"table\": [{\"cells\": {\"fill\": {\"color\": \"#EBF0F8\"}, \"line\": {\"color\": \"white\"}}, \"header\": {\"fill\": {\"color\": \"#C8D4E3\"}, \"line\": {\"color\": \"white\"}}, \"type\": \"table\"}]}, \"layout\": {\"annotationdefaults\": {\"arrowcolor\": \"#2a3f5f\", \"arrowhead\": 0, \"arrowwidth\": 1}, \"coloraxis\": {\"colorbar\": {\"outlinewidth\": 0, \"ticks\": \"\"}}, \"colorscale\": {\"diverging\": [[0, \"#8e0152\"], [0.1, \"#c51b7d\"], [0.2, \"#de77ae\"], [0.3, \"#f1b6da\"], [0.4, \"#fde0ef\"], [0.5, \"#f7f7f7\"], [0.6, \"#e6f5d0\"], [0.7, \"#b8e186\"], [0.8, \"#7fbc41\"], [0.9, \"#4d9221\"], [1, \"#276419\"]], \"sequential\": [[0.0, \"#0d0887\"], [0.1111111111111111, \"#46039f\"], [0.2222222222222222, \"#7201a8\"], [0.3333333333333333, \"#9c179e\"], [0.4444444444444444, \"#bd3786\"], [0.5555555555555556, \"#d8576b\"], [0.6666666666666666, \"#ed7953\"], [0.7777777777777778, \"#fb9f3a\"], [0.8888888888888888, \"#fdca26\"], [1.0, \"#f0f921\"]], \"sequentialminus\": [[0.0, \"#0d0887\"], [0.1111111111111111, \"#46039f\"], [0.2222222222222222, \"#7201a8\"], [0.3333333333333333, \"#9c179e\"], [0.4444444444444444, \"#bd3786\"], [0.5555555555555556, \"#d8576b\"], [0.6666666666666666, \"#ed7953\"], [0.7777777777777778, \"#fb9f3a\"], [0.8888888888888888, \"#fdca26\"], [1.0, \"#f0f921\"]]}, \"colorway\": [\"#636efa\", \"#EF553B\", \"#00cc96\", \"#ab63fa\", \"#FFA15A\", \"#19d3f3\", \"#FF6692\", \"#B6E880\", \"#FF97FF\", \"#FECB52\"], \"font\": {\"color\": \"#2a3f5f\"}, \"geo\": {\"bgcolor\": \"white\", \"lakecolor\": \"white\", \"landcolor\": \"#E5ECF6\", \"showlakes\": true, \"showland\": true, \"subunitcolor\": \"white\"}, \"hoverlabel\": {\"align\": \"left\"}, \"hovermode\": \"closest\", \"mapbox\": {\"style\": \"light\"}, \"paper_bgcolor\": \"white\", \"plot_bgcolor\": \"#E5ECF6\", \"polar\": {\"angularaxis\": {\"gridcolor\": \"white\", \"linecolor\": \"white\", \"ticks\": \"\"}, \"bgcolor\": \"#E5ECF6\", \"radialaxis\": {\"gridcolor\": \"white\", \"linecolor\": \"white\", \"ticks\": \"\"}}, \"scene\": {\"xaxis\": {\"backgroundcolor\": \"#E5ECF6\", \"gridcolor\": \"white\", \"gridwidth\": 2, \"linecolor\": \"white\", \"showbackground\": true, \"ticks\": \"\", \"zerolinecolor\": \"white\"}, \"yaxis\": {\"backgroundcolor\": \"#E5ECF6\", \"gridcolor\": \"white\", \"gridwidth\": 2, \"linecolor\": \"white\", \"showbackground\": true, \"ticks\": \"\", \"zerolinecolor\": \"white\"}, \"zaxis\": {\"backgroundcolor\": \"#E5ECF6\", \"gridcolor\": \"white\", \"gridwidth\": 2, \"linecolor\": \"white\", \"showbackground\": true, \"ticks\": \"\", \"zerolinecolor\": \"white\"}}, \"shapedefaults\": {\"line\": {\"color\": \"#2a3f5f\"}}, \"ternary\": {\"aaxis\": {\"gridcolor\": \"white\", \"linecolor\": \"white\", \"ticks\": \"\"}, \"baxis\": {\"gridcolor\": \"white\", \"linecolor\": \"white\", \"ticks\": \"\"}, \"bgcolor\": \"#E5ECF6\", \"caxis\": {\"gridcolor\": \"white\", \"linecolor\": \"white\", \"ticks\": \"\"}}, \"title\": {\"x\": 0.05}, \"xaxis\": {\"automargin\": true, \"gridcolor\": \"white\", \"linecolor\": \"white\", \"ticks\": \"\", \"title\": {\"standoff\": 15}, \"zerolinecolor\": \"white\", \"zerolinewidth\": 2}, \"yaxis\": {\"automargin\": true, \"gridcolor\": \"white\", \"linecolor\": \"white\", \"ticks\": \"\", \"title\": {\"standoff\": 15}, \"zerolinecolor\": \"white\", \"zerolinewidth\": 2}}}, \"title\": {\"text\": \"Confusion Matrix\"}, \"width\": 400, \"xaxis\": {\"dtick\": 1, \"gridcolor\": \"rgb(0, 0, 0)\", \"side\": \"top\", \"ticks\": \"\"}, \"yaxis\": {\"dtick\": 1, \"ticks\": \"\", \"ticksuffix\": \"  \"}},\n",
              "                        {\"responsive\": true}\n",
              "                    ).then(function(){\n",
              "                            \n",
              "var gd = document.getElementById('6f38a2a1-3aa4-40ec-8944-2c213391d520');\n",
              "var x = new MutationObserver(function (mutations, observer) {{\n",
              "        var display = window.getComputedStyle(gd).display;\n",
              "        if (!display || display === 'none') {{\n",
              "            console.log([gd, 'removed!']);\n",
              "            Plotly.purge(gd);\n",
              "            observer.disconnect();\n",
              "        }}\n",
              "}});\n",
              "\n",
              "// Listen for the removal of the full notebook cells\n",
              "var notebookContainer = gd.closest('#notebook-container');\n",
              "if (notebookContainer) {{\n",
              "    x.observe(notebookContainer, {childList: true});\n",
              "}}\n",
              "\n",
              "// Listen for the clearing of the current output cell\n",
              "var outputEl = gd.closest('.output');\n",
              "if (outputEl) {{\n",
              "    x.observe(outputEl, {childList: true});\n",
              "}}\n",
              "\n",
              "                        })\n",
              "                };\n",
              "                \n",
              "            </script>\n",
              "        </div>\n",
              "</body>\n",
              "</html>"
            ]
          },
          "metadata": {}
        }
      ]
    },
    {
      "cell_type": "markdown",
      "metadata": {
        "id": "Fwq32K90CF1c"
      },
      "source": [
        "### 46 confusion_matrix"
      ]
    },
    {
      "cell_type": "code",
      "metadata": {
        "id": "DDXJAH8DCKNG"
      },
      "source": [
        "import numpy as np\n",
        "import pandas as pd\n",
        "from sklearn.metrics import confusion_matrix\n",
        "\n",
        "df = pd.read_csv('predictions.csv')\n",
        "\n",
        "y_true = df['y_true']\n",
        "y_pred = df['y_pred']\n",
        "\n",
        "cf = confusion_matrix(y_true, y_pred)\n",
        "\n",
        "print(cf)"
      ],
      "execution_count": null,
      "outputs": []
    },
    {
      "cell_type": "markdown",
      "metadata": {
        "id": "oCP9aGvQQY6u"
      },
      "source": [
        "### 24 classification_report"
      ]
    },
    {
      "cell_type": "code",
      "metadata": {
        "colab": {
          "base_uri": "https://localhost:8080/"
        },
        "id": "bEsErDRiQbKx",
        "outputId": "db204749-3e41-430e-f615-e3a1160143f6"
      },
      "source": [
        "from sklearn.datasets import load_iris\n",
        "from sklearn.model_selection import train_test_split\n",
        "from sklearn.linear_model import LogisticRegression\n",
        "from sklearn.metrics import classification_report\n",
        "\n",
        "\n",
        "data_raw = load_iris()\n",
        "data = data_raw['data']\n",
        "target = data_raw['target']\n",
        "data_train, data_test, target_train, target_test = train_test_split(data, target, test_size=0.3, random_state=20)\n",
        "\n",
        "model = LogisticRegression(max_iter=1000)\n",
        "model.fit(data_train, target_train)\n",
        "\n",
        "target_pred = model.predict(data_test)\n",
        "\n",
        "print(classification_report(target_test, target_pred))"
      ],
      "execution_count": null,
      "outputs": [
        {
          "output_type": "stream",
          "text": [
            "              precision    recall  f1-score   support\n",
            "\n",
            "           0       1.00      1.00      1.00        13\n",
            "           1       0.86      1.00      0.92        18\n",
            "           2       1.00      0.79      0.88        14\n",
            "\n",
            "    accuracy                           0.93        45\n",
            "   macro avg       0.95      0.93      0.93        45\n",
            "weighted avg       0.94      0.93      0.93        45\n",
            "\n"
          ],
          "name": "stdout"
        }
      ]
    },
    {
      "cell_type": "markdown",
      "metadata": {
        "id": "VrD3eDhUSytK"
      },
      "source": [
        "### 25 LabelEncoder - etykietowanie binarne (0,1)"
      ]
    },
    {
      "cell_type": "code",
      "metadata": {
        "id": "HngUzKVUS8WT"
      },
      "source": [
        "import pandas as pd\n",
        "from sklearn.preprocessing import LabelEncoder\n",
        "\n",
        "\n",
        "data = {\n",
        "    'size': ['XL', 'L', 'M', 'L', 'M'],\n",
        "    'color': ['red', 'green', 'blue', 'green', 'red'],\n",
        "    'gender': ['female', 'male', 'male', 'female', 'female'],\n",
        "    'price': [199.0, 89.0, 99.0, 129.0, 79.0],\n",
        "    'weight': [500, 450, 300, 380, 410],\n",
        "    'bought': ['yes', 'no', 'yes', 'no', 'yes']\n",
        "}\n",
        "\n",
        "df = pd.DataFrame(data=data)\n",
        "for col in ['size', 'color', 'gender', 'bought']:\n",
        "    df[col] = df[col].astype('category')\n",
        "df['weight'] = df['weight'].astype('float')"
      ],
      "execution_count": null,
      "outputs": []
    },
    {
      "cell_type": "code",
      "metadata": {
        "colab": {
          "base_uri": "https://localhost:8080/"
        },
        "id": "wDDmGksTd76j",
        "outputId": "f05103cb-e2dc-4b1c-a753-9a173c741261"
      },
      "source": [
        "le = LabelEncoder()\n",
        "df['bought'] = le.fit_transform(df['bought'])\n",
        "print(df)"
      ],
      "execution_count": null,
      "outputs": [
        {
          "output_type": "stream",
          "text": [
            "  size  color  gender  price  weight  bought\n",
            "0   XL    red  female  199.0   500.0       1\n",
            "1    L  green    male   89.0   450.0       0\n",
            "2    M   blue    male   99.0   300.0       1\n",
            "3    L  green  female  129.0   380.0       0\n",
            "4    M    red  female   79.0   410.0       1\n"
          ],
          "name": "stdout"
        }
      ]
    },
    {
      "cell_type": "markdown",
      "metadata": {
        "id": "Bq4uXKikgYIx"
      },
      "source": [
        "### 26 OneHotEncoder - etykietowanie - wiecej niż 2 kategorie"
      ]
    },
    {
      "cell_type": "markdown",
      "metadata": {
        "id": "bo9oHxECh8GV"
      },
      "source": [
        "https://scikit-learn.org/stable/modules/generated/sklearn.preprocessing.OneHotEncoder.html"
      ]
    },
    {
      "cell_type": "code",
      "metadata": {
        "colab": {
          "base_uri": "https://localhost:8080/",
          "height": 206
        },
        "id": "rHglzRBSgdTC",
        "outputId": "4e56158d-82e2-4b2c-d9e2-f55783c0ad0a"
      },
      "source": [
        "import pandas as pd\n",
        "from sklearn.preprocessing import OneHotEncoder\n",
        "\n",
        "\n",
        "data = {\n",
        "    'size': ['XL', 'L', 'M', 'L', 'M'],\n",
        "    'color': ['red', 'green', 'blue', 'green', 'red'],\n",
        "    'gender': ['female', 'male', 'male', 'female', 'female'],\n",
        "    'price': [199.0, 89.0, 99.0, 129.0, 79.0],\n",
        "    'weight': [500, 450, 300, 380, 410],\n",
        "    'bought': ['yes', 'no', 'yes', 'no', 'yes']\n",
        "}\n",
        "\n",
        "df = pd.DataFrame(data=data)\n",
        "for col in ['size', 'color', 'gender', 'bought']:\n",
        "    df[col] = df[col].astype('category')\n",
        "df['weight'] = df['weight'].astype('float')\n",
        "df"
      ],
      "execution_count": null,
      "outputs": [
        {
          "output_type": "execute_result",
          "data": {
            "text/html": [
              "<div>\n",
              "<style scoped>\n",
              "    .dataframe tbody tr th:only-of-type {\n",
              "        vertical-align: middle;\n",
              "    }\n",
              "\n",
              "    .dataframe tbody tr th {\n",
              "        vertical-align: top;\n",
              "    }\n",
              "\n",
              "    .dataframe thead th {\n",
              "        text-align: right;\n",
              "    }\n",
              "</style>\n",
              "<table border=\"1\" class=\"dataframe\">\n",
              "  <thead>\n",
              "    <tr style=\"text-align: right;\">\n",
              "      <th></th>\n",
              "      <th>size</th>\n",
              "      <th>color</th>\n",
              "      <th>gender</th>\n",
              "      <th>price</th>\n",
              "      <th>weight</th>\n",
              "      <th>bought</th>\n",
              "    </tr>\n",
              "  </thead>\n",
              "  <tbody>\n",
              "    <tr>\n",
              "      <th>0</th>\n",
              "      <td>XL</td>\n",
              "      <td>red</td>\n",
              "      <td>female</td>\n",
              "      <td>199.0</td>\n",
              "      <td>500.0</td>\n",
              "      <td>yes</td>\n",
              "    </tr>\n",
              "    <tr>\n",
              "      <th>1</th>\n",
              "      <td>L</td>\n",
              "      <td>green</td>\n",
              "      <td>male</td>\n",
              "      <td>89.0</td>\n",
              "      <td>450.0</td>\n",
              "      <td>no</td>\n",
              "    </tr>\n",
              "    <tr>\n",
              "      <th>2</th>\n",
              "      <td>M</td>\n",
              "      <td>blue</td>\n",
              "      <td>male</td>\n",
              "      <td>99.0</td>\n",
              "      <td>300.0</td>\n",
              "      <td>yes</td>\n",
              "    </tr>\n",
              "    <tr>\n",
              "      <th>3</th>\n",
              "      <td>L</td>\n",
              "      <td>green</td>\n",
              "      <td>female</td>\n",
              "      <td>129.0</td>\n",
              "      <td>380.0</td>\n",
              "      <td>no</td>\n",
              "    </tr>\n",
              "    <tr>\n",
              "      <th>4</th>\n",
              "      <td>M</td>\n",
              "      <td>red</td>\n",
              "      <td>female</td>\n",
              "      <td>79.0</td>\n",
              "      <td>410.0</td>\n",
              "      <td>yes</td>\n",
              "    </tr>\n",
              "  </tbody>\n",
              "</table>\n",
              "</div>"
            ],
            "text/plain": [
              "  size  color  gender  price  weight bought\n",
              "0   XL    red  female  199.0   500.0    yes\n",
              "1    L  green    male   89.0   450.0     no\n",
              "2    M   blue    male   99.0   300.0    yes\n",
              "3    L  green  female  129.0   380.0     no\n",
              "4    M    red  female   79.0   410.0    yes"
            ]
          },
          "metadata": {
            "tags": []
          },
          "execution_count": 55
        }
      ]
    },
    {
      "cell_type": "code",
      "metadata": {
        "colab": {
          "base_uri": "https://localhost:8080/"
        },
        "id": "QQrY5zqOgfIB",
        "outputId": "9e26c3a1-d222-4882-bc35-994d3228d5b1"
      },
      "source": [
        "ohe = OneHotEncoder(sparse = False) # sparse = True - return sparse matrix, False - will return array\n",
        "\n",
        "print(ohe.fit_transform(df[['size']])) # wyrzuci array tam gdzie 1 to ta kolumna jest prawdziwa dla danego wiersza\n",
        "print(ohe.categories_) # wyrzuci wszystkie kategorie jakie znalazło"
      ],
      "execution_count": null,
      "outputs": [
        {
          "output_type": "stream",
          "text": [
            "[[0. 0. 1.]\n",
            " [1. 0. 0.]\n",
            " [0. 1. 0.]\n",
            " [1. 0. 0.]\n",
            " [0. 1. 0.]]\n",
            "[array(['L', 'M', 'XL'], dtype=object)]\n"
          ],
          "name": "stdout"
        }
      ]
    },
    {
      "cell_type": "markdown",
      "metadata": {
        "id": "9NifTH1HFG_V"
      },
      "source": [
        "### 42 StandardScaler - standaryzacja"
      ]
    },
    {
      "cell_type": "markdown",
      "metadata": {
        "id": "UIS94gTNFNPx"
      },
      "source": [
        "https://scikit-learn.org/stable/modules/generated/sklearn.preprocessing.StandardScaler.html"
      ]
    },
    {
      "cell_type": "code",
      "metadata": {
        "id": "T9yXe4FjFJKW"
      },
      "source": [
        "import numpy as np\n",
        "import pandas as pd\n",
        "from sklearn.preprocessing import StandardScaler\n",
        "\n",
        "\n",
        "np.set_printoptions(precision=4, suppress=True)\n",
        "\n",
        "df = pd.read_csv('data.csv') # data.csv jest na udemy\n",
        "\n",
        "ss = StandardScaler()\n",
        "\n",
        "df_ss = ss.fit_transform(df)\n",
        "\n",
        "print(df_ss)"
      ],
      "execution_count": null,
      "outputs": []
    },
    {
      "cell_type": "markdown",
      "metadata": {
        "id": "43J_xdLlMGnr"
      },
      "source": [
        "### 43 StandardScaler - standaryzacja z dopasowaniem na X_train"
      ]
    },
    {
      "cell_type": "code",
      "metadata": {
        "id": "x2kgaJeWMO74"
      },
      "source": [
        "import numpy as np\n",
        "import pandas as pd\n",
        "from sklearn.preprocessing import StandardScaler\n",
        "\n",
        "\n",
        "np.set_printoptions(precision=4, suppress=True)\n",
        "\n",
        "X_train = pd.read_csv('X_train.csv')\n",
        "X_test = pd.read_csv('X_test.csv')\n",
        "\n",
        "scaler = StandardScaler()\n",
        "\n",
        "scaler.fit(X_train)\n",
        "\n",
        "X_train = scaler.transform(X_train)\n",
        "X_test = scaler.transform(X_test)\n",
        "\n",
        "print(X_train[:5])\n",
        "print(X_test[:5])"
      ],
      "execution_count": null,
      "outputs": []
    },
    {
      "cell_type": "markdown",
      "metadata": {
        "id": "ivizr8PGagQ7"
      },
      "source": [
        "### 67 StandardScaler - fit_transform"
      ]
    },
    {
      "cell_type": "code",
      "metadata": {
        "id": "FIws-G3aan5D"
      },
      "source": [
        "import numpy as np\n",
        "import pandas as pd\n",
        "from sklearn.preprocessing import StandardScaler\n",
        "\n",
        "np.random.seed(42)\n",
        "\n",
        "df = pd.read_csv('pca.csv')\n",
        "\n",
        "ss = StandardScaler()\n",
        "\n",
        "X = df[['var1','var2','var3']]\n",
        "y = df[['class']]\n",
        "\n",
        "standarized = ss.fit_transform(X)\n",
        "\n",
        "print(standarized[:10])"
      ],
      "execution_count": null,
      "outputs": []
    },
    {
      "cell_type": "markdown",
      "metadata": {
        "id": "NpllFLEk997g"
      },
      "source": [
        "### 45 accuracy_score"
      ]
    },
    {
      "cell_type": "markdown",
      "metadata": {
        "id": "K_RjzJG_-Eie"
      },
      "source": [
        "https://scikit-learn.org/stable/modules/generated/sklearn.metrics.accuracy_score.html"
      ]
    },
    {
      "cell_type": "code",
      "metadata": {
        "id": "uj9Zd6oq-A7A"
      },
      "source": [
        "import numpy as np\n",
        "import pandas as pd\n",
        "from sklearn.metrics import accuracy_score\n",
        "\n",
        "df = pd.read_csv('predictions.csv')\n",
        "\n",
        "y_true = df['y_true']\n",
        "y_pred = df['y_pred']\n",
        "\n",
        "acc = accuracy_score(y_true, y_pred)\n",
        "print('Accuracy:',round(acc,4))"
      ],
      "execution_count": null,
      "outputs": []
    },
    {
      "cell_type": "markdown",
      "metadata": {
        "id": "_c1b6s9FkRZQ"
      },
      "source": [
        "### 83 load_digit"
      ]
    },
    {
      "cell_type": "code",
      "metadata": {
        "colab": {
          "base_uri": "https://localhost:8080/",
          "height": 281
        },
        "id": "R44LtP1vkWta",
        "outputId": "908b3d35-3b40-4273-f68e-46507f11ad50"
      },
      "source": [
        "import numpy as np\n",
        "import pandas as pd\n",
        "import matplotlib.pyplot as plt\n",
        "\n",
        "from sklearn.datasets import load_digits\n",
        "from sklearn.neighbors import KNeighborsClassifier\n",
        "from sklearn.model_selection import train_test_split\n",
        "\n",
        "\n",
        "np.random.seed(42)\n",
        "data, target = load_digits(return_X_y=True)\n",
        "\n",
        "idx = 250\n",
        "plt.imshow(data[idx].reshape(8, 8), cmap='gray_r')\n",
        "plt.title(f'Label: {target[idx]}')\n",
        "plt.show()"
      ],
      "execution_count": null,
      "outputs": [
        {
          "output_type": "display_data",
          "data": {
            "image/png": "[encoded data removed]",
            "text/plain": [
              "<Figure size 432x288 with 1 Axes>"
            ]
          },
          "metadata": {
            "needs_background": "light"
          }
        }
      ]
    },
    {
      "cell_type": "code",
      "metadata": {
        "colab": {
          "base_uri": "https://localhost:8080/"
        },
        "id": "AQwILpTvkdjq",
        "outputId": "7e4d7280-3978-4154-e091-99c552473b31"
      },
      "source": [
        "print(target[idx])"
      ],
      "execution_count": null,
      "outputs": [
        {
          "output_type": "stream",
          "text": [
            "4\n"
          ],
          "name": "stdout"
        }
      ]
    },
    {
      "cell_type": "markdown",
      "metadata": {
        "id": "w8Jj6SPnlmMr"
      },
      "source": [
        "### 84 load_digit + train_test_split"
      ]
    },
    {
      "cell_type": "code",
      "metadata": {
        "colab": {
          "base_uri": "https://localhost:8080/"
        },
        "id": "1DvsXO0mlpMR",
        "outputId": "ed4c92d1-50d3-4980-cfe9-bc568bc3227a"
      },
      "source": [
        "import numpy as np\n",
        "import pandas as pd\n",
        "\n",
        "from sklearn.datasets import load_digits\n",
        "from sklearn.model_selection import train_test_split\n",
        "\n",
        "np.random.seed(42)\n",
        "data, target = load_digits(return_X_y=True)\n",
        "\n",
        "from sklearn.preprocessing import StandardScaler\n",
        "\n",
        "ss = StandardScaler() \n",
        "ss.fit_transform(data)\n",
        "\n",
        "from sklearn.model_selection import train_test_split\n",
        "\n",
        "data_train, data_test, target_train, target_test = train_test_split(data, target, random_state = 42)\n",
        "\n",
        "print('X_train shape:', data_train.shape)\n",
        "print('y_train shape:', target_train.shape)\n",
        "print('X_test shape:', data_test.shape)\n",
        "print('y_test shape:', target_test.shape)"
      ],
      "execution_count": null,
      "outputs": [
        {
          "output_type": "stream",
          "text": [
            "X_train shape: (1347, 64)\n",
            "y_train shape: (1347,)\n",
            "X_test shape: (450, 64)\n",
            "y_test shape: (450,)\n"
          ],
          "name": "stdout"
        }
      ]
    },
    {
      "cell_type": "markdown",
      "metadata": {
        "id": "8viWRyfhsCB-"
      },
      "source": [
        "### 85 load_digit + KNN"
      ]
    },
    {
      "cell_type": "code",
      "metadata": {
        "colab": {
          "base_uri": "https://localhost:8080/"
        },
        "id": "MNpfGRzjsFTi",
        "outputId": "e413e64d-4eb4-4e17-a82a-371c4781229a"
      },
      "source": [
        "import numpy as np\n",
        "import pandas as pd\n",
        "\n",
        "from sklearn.datasets import load_digits\n",
        "from sklearn.model_selection import train_test_split\n",
        "from sklearn.neighbors import KNeighborsClassifier\n",
        "\n",
        "np.random.seed(42)\n",
        "data, target = load_digits(return_X_y=True)\n",
        "data = data / data.max()\n",
        "\n",
        "X_train, X_test, y_train, y_test = train_test_split(data, target, random_state=42)\n",
        "\n",
        "knn = KNeighborsClassifier()\n",
        "\n",
        "knn.fit(X_train, y_train)\n",
        "\n",
        "print('KNN accuracy:',round(knn.score(X_test, y_test),4))\n"
      ],
      "execution_count": null,
      "outputs": [
        {
          "output_type": "stream",
          "text": [
            "KNN accuracy: 0.9933\n"
          ],
          "name": "stdout"
        }
      ]
    },
    {
      "cell_type": "markdown",
      "metadata": {
        "id": "qlLD8bKDtxMb"
      },
      "source": [
        "### 86 load_digit + LogisticRegression"
      ]
    },
    {
      "cell_type": "code",
      "metadata": {
        "colab": {
          "base_uri": "https://localhost:8080/"
        },
        "id": "Btk1D99ht1e0",
        "outputId": "08390b4c-387a-4c65-9ed2-d89d05eaaf22"
      },
      "source": [
        "import numpy as np\n",
        "import pandas as pd\n",
        "\n",
        "from sklearn.datasets import load_digits\n",
        "from sklearn.model_selection import train_test_split\n",
        "from sklearn.linear_model import LogisticRegression\n",
        "\n",
        "\n",
        "np.random.seed(42)\n",
        "data, target = load_digits(return_X_y=True)\n",
        "data = data / data.max()\n",
        "\n",
        "X_train, X_test, y_train, y_test = train_test_split(data, target, random_state=42)\n",
        "\n",
        "lr = LogisticRegression()\n",
        "\n",
        "lr.fit(X_train, y_train)\n",
        "\n",
        "print('Logistic Regression accuracy:', round(lr.score(X_test, y_test),4))"
      ],
      "execution_count": null,
      "outputs": [
        {
          "output_type": "stream",
          "text": [
            "Logistic Regression accuracy: 0.9689\n"
          ],
          "name": "stdout"
        },
        {
          "output_type": "stream",
          "text": [
            "/usr/local/lib/python3.7/dist-packages/sklearn/linear_model/_logistic.py:940: ConvergenceWarning: lbfgs failed to converge (status=1):\n",
            "STOP: TOTAL NO. of ITERATIONS REACHED LIMIT.\n",
            "\n",
            "Increase the number of iterations (max_iter) or scale the data as shown in:\n",
            "    https://scikit-learn.org/stable/modules/preprocessing.html\n",
            "Please also refer to the documentation for alternative solver options:\n",
            "    https://scikit-learn.org/stable/modules/linear_model.html#logistic-regression\n",
            "  extra_warning_msg=_LOGISTIC_SOLVER_CONVERGENCE_MSG)\n"
          ],
          "name": "stderr"
        }
      ]
    }
  ]
}